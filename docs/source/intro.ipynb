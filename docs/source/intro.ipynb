{
 "cells": [
  {
   "cell_type": "markdown",
   "metadata": {},
   "source": [
    "# CoxKAN Introductory Demo"
   ]
  },
  {
   "cell_type": "code",
   "execution_count": 4,
   "metadata": {},
   "outputs": [],
   "source": [
    "from coxkan import CoxKAN\n",
    "from sklearn.model_selection import train_test_split\n",
    "import numpy as np"
   ]
  },
  {
   "cell_type": "markdown",
   "metadata": {},
   "source": [
    "### Synthetic Dataset Example\n",
    "\n",
    "The code below generates a synthetic survival dataset under the hazard function\n",
    "\n",
    "$$\\text{Hazard, } h(t, \\mathbf{x}) = 0.01 e^{\\theta(\\mathbf{x})},$$\n",
    "\n",
    "where\n",
    "\n",
    "$$\\text{Log-Partial Hazard, }\\theta (\\mathbf{x}) = \\tanh (5x_1) + \\sin (2 \\pi x_2)$$\n",
    "\n",
    "and a **uniform censoring distribution**."
   ]
  },
  {
   "cell_type": "code",
   "execution_count": 5,
   "metadata": {},
   "outputs": [
    {
     "name": "stdout",
     "output_type": "stream",
     "text": [
      "Concordance index of true expression: 0.7524\n"
     ]
    },
    {
     "data": {
      "text/html": [
       "<div>\n",
       "<style scoped>\n",
       "    .dataframe tbody tr th:only-of-type {\n",
       "        vertical-align: middle;\n",
       "    }\n",
       "\n",
       "    .dataframe tbody tr th {\n",
       "        vertical-align: top;\n",
       "    }\n",
       "\n",
       "    .dataframe thead th {\n",
       "        text-align: right;\n",
       "    }\n",
       "</style>\n",
       "<table border=\"1\" class=\"dataframe\">\n",
       "  <thead>\n",
       "    <tr style=\"text-align: right;\">\n",
       "      <th></th>\n",
       "      <th>x1</th>\n",
       "      <th>x2</th>\n",
       "      <th>duration</th>\n",
       "      <th>event</th>\n",
       "    </tr>\n",
       "  </thead>\n",
       "  <tbody>\n",
       "    <tr>\n",
       "      <th>9254</th>\n",
       "      <td>0.541629</td>\n",
       "      <td>-0.706251</td>\n",
       "      <td>42.270669</td>\n",
       "      <td>1</td>\n",
       "    </tr>\n",
       "    <tr>\n",
       "      <th>1561</th>\n",
       "      <td>-0.526259</td>\n",
       "      <td>-0.492606</td>\n",
       "      <td>54.283488</td>\n",
       "      <td>1</td>\n",
       "    </tr>\n",
       "    <tr>\n",
       "      <th>1670</th>\n",
       "      <td>-0.238753</td>\n",
       "      <td>-0.326589</td>\n",
       "      <td>361.569903</td>\n",
       "      <td>1</td>\n",
       "    </tr>\n",
       "    <tr>\n",
       "      <th>6087</th>\n",
       "      <td>-0.588024</td>\n",
       "      <td>0.742029</td>\n",
       "      <td>57.335278</td>\n",
       "      <td>0</td>\n",
       "    </tr>\n",
       "    <tr>\n",
       "      <th>6669</th>\n",
       "      <td>-0.739364</td>\n",
       "      <td>-0.302907</td>\n",
       "      <td>95.975668</td>\n",
       "      <td>1</td>\n",
       "    </tr>\n",
       "  </tbody>\n",
       "</table>\n",
       "</div>"
      ],
      "text/plain": [
       "            x1        x2    duration  event\n",
       "9254  0.541629 -0.706251   42.270669      1\n",
       "1561 -0.526259 -0.492606   54.283488      1\n",
       "1670 -0.238753 -0.326589  361.569903      1\n",
       "6087 -0.588024  0.742029   57.335278      0\n",
       "6669 -0.739364 -0.302907   95.975668      1"
      ]
     },
     "execution_count": 5,
     "metadata": {},
     "output_type": "execute_result"
    }
   ],
   "source": [
    "from coxkan.datasets import create_dataset\n",
    "\n",
    "log_partial_hazard = lambda x1, x2: np.tanh(5*x1) + np.sin(2*np.pi*x2)\n",
    "\n",
    "df = create_dataset(log_partial_hazard, baseline_hazard=0.01, n_samples=10000, seed=42)\n",
    "df_train, df_test = train_test_split(df, test_size=0.2, random_state=42)\n",
    "\n",
    "df_train.head()"
   ]
  },
  {
   "cell_type": "markdown",
   "metadata": {},
   "source": [
    "Train CoxKAN:"
   ]
  },
  {
   "cell_type": "code",
   "execution_count": 6,
   "metadata": {},
   "outputs": [
    {
     "name": "stderr",
     "output_type": "stream",
     "text": [
      "train loss: 2.77e+00 | val loss: 2.50e+00: 100%|██████████████████| 100/100 [00:06<00:00, 15.48it/s]\n"
     ]
    },
    {
     "name": "stdout",
     "output_type": "stream",
     "text": [
      "\n",
      "CoxKAN C-Index:  0.7553786667818724\n"
     ]
    },
    {
     "data": {
      "image/png": "[encoded data removed]",
      "text/plain": [
       "<Figure size 500x200 with 3 Axes>"
      ]
     },
     "metadata": {},
     "output_type": "display_data"
    }
   ],
   "source": [
    "ckan = CoxKAN(width=[2,1], grid=5, seed=42)\n",
    "\n",
    "_ = ckan.train(\n",
    "    df_train, \n",
    "    df_test, \n",
    "    duration_col='duration', \n",
    "    event_col='event',\n",
    "    opt='Adam',\n",
    "    lr=0.01,\n",
    "    steps=100)\n",
    "\n",
    "# evaluate CoxKAN\n",
    "cindex = ckan.cindex(df_test)\n",
    "print(\"\\nCoxKAN C-Index: \", cindex)\n",
    "\n",
    "# plot CoxKAN\n",
    "fig = ckan.plot()"
   ]
  },
  {
   "cell_type": "markdown",
   "metadata": {},
   "source": [
    "Symbolic Fitting:"
   ]
  },
  {
   "cell_type": "code",
   "execution_count": 7,
   "metadata": {},
   "outputs": [
    {
     "name": "stderr",
     "output_type": "stream",
     "text": [
      "train loss: 2.77e+00 | val loss: 2.50e+00: 100%|████████████████████| 10/10 [00:01<00:00,  8.19it/s]\n"
     ]
    },
    {
     "data": {
      "text/latex": [
       "$\\displaystyle - 1.0 \\sin{\\left(6.3 x_{2} + 9.4 \\right)} + 1.0 \\tanh{\\left(4.4 x_{1} \\right)}$"
      ],
      "text/plain": [
       "-1.0*sin(6.3*x2 + 9.4) + 1.0*tanh(4.4*x1)"
      ]
     },
     "metadata": {},
     "output_type": "display_data"
    }
   ],
   "source": [
    "# auto-symbolic fitting\n",
    "_ = ckan.auto_symbolic(lib=['x^2', 'sin', 'exp', 'log', 'sqrt', 'tanh'], verbose=False)\n",
    "\n",
    "# train affine parameters\n",
    "_ = ckan.train(df_train, df_test, duration_col='duration', event_col='event', opt='LBFGS', steps=10)\n",
    "\n",
    "display(ckan.symbolic_formula(floating_digit=1)[0][0])"
   ]
  },
  {
   "cell_type": "markdown",
   "metadata": {},
   "source": [
    "We see CoxKAN approximately recovers the true log-partial hazard:\n",
    "\n",
    "$\\hat{\\theta}_{KAN} = \\tanh(4.4 x_1) -\\sin(6.3 x_2 + 9.4) \\approx \\tanh(5 x_1) -\\sin(2 \\pi x_2 + 3 \\pi) = \\tanh(5 x_1)+ \\sin(2 \\pi x_2)$"
   ]
  },
  {
   "cell_type": "markdown",
   "metadata": {},
   "source": [
    "### Real dataset example"
   ]
  },
  {
   "cell_type": "code",
   "execution_count": 8,
   "metadata": {},
   "outputs": [
    {
     "name": "stdout",
     "output_type": "stream",
     "text": [
      "Using default train-test split (used in DeepSurv paper).\n"
     ]
    },
    {
     "name": "stderr",
     "output_type": "stream",
     "text": [
      "train loss: 2.60e+00 | val loss: 2.41e+00: 100%|██████████████████| 100/100 [00:01<00:00, 55.04it/s]\n"
     ]
    },
    {
     "name": "stdout",
     "output_type": "stream",
     "text": [
      "\n",
      "CoxKAN C-Index:  0.6798424912829145\n"
     ]
    },
    {
     "data": {
      "text/latex": [
       "$\\displaystyle \\begin{cases} 0.06 & \\text{for}\\: meno = 0 \\\\0.22 & \\text{for}\\: meno = 1.0 \\\\\\text{NaN} & \\text{otherwise} \\end{cases} + \\begin{cases} 0.23 & \\text{for}\\: hormon = 0 \\\\-0.11 & \\text{for}\\: hormon = 1.0 \\\\\\text{NaN} & \\text{otherwise} \\end{cases} + \\begin{cases} -0.16 & \\text{for}\\: size = 0 \\\\0.09 & \\text{for}\\: size = 1.0 \\\\0.36 & \\text{for}\\: size = 2.0 \\\\\\text{NaN} & \\text{otherwise} \\end{cases} + 0.759 - 1.16 e^{- 0.03 \\left(- nodes - 0.58\\right)^{2}} - 0.32 e^{- 5.59 \\left(0.02 age - 1\\right)^{2}}$"
      ],
      "text/plain": [
       "Piecewise((0.06, Eq(meno, 0)), (0.22, Eq(meno, 1.0)), (nan, True)) + Piecewise((0.23, Eq(hormon, 0)), (-0.11, Eq(hormon, 1.0)), (nan, True)) + Piecewise((-0.16, Eq(size, 0)), (0.09, Eq(size, 1.0)), (0.36, Eq(size, 2.0)), (nan, True)) + 0.759 - 1.16*exp(-0.03*(-nodes - 0.58)**2) - 0.32*exp(-5.59*(0.02*age - 1)**2)"
      ]
     },
     "metadata": {},
     "output_type": "display_data"
    },
    {
     "data": {
      "image/png": "[encoded data removed]",
      "text/plain": [
       "<Figure size 500x200 with 8 Axes>"
      ]
     },
     "metadata": {},
     "output_type": "display_data"
    }
   ],
   "source": [
    "from coxkan.datasets import gbsg\n",
    "\n",
    "# load dataset\n",
    "df_train, df_test = gbsg.load(split=True)\n",
    "name, duration_col, event_col, covariates = gbsg.metadata()\n",
    "\n",
    "# init CoxKAN\n",
    "ckan = CoxKAN(width=[len(covariates), 1], seed=42)\n",
    "\n",
    "# pre-process and register data\n",
    "df_train, df_test = ckan.process_data(df_train, df_test, duration_col, event_col, normalization='standard')\n",
    "\n",
    "# train CoxKAN\n",
    "_ = ckan.train(\n",
    "    df_train, \n",
    "    df_test, \n",
    "    duration_col=duration_col, \n",
    "    event_col=event_col,\n",
    "    opt='Adam',\n",
    "    lr=0.01,\n",
    "    steps=100)\n",
    "\n",
    "print(\"\\nCoxKAN C-Index: \", ckan.cindex(df_test))\n",
    "\n",
    "# Auto symbolic fitting\n",
    "fit_success = ckan.auto_symbolic(verbose=False)\n",
    "display(ckan.symbolic_formula(floating_digit=2)[0][0])\n",
    "\n",
    "# Plot coxkan\n",
    "fig = ckan.plot(beta=20)"
   ]
  }
 ],
 "metadata": {
  "kernelspec": {
   "display_name": "wdk",
   "language": "python",
   "name": "python3"
  },
  "language_info": {
   "codemirror_mode": {
    "name": "ipython",
    "version": 3
   },
   "file_extension": ".py",
   "mimetype": "text/x-python",
   "name": "python",
   "nbconvert_exporter": "python",
   "pygments_lexer": "ipython3",
   "version": "3.12.4"
  }
 },
 "nbformat": 4,
 "nbformat_minor": 2
}
