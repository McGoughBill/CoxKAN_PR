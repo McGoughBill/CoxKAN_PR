{
 "cells": [
  {
   "cell_type": "code",
   "execution_count": 1,
   "metadata": {},
   "outputs": [],
   "source": [
    "# Install coxkan\n",
    "! pip install coxkan"
   ]
  },
  {
   "cell_type": "markdown",
   "metadata": {},
   "source": [
    "# Hyperparameter searching\n",
    "\n",
    "How to perform hyperparameter searches (sweeps) using the `coxkan.hyperparameter_search` module"
   ]
  },
  {
   "cell_type": "code",
   "execution_count": 2,
   "metadata": {},
   "outputs": [
    {
     "name": "stdout",
     "output_type": "stream",
     "text": [
      "Concordance index of true expression: 0.6139\n"
     ]
    },
    {
     "name": "stderr",
     "output_type": "stream",
     "text": [
      "/Users/willknottenbelt/miniconda3/envs/reprod-env2/lib/python3.12/site-packages/tqdm/auto.py:21: TqdmWarning: IProgress not found. Please update jupyter and ipywidgets. See https://ipywidgets.readthedocs.io/en/stable/user_install.html\n",
      "  from .autonotebook import tqdm as notebook_tqdm\n"
     ]
    }
   ],
   "source": [
    "from coxkan import CoxKAN\n",
    "from coxkan.datasets import create_dataset\n",
    "from coxkan.hyperparam_search import Sweep\n",
    "from sklearn.model_selection import train_test_split\n",
    "import numpy as np\n",
    "\n",
    "# Generate a synthetic dataset\n",
    "log_partial_hazard = lambda x1, x2: x1**2 + x2**2\n",
    "df = create_dataset(log_partial_hazard, baseline_hazard=0.01, n_samples=1000)\n",
    "\n",
    "df_train_full, df_test = train_test_split(df, test_size=0.2, random_state=42)\n",
    "df_train, df_val = train_test_split(df_train_full, test_size=0.2, random_state=42)"
   ]
  },
  {
   "cell_type": "markdown",
   "metadata": {},
   "source": [
    "### Sweep using validation set"
   ]
  },
  {
   "cell_type": "code",
   "execution_count": 3,
   "metadata": {},
   "outputs": [
    {
     "name": "stderr",
     "output_type": "stream",
     "text": [
      "[I 2024-08-15 14:00:59,645] A new study created in memory with name: no-name-969f6d6f-0b8e-4942-bd81-3cbead7c9fc8\n",
      "Best trial: 0. Best value: 0.573135:  10%|█         | 1/10 [00:01<00:14,  1.64s/it]"
     ]
    },
    {
     "name": "stdout",
     "output_type": "stream",
     "text": [
      "Best model loaded (early stopping).\n",
      "Run 0 c-index: 0.5731345885634589\n",
      "[I 2024-08-15 14:01:01,299] Trial 0 finished with value: 0.5731345885634589 and parameters: {'num_hidden': 0, 'hidden_dim': 5, 'base_fun': 'silu', 'grid': 3, 'k': 3, 'noise_scale': 0.031198904067240532, 'noise_scale_base': 0.011616722433639893, 'early_stopping': True, 'lr': 0.013311216080736894, 'steps': 52, 'lamb': 0.014548647782429914, 'lamb_entropy': 13, 'lamb_coef': 1, 'prune_threshold': 0.009091248360355032}. Best is trial 0 with value: 0.5731345885634589.\n"
     ]
    },
    {
     "name": "stderr",
     "output_type": "stream",
     "text": [
      "Best trial: 1. Best value: 0.614888:  20%|██        | 2/10 [00:02<00:07,  1.00it/s]"
     ]
    },
    {
     "name": "stdout",
     "output_type": "stream",
     "text": [
      "Run 0 c-index: 0.6148884239888424\n",
      "[I 2024-08-15 14:01:01,841] Trial 1 finished with value: 0.6148884239888424 and parameters: {'num_hidden': 0, 'hidden_dim': 2, 'base_fun': 'silu', 'grid': 3, 'k': 3, 'noise_scale': 0.1223705789444759, 'noise_scale_base': 0.027898772130408367, 'early_stopping': False, 'lr': 0.0023345864076016252, 'steps': 129, 'lamb': 0.002995106732375396, 'lamb_entropy': 8, 'lamb_coef': 3, 'prune_threshold': 0.0023225206359998862}. Best is trial 1 with value: 0.6148884239888424.\n"
     ]
    },
    {
     "name": "stderr",
     "output_type": "stream",
     "text": [
      "Best trial: 1. Best value: 0.614888:  30%|███       | 3/10 [00:02<00:04,  1.41it/s]"
     ]
    },
    {
     "name": "stdout",
     "output_type": "stream",
     "text": [
      "Run 0 c-index: 0.5007845188284519\n",
      "[I 2024-08-15 14:01:02,215] Trial 2 finished with value: 0.5007845188284519 and parameters: {'num_hidden': 1, 'hidden_dim': 1, 'base_fun': 'linear', 'grid': 5, 'k': 3, 'noise_scale': 0.16167946962329224, 'noise_scale_base': 0.06092275383467414, 'early_stopping': False, 'lr': 0.0020914981329035616, 'steps': 62, 'lamb': 0.007427653651669052, 'lamb_entropy': 0, 'lamb_coef': 5, 'prune_threshold': 0.012938999080000846}. Best is trial 1 with value: 0.6148884239888424.\n"
     ]
    },
    {
     "name": "stderr",
     "output_type": "stream",
     "text": [
      "Best trial: 3. Best value: 0.61576:  40%|████      | 4/10 [00:04<00:08,  1.37s/it] "
     ]
    },
    {
     "name": "stdout",
     "output_type": "stream",
     "text": [
      "Best model loaded (early stopping).\n",
      "Run 0 c-index: 0.6157601115760112\n",
      "[I 2024-08-15 14:01:04,591] Trial 3 finished with value: 0.6157601115760112 and parameters: {'num_hidden': 1, 'hidden_dim': 2, 'base_fun': 'linear', 'grid': 3, 'k': 3, 'noise_scale': 0.19391692555291173, 'noise_scale_base': 0.15502656467222292, 'early_stopping': True, 'lr': 0.00621870472776908, 'steps': 143, 'lamb': 0.0013273875307787924, 'lamb_entropy': 3, 'lamb_coef': 0, 'prune_threshold': 0.016266516538163217}. Best is trial 3 with value: 0.6157601115760112.\n"
     ]
    },
    {
     "name": "stderr",
     "output_type": "stream",
     "text": [
      "Best trial: 4. Best value: 0.623082:  50%|█████     | 5/10 [00:06<00:07,  1.41s/it]"
     ]
    },
    {
     "name": "stdout",
     "output_type": "stream",
     "text": [
      "Best model loaded (early stopping).\n",
      "Run 0 c-index: 0.6230822873082287\n",
      "[I 2024-08-15 14:01:06,072] Trial 4 finished with value: 0.6230822873082287 and parameters: {'num_hidden': 0, 'hidden_dim': 2, 'base_fun': 'silu', 'grid': 3, 'k': 3, 'noise_scale': 0.1085392166316497, 'noise_scale_base': 0.02818484499495253, 'early_stopping': True, 'lr': 0.09133995846860977, 'steps': 127, 'lamb': 0.002980735223012586, 'lamb_entropy': 0, 'lamb_coef': 4, 'prune_threshold': 0.035342867192380854}. Best is trial 4 with value: 0.6230822873082287.\n"
     ]
    },
    {
     "name": "stderr",
     "output_type": "stream",
     "text": [
      "Best trial: 4. Best value: 0.623082:  60%|██████    | 6/10 [00:09<00:07,  1.96s/it]"
     ]
    },
    {
     "name": "stdout",
     "output_type": "stream",
     "text": [
      "Best model loaded (early stopping).\n",
      "Run 0 c-index: 0.571652719665272\n",
      "[I 2024-08-15 14:01:09,105] Trial 5 finished with value: 0.571652719665272 and parameters: {'num_hidden': 1, 'hidden_dim': 4, 'base_fun': 'linear', 'grid': 3, 'k': 3, 'noise_scale': 0.17262068517511872, 'noise_scale_base': 0.12465962536551159, 'early_stopping': True, 'lr': 0.0008569331925053991, 'steps': 82, 'lamb': 0.01094409267507096, 'lamb_entropy': 10, 'lamb_coef': 5, 'prune_threshold': 0.023610746258097465}. Best is trial 4 with value: 0.6230822873082287.\n"
     ]
    },
    {
     "name": "stderr",
     "output_type": "stream",
     "text": [
      "Best trial: 4. Best value: 0.623082:  70%|███████   | 7/10 [00:11<00:05,  1.86s/it]"
     ]
    },
    {
     "name": "stdout",
     "output_type": "stream",
     "text": [
      "Best model loaded (early stopping).\n",
      "Run 0 c-index: 0.5295502092050209\n",
      "[I 2024-08-15 14:01:10,742] Trial 6 finished with value: 0.5295502092050209 and parameters: {'num_hidden': 0, 'hidden_dim': 4, 'base_fun': 'silu', 'grid': 5, 'k': 3, 'noise_scale': 0.09875911927287816, 'noise_scale_base': 0.10454656587639882, 'early_stopping': True, 'lr': 0.00021070472806578247, 'steps': 53, 'lamb': 0.009546156168956706, 'lamb_entropy': 5, 'lamb_coef': 3, 'prune_threshold': 0.04537832369630465}. Best is trial 4 with value: 0.6230822873082287.\n"
     ]
    },
    {
     "name": "stderr",
     "output_type": "stream",
     "text": [
      "Best trial: 4. Best value: 0.623082:  80%|████████  | 8/10 [00:12<00:03,  1.73s/it]"
     ]
    },
    {
     "name": "stdout",
     "output_type": "stream",
     "text": [
      "Best model loaded (early stopping).\n",
      "Run 0 c-index: 0.6188981868898187\n",
      "[I 2024-08-15 14:01:12,208] Trial 7 finished with value: 0.6188981868898187 and parameters: {'num_hidden': 0, 'hidden_dim': 3, 'base_fun': 'silu', 'grid': 3, 'k': 3, 'noise_scale': 0.05795029058275361, 'noise_scale_base': 0.03224425745080089, 'early_stopping': True, 'lr': 0.007947147424653748, 'steps': 138, 'lamb': 0.012055081153486717, 'lamb_entropy': 2, 'lamb_coef': 5, 'prune_threshold': 0.026967112095782536}. Best is trial 4 with value: 0.6230822873082287.\n"
     ]
    },
    {
     "name": "stderr",
     "output_type": "stream",
     "text": [
      "Best trial: 4. Best value: 0.623082:  90%|█████████ | 9/10 [00:16<00:02,  2.32s/it]"
     ]
    },
    {
     "name": "stdout",
     "output_type": "stream",
     "text": [
      "Best model loaded (early stopping).\n",
      "Run 0 c-index: 0.553347280334728\n",
      "[I 2024-08-15 14:01:15,814] Trial 8 finished with value: 0.553347280334728 and parameters: {'num_hidden': 1, 'hidden_dim': 5, 'base_fun': 'silu', 'grid': 3, 'k': 3, 'noise_scale': 0.08542155772525127, 'noise_scale_base': 0.16360295318449863, 'early_stopping': True, 'lr': 0.0034059785435329977, 'steps': 92, 'lamb': 0.0033316171570609535, 'lamb_entropy': 1, 'lamb_coef': 2, 'prune_threshold': 0.04714548519562596}. Best is trial 4 with value: 0.6230822873082287.\n"
     ]
    },
    {
     "name": "stderr",
     "output_type": "stream",
     "text": [
      "Best trial: 4. Best value: 0.623082: 100%|██████████| 10/10 [00:17<00:00,  1.77s/it]"
     ]
    },
    {
     "name": "stdout",
     "output_type": "stream",
     "text": [
      "Best model loaded (early stopping).\n",
      "Run 0 c-index: 0.610965829846583\n",
      "[I 2024-08-15 14:01:17,310] Trial 9 finished with value: 0.610965829846583 and parameters: {'num_hidden': 0, 'hidden_dim': 3, 'base_fun': 'silu', 'grid': 5, 'k': 3, 'noise_scale': 0.19248945898842226, 'noise_scale_base': 0.05035645916507284, 'early_stopping': True, 'lr': 0.000715354779469316, 'steps': 53, 'lamb': 0.009143465009698452, 'lamb_entropy': 8, 'lamb_coef': 0, 'prune_threshold': 0.013932323211830572}. Best is trial 4 with value: 0.6230822873082287.\n"
     ]
    },
    {
     "name": "stderr",
     "output_type": "stream",
     "text": [
      "\n"
     ]
    },
    {
     "data": {
      "text/plain": [
       "<optuna.study.study.Study at 0x36058bef0>"
      ]
     },
     "execution_count": 3,
     "metadata": {},
     "output_type": "execute_result"
    }
   ],
   "source": [
    "sweep = Sweep(search_config='./search_config.yml')\n",
    "\n",
    "sweep.run_val(df_train, df_val, duration_col='duration', event_col='event', \n",
    "              n_trials=10, # number of trials\n",
    "              n_runs_per_trial=1, # number of runs for each set of hyperparameters\n",
    "              save_params='./result.yml',\n",
    "              seed=42) # save the best hyperparameters to this file"
   ]
  },
  {
   "cell_type": "code",
   "execution_count": 4,
   "metadata": {},
   "outputs": [
    {
     "name": "stderr",
     "output_type": "stream",
     "text": [
      "train loss: 2.33e+00 | val loss: 2.02e+00: 100%|█████████████████| 300/300 [00:01<00:00, 152.86it/s]"
     ]
    },
    {
     "name": "stdout",
     "output_type": "stream",
     "text": [
      "Best model loaded (early stopping).\n"
     ]
    },
    {
     "name": "stderr",
     "output_type": "stream",
     "text": [
      "\n"
     ]
    },
    {
     "data": {
      "text/plain": [
       "0.6236619090098127"
      ]
     },
     "execution_count": 4,
     "metadata": {},
     "output_type": "execute_result"
    }
   ],
   "source": [
    "import yaml \n",
    "\n",
    "with open('./result.yml', 'r') as f:\n",
    "    config = yaml.safe_load(f)\n",
    "\n",
    "ckan = CoxKAN(**config['init_params'])\n",
    "\n",
    "if config['train_params']['early_stopping']:\n",
    "    ckan.train(df_train, df_val, duration_col='duration', event_col='event', **config['train_params'])\n",
    "else:\n",
    "    ckan.train(df_train_full, None, duration_col='duration', event_col='event', **config['train_params'])\n",
    "\n",
    "ckan.prune_edges(config['prune_threshold'])\n",
    "\n",
    "ckan.cindex(df_test)"
   ]
  },
  {
   "cell_type": "markdown",
   "metadata": {},
   "source": [
    "### Cross-Validation sweep"
   ]
  },
  {
   "cell_type": "code",
   "execution_count": 5,
   "metadata": {},
   "outputs": [
    {
     "name": "stderr",
     "output_type": "stream",
     "text": [
      "[I 2024-08-15 14:01:19,293] A new study created in memory with name: no-name-47a77c2f-36e0-4421-b506-f7795eeae521\n",
      "  0%|          | 0/10 [00:00<?, ?it/s]"
     ]
    },
    {
     "name": "stdout",
     "output_type": "stream",
     "text": [
      "Fold 0 c-index: 0.5921134249003102\n",
      "Fold 1 c-index: 0.5487295825771324\n",
      "Fold 2 c-index: 0.5871625245843018\n"
     ]
    },
    {
     "name": "stderr",
     "output_type": "stream",
     "text": [
      "Best trial: 0. Best value: 0.569219:  10%|█         | 1/10 [00:03<00:28,  3.17s/it]"
     ]
    },
    {
     "name": "stdout",
     "output_type": "stream",
     "text": [
      "Fold 3 c-index: 0.5488721804511278\n",
      "[I 2024-08-15 14:01:22,462] Trial 0 finished with value: 0.5692194281282181 and parameters: {'num_hidden': 1, 'hidden_dim': 2, 'base_fun': 'linear', 'grid': 4, 'k': 3, 'noise_scale': 0.005761103131819723, 'noise_scale_base': 0.13885886579345655, 'early_stopping': False, 'lr': 0.09160714155043215, 'steps': 118, 'lamb': 0.013312884060624764, 'lamb_entropy': 13, 'lamb_coef': 1, 'prune_threshold': 0.02517798341672471}. Best is trial 0 with value: 0.5692194281282181.\n",
      "Best model loaded (early stopping).\n",
      "Fold 0 c-index: 0.5254762959680992\n",
      "Best model loaded (early stopping).\n",
      "Fold 1 c-index: 0.5005444646098004\n",
      "Best model loaded (early stopping).\n",
      "Fold 2 c-index: 0.4983908456999821\n"
     ]
    },
    {
     "name": "stderr",
     "output_type": "stream",
     "text": [
      "Best trial: 0. Best value: 0.569219:  20%|██        | 2/10 [00:17<01:17,  9.65s/it]"
     ]
    },
    {
     "name": "stdout",
     "output_type": "stream",
     "text": [
      "Best model loaded (early stopping).\n",
      "Fold 3 c-index: 0.5061477222467935\n",
      "[I 2024-08-15 14:01:36,649] Trial 1 finished with value: 0.5076398321311688 and parameters: {'num_hidden': 1, 'hidden_dim': 5, 'base_fun': 'linear', 'grid': 5, 'k': 3, 'noise_scale': 0.03604483372105134, 'noise_scale_base': 0.15177672314541957, 'early_stopping': True, 'lr': 0.00010212400656174308, 'steps': 146, 'lamb': 0.0127156683050421, 'lamb_entropy': 12, 'lamb_coef': 2, 'prune_threshold': 0.0007681710338059034}. Best is trial 0 with value: 0.5692194281282181.\n",
      "Fold 0 c-index: 0.5054497120070891\n",
      "Fold 1 c-index: 0.5\n",
      "Fold 2 c-index: 0.4808242445914536\n"
     ]
    },
    {
     "name": "stderr",
     "output_type": "stream",
     "text": [
      "Best trial: 0. Best value: 0.569219:  30%|███       | 3/10 [00:20<00:47,  6.85s/it]"
     ]
    },
    {
     "name": "stdout",
     "output_type": "stream",
     "text": [
      "Fold 3 c-index: 0.5150818222025653\n",
      "[I 2024-08-15 14:01:40,159] Trial 2 finished with value: 0.5003389447002771 and parameters: {'num_hidden': 1, 'hidden_dim': 3, 'base_fun': 'silu', 'grid': 4, 'k': 3, 'noise_scale': 0.15092634667098273, 'noise_scale_base': 0.16915885847649653, 'early_stopping': False, 'lr': 0.013855793600165379, 'steps': 108, 'lamb': 0.011767120092815676, 'lamb_entropy': 13, 'lamb_coef': 0, 'prune_threshold': 0.033334356170348536}. Best is trial 0 with value: 0.5692194281282181.\n",
      "Fold 0 c-index: 0.6419140451927338\n",
      "Fold 1 c-index: 0.5866606170598911\n",
      "Fold 2 c-index: 0.5886822814232076\n"
     ]
    },
    {
     "name": "stderr",
     "output_type": "stream",
     "text": [
      "Best trial: 3. Best value: 0.599715:  40%|████      | 4/10 [00:24<00:33,  5.65s/it]"
     ]
    },
    {
     "name": "stdout",
     "output_type": "stream",
     "text": [
      "Fold 3 c-index: 0.5816010614772225\n",
      "[I 2024-08-15 14:01:43,966] Trial 3 finished with value: 0.5997145012882636 and parameters: {'num_hidden': 1, 'hidden_dim': 3, 'base_fun': 'linear', 'grid': 5, 'k': 3, 'noise_scale': 0.08365213158503833, 'noise_scale_base': 0.1936601698253311, 'early_stopping': False, 'lr': 0.005006356684698013, 'steps': 137, 'lamb': 0.0054486908189243875, 'lamb_entropy': 6, 'lamb_coef': 0, 'prune_threshold': 0.0020421609831000223}. Best is trial 3 with value: 0.5997145012882636.\n",
      "Fold 0 c-index: 0.6404962339388569\n",
      "Fold 1 c-index: 0.5934664246823956\n",
      "Fold 2 c-index: 0.5473806543894153\n"
     ]
    },
    {
     "name": "stderr",
     "output_type": "stream",
     "text": [
      "Best trial: 3. Best value: 0.599715:  50%|█████     | 5/10 [00:26<00:21,  4.21s/it]"
     ]
    },
    {
     "name": "stdout",
     "output_type": "stream",
     "text": [
      "Fold 3 c-index: 0.5749668288367978\n",
      "[I 2024-08-15 14:01:45,627] Trial 4 finished with value: 0.5890775354618665 and parameters: {'num_hidden': 0, 'hidden_dim': 3, 'base_fun': 'silu', 'grid': 5, 'k': 3, 'noise_scale': 0.03389261833046593, 'noise_scale_base': 0.06292264914726667, 'early_stopping': False, 'lr': 0.07261973176751384, 'steps': 111, 'lamb': 0.005915624001054734, 'lamb_entropy': 13, 'lamb_coef': 1, 'prune_threshold': 0.041795388147832443}. Best is trial 3 with value: 0.5997145012882636.\n",
      "Best model loaded (early stopping).\n",
      "Fold 0 c-index: 0.5945059813912273\n",
      "Best model loaded (early stopping).\n",
      "Fold 1 c-index: 0.5582577132486388\n",
      "Best model loaded (early stopping).\n",
      "Fold 2 c-index: 0.5862685499731808\n"
     ]
    },
    {
     "name": "stderr",
     "output_type": "stream",
     "text": [
      "Best trial: 3. Best value: 0.599715:  60%|██████    | 6/10 [00:34<00:22,  5.72s/it]"
     ]
    },
    {
     "name": "stdout",
     "output_type": "stream",
     "text": [
      "Best model loaded (early stopping).\n",
      "Fold 3 c-index: 0.545422379478107\n",
      "[I 2024-08-15 14:01:54,268] Trial 5 finished with value: 0.5711136560227885 and parameters: {'num_hidden': 1, 'hidden_dim': 2, 'base_fun': 'linear', 'grid': 3, 'k': 3, 'noise_scale': 0.19678864651095512, 'noise_scale_base': 0.04629897529137772, 'early_stopping': True, 'lr': 0.004340819641538362, 'steps': 132, 'lamb': 0.013312357931531689, 'lamb_entropy': 13, 'lamb_coef': 2, 'prune_threshold': 0.0018430695330362346}. Best is trial 3 with value: 0.5997145012882636.\n",
      "Best model loaded (early stopping).\n",
      "Fold 0 c-index: 0.6445724412937528\n",
      "Best model loaded (early stopping).\n",
      "Fold 1 c-index: 0.5779491833030853\n",
      "Best model loaded (early stopping).\n",
      "Fold 2 c-index: 0.5539066690505989\n"
     ]
    },
    {
     "name": "stderr",
     "output_type": "stream",
     "text": [
      "Best trial: 3. Best value: 0.599715:  70%|███████   | 7/10 [00:48<00:24,  8.31s/it]"
     ]
    },
    {
     "name": "stdout",
     "output_type": "stream",
     "text": [
      "Best model loaded (early stopping).\n",
      "Fold 3 c-index: 0.5951348960636886\n",
      "[I 2024-08-15 14:02:07,912] Trial 6 finished with value: 0.5928907974277815 and parameters: {'num_hidden': 1, 'hidden_dim': 5, 'base_fun': 'linear', 'grid': 3, 'k': 3, 'noise_scale': 0.1107043559274616, 'noise_scale_base': 0.1611410345119494, 'early_stopping': True, 'lr': 0.007458682185923105, 'steps': 135, 'lamb': 0.0011069010646453624, 'lamb_entropy': 11, 'lamb_coef': 5, 'prune_threshold': 0.03098769194034892}. Best is trial 3 with value: 0.5997145012882636.\n",
      "Fold 0 c-index: 0.6227735932653965\n",
      "Fold 1 c-index: 0.5574410163339383\n",
      "Fold 2 c-index: 0.5652601466118362\n"
     ]
    },
    {
     "name": "stderr",
     "output_type": "stream",
     "text": [
      "Best trial: 3. Best value: 0.599715:  80%|████████  | 8/10 [00:49<00:12,  6.09s/it]"
     ]
    },
    {
     "name": "stdout",
     "output_type": "stream",
     "text": [
      "Fold 3 c-index: 0.567359575409111\n",
      "[I 2024-08-15 14:02:09,264] Trial 7 finished with value: 0.5782085829050705 and parameters: {'num_hidden': 0, 'hidden_dim': 3, 'base_fun': 'silu', 'grid': 3, 'k': 3, 'noise_scale': 0.15087783173212, 'noise_scale_base': 0.010510014311042416, 'early_stopping': False, 'lr': 0.001874659985300332, 'steps': 97, 'lamb': 0.010625574038749704, 'lamb_entropy': 3, 'lamb_coef': 0, 'prune_threshold': 0.011714877789290357}. Best is trial 3 with value: 0.5997145012882636.\n",
      "Fold 0 c-index: 0.6376606114311032\n",
      "Fold 1 c-index: 0.5601633393829402\n",
      "Fold 2 c-index: 0.5764348292508493\n"
     ]
    },
    {
     "name": "stderr",
     "output_type": "stream",
     "text": [
      "Best trial: 3. Best value: 0.599715:  90%|█████████ | 9/10 [00:52<00:04,  4.97s/it]"
     ]
    },
    {
     "name": "stdout",
     "output_type": "stream",
     "text": [
      "Fold 3 c-index: 0.6018575851393189\n",
      "[I 2024-08-15 14:02:11,779] Trial 8 finished with value: 0.5940290913010529 and parameters: {'num_hidden': 1, 'hidden_dim': 3, 'base_fun': 'linear', 'grid': 3, 'k': 3, 'noise_scale': 0.04087160724549735, 'noise_scale_base': 0.14106211885762818, 'early_stopping': False, 'lr': 0.014822313350534654, 'steps': 78, 'lamb': 0.011667028202088986, 'lamb_entropy': 8, 'lamb_coef': 3, 'prune_threshold': 0.005129942095985285}. Best is trial 3 with value: 0.5997145012882636.\n"
     ]
    },
    {
     "name": "stderr",
     "output_type": "stream",
     "text": [
      "Best trial: 3. Best value: 0.599715: 100%|██████████| 10/10 [00:52<00:00,  5.29s/it]"
     ]
    },
    {
     "name": "stdout",
     "output_type": "stream",
     "text": [
      "Fold 0 c-index: 0.5293752769162605\n",
      "[I 2024-08-15 14:02:12,156] Trial 9 pruned. \n"
     ]
    },
    {
     "name": "stderr",
     "output_type": "stream",
     "text": [
      "\n"
     ]
    }
   ],
   "source": [
    "study = sweep.run_cv(df_train, duration_col='duration', event_col='event', \n",
    "                     n_trials=10,\n",
    "                     n_folds=4,\n",
    "                     save_params='./result_cv.yml',\n",
    "                     verbose=0)\n"
   ]
  },
  {
   "cell_type": "code",
   "execution_count": 7,
   "metadata": {},
   "outputs": [
    {
     "name": "stderr",
     "output_type": "stream",
     "text": [
      "train loss: 2.38e+00: 100%|███████████████████████████████████████| 137/137 [00:01<00:00, 68.76it/s]\n"
     ]
    },
    {
     "name": "stdout",
     "output_type": "stream",
     "text": [
      "Pruned activation (0,0,1)\n",
      "Pruned activation (0,1,0)\n",
      "Pruned activation (0,1,1)\n",
      "Pruned activation (1,1,0)\n"
     ]
    },
    {
     "data": {
      "text/plain": [
       "0.6173059768064229"
      ]
     },
     "execution_count": 7,
     "metadata": {},
     "output_type": "execute_result"
    }
   ],
   "source": [
    "import yaml \n",
    "\n",
    "with open('./result_cv.yml', 'r') as f:\n",
    "    config = yaml.safe_load(f)\n",
    "\n",
    "ckan = CoxKAN(**config['init_params'])\n",
    "\n",
    "if config['train_params']['early_stopping']:\n",
    "    ckan.train(df_train, df_val, duration_col='duration', event_col='event', **config['train_params'])\n",
    "else:\n",
    "    ckan.train(df_train_full, None, duration_col='duration', event_col='event', **config['train_params'])\n",
    "\n",
    "ckan.prune_edges(config['prune_threshold'])\n",
    "\n",
    "ckan.cindex(df_test)"
   ]
  }
 ],
 "metadata": {
  "kernelspec": {
   "display_name": "coxkan-test",
   "language": "python",
   "name": "python3"
  },
  "language_info": {
   "codemirror_mode": {
    "name": "ipython",
    "version": 3
   },
   "file_extension": ".py",
   "mimetype": "text/x-python",
   "name": "python",
   "nbconvert_exporter": "python",
   "pygments_lexer": "ipython3",
   "version": "3.12.4"
  }
 },
 "nbformat": 4,
 "nbformat_minor": 2
}
