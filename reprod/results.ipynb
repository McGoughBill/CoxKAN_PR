{
 "cells": [
  {
   "cell_type": "code",
   "execution_count": 2,
   "metadata": {},
   "outputs": [],
   "source": [
    "import os \n",
    "import pickle\n",
    "from pathlib import Path\n",
    "import yaml\n",
    "from coxkan import CoxKAN\n",
    "import sympy \n",
    "from sympy.printing.latex import latex\n",
    "\n",
    "def format_cindex(input_string):\n",
    "    return input_string[:9] + \"\\\\newline \" + input_string[9:]\n",
    "\n",
    "def ex_round(ex1, floating_digit=4):\n",
    "    ex2 = ex1\n",
    "    for a in sympy.preorder_traversal(ex1):\n",
    "        if isinstance(a, sympy.Float):\n",
    "            ex2 = ex2.subs(a, round(a, floating_digit))\n",
    "    return ex2"
   ]
  },
  {
   "cell_type": "markdown",
   "metadata": {},
   "source": [
    "# Simulation studies (synthetic datasets)"
   ]
  },
  {
   "cell_type": "code",
   "execution_count": 15,
   "metadata": {},
   "outputs": [
    {
     "name": "stdout",
     "output_type": "stream",
     "text": [
      "True CoxPH CoxKAN_Symbolic\n",
      "-------------------------\n",
      "Experiment: sim_gaussian\n",
      "0.759744 \\newline (0.759, 0.760) & 0.499213 \\newline (0.497, 0.500) & 0.759739 \\newline (0.760, 0.762)\n",
      "5.0 e^{- 2.0 x_{1}^{2} - 2.0 x_{2}^{2}}\n"
     ]
    },
    {
     "data": {
      "text/latex": [
       "$\\displaystyle 5.0 e^{- 2.0 x_{1}^{2} - 2.0 x_{2}^{2}}$"
      ],
      "text/plain": [
       "5.0*exp(-2.0*x1**2 - 2.0*x2**2)"
      ]
     },
     "metadata": {},
     "output_type": "display_data"
    },
    {
     "name": "stdout",
     "output_type": "stream",
     "text": [
      "-0.0009 * x1 + -0.0037 * x2 + 0.0159 * noise1 + -0.0134 * noise2\n",
      "-------------------------\n",
      "Experiment: sim_depth_1\n",
      "0.759795 \\newline (0.759, 0.761) & 0.688116 \\newline (0.688, 0.690) & 0.759562 \\newline (0.759, 0.761)\n",
      "1.0 x_{3}^{2} - 1.0 \\sin{\\left(6.3 x_{2} - 9.4 \\right)} + 1.0 \\tanh{\\left(5.1 x_{1} \\right)}\n"
     ]
    },
    {
     "data": {
      "text/latex": [
       "$\\displaystyle 1.0 x_{3}^{2} - 1.0 \\sin{\\left(6.3 x_{2} - 9.4 \\right)} + 1.0 \\tanh{\\left(5.1 x_{1} \\right)}$"
      ],
      "text/plain": [
       "1.0*x3**2 - 1.0*sin(6.3*x2 - 9.4) + 1.0*tanh(5.1*x1)"
      ]
     },
     "metadata": {},
     "output_type": "display_data"
    },
    {
     "name": "stdout",
     "output_type": "stream",
     "text": [
      "1.1208 * x1 + -0.3440 * x2 + 0.0096 * x3 + -0.0136 * noise1 + 0.0324 * noise2\n",
      "-------------------------\n",
      "Experiment: sim_deep\n",
      "0.725470 \\newline (0.725, 0.727) & 0.511198 \\newline (0.508, 0.511) & 0.722706 \\newline (0.721, 0.723)\n",
      "4.0 \\sqrt{x_{3}^{2} + 0.8 x_{4}^{2} + 0.9 \\left(0.1 - x_{1}\\right)^{2} + 1.0 \\left(0.1 - x_{2}\\right)^{2} - 0.5 \\left(- 1.0 x_{1} - x_{2} + 0.1\\right)^{2} - 0.7 \\left(- x_{3} - 0.7 x_{4} - 0.1\\right)^{2} + 0.6}\n"
     ]
    },
    {
     "data": {
      "text/latex": [
       "$\\displaystyle 4.0 \\sqrt{x_{3}^{2} + 0.8 x_{4}^{2} + 0.9 \\left(0.1 - x_{1}\\right)^{2} + 1.0 \\left(0.1 - x_{2}\\right)^{2} - 0.5 \\left(- 1.0 x_{1} - x_{2} + 0.1\\right)^{2} - 0.7 \\left(- x_{3} - 0.7 x_{4} - 0.1\\right)^{2} + 0.6}$"
      ],
      "text/plain": [
       "4.0*sqrt(x3**2 + 0.8*x4**2 + 0.9*(0.1 - x1)**2 + 1.0*(0.1 - x2)**2 - 0.5*(-1.0*x1 - x2 + 0.1)**2 - 0.7*(-x3 - 0.7*x4 - 0.1)**2 + 0.6)"
      ]
     },
     "metadata": {},
     "output_type": "display_data"
    },
    {
     "name": "stdout",
     "output_type": "stream",
     "text": [
      "-0.0275 * x1 + 0.0507 * x2 + 0.0266 * x3 + 0.0120 * x4 + -0.0303 * noise1 + 0.0274 * noise2\n",
      "3.9 \\sqrt{0.5 x_{1}^{2} - x_{1} x_{2} + 0.5 x_{2}^{2} + 0.3 x_{3}^{2} - 1.0 x_{3} x_{4} + 0.5 x_{4}^{2} + 0.6}\n"
     ]
    },
    {
     "data": {
      "text/latex": [
       "$\\displaystyle 3.9 \\sqrt{0.5 x_{1}^{2} - x_{1} x_{2} + 0.5 x_{2}^{2} + 0.3 x_{3}^{2} - 1.0 x_{3} x_{4} + 0.5 x_{4}^{2} + 0.6}$"
      ],
      "text/plain": [
       "3.9*sqrt(0.5*x1**2 - x1*x2 + 0.5*x2**2 + 0.3*x3**2 - 1.0*x3*x4 + 0.5*x4**2 + 0.6)"
      ]
     },
     "metadata": {},
     "output_type": "display_data"
    },
    {
     "name": "stdout",
     "output_type": "stream",
     "text": [
      "-------------------------\n",
      "Experiment: sim_difficult\n",
      "0.690174 \\newline (0.689, 0.691) & 0.663698 \\newline (0.663, 0.665) & 0.690127 \\newline (0.689, 0.691)\n",
      "- 1.0 \\tanh{\\left(-9.8 + 3.0 e^{- 2.6 x_{2}^{2}} + \\frac{8.3}{\\left(- 0.4 x_{1} - 1\\right)^{3}} \\right)}\n"
     ]
    },
    {
     "data": {
      "text/latex": [
       "$\\displaystyle - 1.0 \\tanh{\\left(-9.8 + 3.0 e^{- 2.6 x_{2}^{2}} + \\frac{8.3}{\\left(- 0.4 x_{1} - 1\\right)^{3}} \\right)}$"
      ],
      "text/plain": [
       "-1.0*tanh(-9.8 + 3.0*exp(-2.6*x2**2) + 8.3/(-0.4*x1 - 1)**3)"
      ]
     },
     "metadata": {},
     "output_type": "display_data"
    },
    {
     "name": "stdout",
     "output_type": "stream",
     "text": [
      "2.0720 * x1 + 0.0511 * x2 + 0.0289 * noise1 + -0.0110 * noise2\n"
     ]
    }
   ],
   "source": [
    "import sympy\n",
    "from sympy.printing.latex import latex\n",
    "\n",
    "experiments = ['sim_gaussian','sim_depth_1', 'sim_deep', 'sim_difficult']\n",
    "\n",
    "def format_cindex(input_string):\n",
    "    return input_string[:9] + \"\\\\newline \" + input_string[9:]\n",
    "\n",
    "print('True CoxPH CoxKAN_Symbolic')\n",
    "for exp_name in experiments:\n",
    "    with open(f'checkpoints/{exp_name}/results.pkl', 'rb') as f:\n",
    "        results = pickle.load(f)\n",
    "\n",
    "    formula = ex_round(results['coxkan_formula'], floating_digit=1)\n",
    "\n",
    "    print('-------------------------')\n",
    "    print(f'Experiment: {exp_name}')\n",
    "    print(f'{format_cindex(results['cindex_true'])} & {format_cindex(results[\"cindex_cph\"])} & {format_cindex(results[\"cindex_symbolic\"])}')\n",
    "    print(latex(formula))\n",
    "    display(formula)\n",
    "    print(results['coxph_formula'])\n",
    "\n",
    "    if exp_name == 'sim_deep':\n",
    "        formula = sympy.simplify(results['coxkan_formula'])\n",
    "        formula = ex_round(formula, floating_digit=1)\n",
    "        print(latex(formula))\n",
    "        display(formula)\n"
   ]
  },
  {
   "cell_type": "markdown",
   "metadata": {},
   "source": [
    "# Real Clinical Data"
   ]
  },
  {
   "cell_type": "code",
   "execution_count": 19,
   "metadata": {},
   "outputs": [
    {
     "name": "stdout",
     "output_type": "stream",
     "text": [
      "CoxPH DeepSurv CoxKAN_pre CoxKAN_pruned CoxKAN_Symbolic\n",
      "Loaded model from checkpoints/gbsg/model.pt\n",
      "\n",
      "-------------------------\n",
      "Dataset: gbsg\n",
      "\n",
      "0.656291 \\newline (0.655, 0.662) & 0.668402 \\newline (0.665, 0.671) & 0.678294 \\newline (0.676, 0.682) & 0.679219 \\newline (0.675, 0.681) & 0.682796 \\newline (0.678, 0.684)\n",
      "CoxKAN:\n",
      "\n",
      "- 0.0007 er + 1.8075 \\left(1 - 0.0173 age\\right)^{2} + 0.3979 \\left(\\begin{cases} -0.2933 & \\text{for}\\: meno = 0 \\\\0.5828 & \\text{for}\\: meno = 1.0 \\\\\\text{NaN} & \\text{otherwise} \\end{cases}\\right) + 0.3979 \\left(\\begin{cases} 0.6932 & \\text{for}\\: hormon = 0 \\\\-0.5338 & \\text{for}\\: hormon = 1.0 \\\\\\text{NaN} & \\text{otherwise} \\end{cases}\\right) + 0.3979 \\left(\\begin{cases} -0.1789 & \\text{for}\\: size = 0 \\\\0.5224 & \\text{for}\\: size = 1.0 \\\\1.2102 & \\text{for}\\: size = 2.0 \\\\\\text{NaN} & \\text{otherwise} \\end{cases}\\right) + 0.1049 \\cosh{\\left(0.0017 pgr - 1.6311 \\right)} + 1.567 - 1.2395 e^{- 0.0212 \\left(- nodes - 0.3544\\right)^{2}}\n"
     ]
    },
    {
     "data": {
      "text/latex": [
       "$\\displaystyle - 0.0007 er + 1.8075 \\left(1 - 0.0173 age\\right)^{2} + 0.3979 \\left(\\begin{cases} -0.2933 & \\text{for}\\: meno = 0 \\\\0.5828 & \\text{for}\\: meno = 1.0 \\\\\\text{NaN} & \\text{otherwise} \\end{cases}\\right) + 0.3979 \\left(\\begin{cases} 0.6932 & \\text{for}\\: hormon = 0 \\\\-0.5338 & \\text{for}\\: hormon = 1.0 \\\\\\text{NaN} & \\text{otherwise} \\end{cases}\\right) + 0.3979 \\left(\\begin{cases} -0.1789 & \\text{for}\\: size = 0 \\\\0.5224 & \\text{for}\\: size = 1.0 \\\\1.2102 & \\text{for}\\: size = 2.0 \\\\\\text{NaN} & \\text{otherwise} \\end{cases}\\right) + 0.1049 \\cosh{\\left(0.0017 pgr - 1.6311 \\right)} + 1.567 - 1.2395 e^{- 0.0212 \\left(- nodes - 0.3544\\right)^{2}}$"
      ],
      "text/plain": [
       "-0.0007*er + 1.8075*(1 - 0.0173*age)**2 + 0.3979*Piecewise((-0.2933, Eq(meno, 0)), (0.5828, Eq(meno, 1.0)), (nan, True)) + 0.3979*Piecewise((0.6932, Eq(hormon, 0)), (-0.5338, Eq(hormon, 1.0)), (nan, True)) + 0.3979*Piecewise((-0.1789, Eq(size, 0)), (0.5224, Eq(size, 1.0)), (1.2102, Eq(size, 2.0)), (nan, True)) + 0.1049*cosh(0.0017*pgr - 1.6311) + 1.567 - 1.2395*exp(-0.0212*(-nodes - 0.3544)**2)"
      ]
     },
     "metadata": {},
     "output_type": "display_data"
    },
    {
     "name": "stdout",
     "output_type": "stream",
     "text": [
      "CoxPH:\n"
     ]
    },
    {
     "data": {
      "text/latex": [
       "$\\displaystyle 0.0026 age - 0.0003 er - 0.3172 hormon + 0.2559 meno + 0.0557 nodes - 0.0003 pgr + 0.3379 size - 0.702$"
      ],
      "text/plain": [
       "0.0026*age - 0.0003*er - 0.3172*hormon + 0.2559*meno + 0.0557*nodes - 0.0003*pgr + 0.3379*size - 0.702"
      ]
     },
     "metadata": {},
     "output_type": "display_data"
    },
    {
     "name": "stdout",
     "output_type": "stream",
     "text": [
      "0.0026 age - 0.0003 er - 0.3172 hormon + 0.2559 meno + 0.0557 nodes - 0.0003 pgr + 0.3379 size - 0.702\n",
      "Loaded model from checkpoints/metabric/model.pt\n",
      "\n",
      "-------------------------\n",
      "Dataset: metabric\n",
      "\n",
      "0.632363 \\newline (0.628, 0.637) & 0.643375 \\newline (0.639, 0.647) & 0.647177 \\newline (0.644, 0.652) & 0.648004 \\newline (0.646, 0.654) & 0.649618 \\newline (0.644, 0.651)\n",
      "CoxKAN:\n",
      "\n",
      "- 0.236 PGR + \\begin{cases} -0.0524 & \\text{for}\\: chemo = 0 \\\\0.5889 & \\text{for}\\: chemo = 1.0 \\\\\\text{NaN} & \\text{otherwise} \\end{cases} + \\begin{cases} -0.0385 & \\text{for}\\: ER = 0 \\\\0.0722 & \\text{for}\\: ER = 1.0 \\\\\\text{NaN} & \\text{otherwise} \\end{cases} + \\begin{cases} 0.0294 & \\text{for}\\: hormone = 0 \\\\0.0942 & \\text{for}\\: hormone = 1.0 \\\\\\text{NaN} & \\text{otherwise} \\end{cases} + \\begin{cases} 0.1757 & \\text{for}\\: radio = 0 \\\\0.014 & \\text{for}\\: radio = 1.0 \\\\\\text{NaN} & \\text{otherwise} \\end{cases} + 1.696 \\sin{\\left(0.0403 age - 9.5224 \\right)} + 0.2347 \\tanh{\\left(1.86 MKI_{67} - 10.4299 \\right)} + 1.5733 + 0.7092 e^{- 26.4908 \\left(1 - 0.0647 ERBB_{2}\\right)^{2}}\n"
     ]
    },
    {
     "data": {
      "text/latex": [
       "$\\displaystyle - 0.236 PGR + \\begin{cases} -0.0524 & \\text{for}\\: chemo = 0 \\\\0.5889 & \\text{for}\\: chemo = 1.0 \\\\\\text{NaN} & \\text{otherwise} \\end{cases} + \\begin{cases} -0.0385 & \\text{for}\\: ER = 0 \\\\0.0722 & \\text{for}\\: ER = 1.0 \\\\\\text{NaN} & \\text{otherwise} \\end{cases} + \\begin{cases} 0.0294 & \\text{for}\\: hormone = 0 \\\\0.0942 & \\text{for}\\: hormone = 1.0 \\\\\\text{NaN} & \\text{otherwise} \\end{cases} + \\begin{cases} 0.1757 & \\text{for}\\: radio = 0 \\\\0.014 & \\text{for}\\: radio = 1.0 \\\\\\text{NaN} & \\text{otherwise} \\end{cases} + 1.696 \\sin{\\left(0.0403 age - 9.5224 \\right)} + 0.2347 \\tanh{\\left(1.86 MKI_{67} - 10.4299 \\right)} + 1.5733 + 0.7092 e^{- 26.4908 \\left(1 - 0.0647 ERBB_{2}\\right)^{2}}$"
      ],
      "text/plain": [
       "-0.236*PGR + Piecewise((-0.0524, Eq(chemo, 0)), (0.5889, Eq(chemo, 1.0)), (nan, True)) + Piecewise((-0.0385, Eq(ER, 0)), (0.0722, Eq(ER, 1.0)), (nan, True)) + Piecewise((0.0294, Eq(hormone, 0)), (0.0942, Eq(hormone, 1.0)), (nan, True)) + Piecewise((0.1757, Eq(radio, 0)), (0.014, Eq(radio, 1.0)), (nan, True)) + 1.696*sin(0.0403*age - 9.5224) + 0.2347*tanh(1.86*MKI67 - 10.4299) + 1.5733 + 0.7092*exp(-26.4908*(1 - 0.0647*ERBB2)**2)"
      ]
     },
     "metadata": {},
     "output_type": "display_data"
    },
    {
     "name": "stdout",
     "output_type": "stream",
     "text": [
      "CoxPH:\n"
     ]
    },
    {
     "data": {
      "text/latex": [
       "$\\displaystyle 0.0422 EGFR + 0.0693 ER + 0.1023 ERBB_{2} + 0.3145 MKI_{67} - 0.0698 PGR + 0.0433 age + 0.7712 chemo + 0.1849 hormone - 0.2118 radio - 5.6233$"
      ],
      "text/plain": [
       "0.0422*EGFR + 0.0693*ER + 0.1023*ERBB2 + 0.3145*MKI67 - 0.0698*PGR + 0.0433*age + 0.7712*chemo + 0.1849*hormone - 0.2118*radio - 5.6233"
      ]
     },
     "metadata": {},
     "output_type": "display_data"
    },
    {
     "name": "stdout",
     "output_type": "stream",
     "text": [
      "0.0422 EGFR + 0.0693 ER + 0.1023 ERBB_{2} + 0.3145 MKI_{67} - 0.0698 PGR + 0.0433 age + 0.7712 chemo + 0.1849 hormone - 0.2118 radio - 5.6233\n",
      "Loaded model from checkpoints/support/model.pt\n",
      "\n",
      "-------------------------\n",
      "Dataset: support\n",
      "\n",
      "0.583074 \\newline (0.581, 0.585) & 0.618308 \\newline (0.616, 0.620) & 0.624482 \\newline (0.622, 0.625) & 0.624485 \\newline (0.622, 0.625) & 0.623755 \\newline (0.623, 0.626)\n",
      "CoxKAN:\n",
      "\n",
      "- 0.0002 age + 0.0388 comorbidity + 0.0027 creatinine - 0.0126 race + 0.0008 sodium + 0.0385 \\left(\\begin{cases} -0.0046 & \\text{for}\\: 0.0 = 1.0 sex \\\\0.0059 & \\text{for}\\: 1.0 = 1.0 sex \\\\\\text{NaN} & \\text{otherwise} \\end{cases}\\right) + 0.0385 \\left(\\begin{cases} -0.0018 & \\text{for}\\: 0.0 = 1.0 diabetes \\\\0.0071 & \\text{for}\\: 1.0 = 1.0 diabetes \\\\\\text{NaN} & \\text{otherwise} \\end{cases}\\right) + 0.0385 \\left(\\begin{cases} -0.0004 & \\text{for}\\: 0.0 = 1.0 dementia \\\\0.0124 & \\text{for}\\: 1.0 = 1.0 dementia \\\\\\text{NaN} & \\text{otherwise} \\end{cases}\\right) + 2.4587 \\left(\\begin{cases} -0.0003 & \\text{for}\\: 0.0 = 1.0 dementia \\\\0.0112 & \\text{for}\\: 1.0 = 1.0 dementia \\\\\\text{NaN} & \\text{otherwise} \\end{cases}\\right) + 2.4587 \\left(\\begin{cases} 0.0027 & \\text{for}\\: 0.0 = 1.0 diabetes \\\\-0.0112 & \\text{for}\\: 1.0 = 1.0 diabetes \\\\\\text{NaN} & \\text{otherwise} \\end{cases}\\right) + 2.4587 \\left(\\begin{cases} 0.0031 & \\text{for}\\: 0.0 = 1.0 sex \\\\-0.004 & \\text{for}\\: 1.0 = 1.0 sex \\\\\\text{NaN} & \\text{otherwise} \\end{cases}\\right) + 2.4587 \\left(\\begin{cases} 0.0011 & \\text{for}\\: 0.0 = 1.0 cancer \\\\-0.0047 & \\text{for}\\: 1.0 = 1.0 cancer \\\\-0.0039 & \\text{for}\\: 2.0 = 1.0 cancer \\\\\\text{NaN} & \\text{otherwise} \\end{cases}\\right) + 0.0385 \\left(\\begin{cases} 0.0041 & \\text{for}\\: 0.0 = 1.0 cancer \\\\-0.0013 & \\text{for}\\: 1.0 = 1.0 cancer \\\\-0.0054 & \\text{for}\\: 2.0 = 1.0 cancer \\\\\\text{NaN} & \\text{otherwise} \\end{cases}\\right) - 0.0608 \\sin{\\left(0.0758 rr + 0.2165 \\right)} + 0.0337 \\tan{\\left(0.0238 wbc - 3.8857 \\right)} + 0.1155 \\tanh{\\left(0.0224 hr - 2.6734 \\right)} - 0.7124 + 0.5523 e^{- 572.2693 \\left(1 - 0.0244 temp\\right)^{2}} + 0.866 e^{- 0.0561 \\left(1 - 0.1185 meanbp\\right)^{2}}\n"
     ]
    },
    {
     "data": {
      "text/latex": [
       "$\\displaystyle - 0.0002 age + 0.0388 comorbidity + 0.0027 creatinine - 0.0126 race + 0.0008 sodium + 0.0385 \\left(\\begin{cases} -0.0046 & \\text{for}\\: 0.0 = 1.0 sex \\\\0.0059 & \\text{for}\\: 1.0 = 1.0 sex \\\\\\text{NaN} & \\text{otherwise} \\end{cases}\\right) + 0.0385 \\left(\\begin{cases} -0.0018 & \\text{for}\\: 0.0 = 1.0 diabetes \\\\0.0071 & \\text{for}\\: 1.0 = 1.0 diabetes \\\\\\text{NaN} & \\text{otherwise} \\end{cases}\\right) + 0.0385 \\left(\\begin{cases} -0.0004 & \\text{for}\\: 0.0 = 1.0 dementia \\\\0.0124 & \\text{for}\\: 1.0 = 1.0 dementia \\\\\\text{NaN} & \\text{otherwise} \\end{cases}\\right) + 2.4587 \\left(\\begin{cases} -0.0003 & \\text{for}\\: 0.0 = 1.0 dementia \\\\0.0112 & \\text{for}\\: 1.0 = 1.0 dementia \\\\\\text{NaN} & \\text{otherwise} \\end{cases}\\right) + 2.4587 \\left(\\begin{cases} 0.0027 & \\text{for}\\: 0.0 = 1.0 diabetes \\\\-0.0112 & \\text{for}\\: 1.0 = 1.0 diabetes \\\\\\text{NaN} & \\text{otherwise} \\end{cases}\\right) + 2.4587 \\left(\\begin{cases} 0.0031 & \\text{for}\\: 0.0 = 1.0 sex \\\\-0.004 & \\text{for}\\: 1.0 = 1.0 sex \\\\\\text{NaN} & \\text{otherwise} \\end{cases}\\right) + 2.4587 \\left(\\begin{cases} 0.0011 & \\text{for}\\: 0.0 = 1.0 cancer \\\\-0.0047 & \\text{for}\\: 1.0 = 1.0 cancer \\\\-0.0039 & \\text{for}\\: 2.0 = 1.0 cancer \\\\\\text{NaN} & \\text{otherwise} \\end{cases}\\right) + 0.0385 \\left(\\begin{cases} 0.0041 & \\text{for}\\: 0.0 = 1.0 cancer \\\\-0.0013 & \\text{for}\\: 1.0 = 1.0 cancer \\\\-0.0054 & \\text{for}\\: 2.0 = 1.0 cancer \\\\\\text{NaN} & \\text{otherwise} \\end{cases}\\right) - 0.0608 \\sin{\\left(0.0758 rr + 0.2165 \\right)} + 0.0337 \\tan{\\left(0.0238 wbc - 3.8857 \\right)} + 0.1155 \\tanh{\\left(0.0224 hr - 2.6734 \\right)} - 0.7124 + 0.5523 e^{- 572.2693 \\left(1 - 0.0244 temp\\right)^{2}} + 0.866 e^{- 0.0561 \\left(1 - 0.1185 meanbp\\right)^{2}}$"
      ],
      "text/plain": [
       "-0.0002*age + 0.0388*comorbidity + 0.0027*creatinine - 0.0126*race + 0.0008*sodium + 0.0385*Piecewise((-0.0046, Eq(0.0, 1.0*sex)), (0.0059, Eq(1.0, 1.0*sex)), (nan, True)) + 0.0385*Piecewise((-0.0018, Eq(0.0, 1.0*diabetes)), (0.0071, Eq(1.0, 1.0*diabetes)), (nan, True)) + 0.0385*Piecewise((-0.0004, Eq(0.0, 1.0*dementia)), (0.0124, Eq(1.0, 1.0*dementia)), (nan, True)) + 2.4587*Piecewise((-0.0003, Eq(0.0, 1.0*dementia)), (0.0112, Eq(1.0, 1.0*dementia)), (nan, True)) + 2.4587*Piecewise((0.0027, Eq(0.0, 1.0*diabetes)), (-0.0112, Eq(1.0, 1.0*diabetes)), (nan, True)) + 2.4587*Piecewise((0.0031, Eq(0.0, 1.0*sex)), (-0.004, Eq(1.0, 1.0*sex)), (nan, True)) + 2.4587*Piecewise((0.0011, Eq(0.0, 1.0*cancer)), (-0.0047, Eq(1.0, 1.0*cancer)), (-0.0039, Eq(2.0, 1.0*cancer)), (nan, True)) + 0.0385*Piecewise((0.0041, Eq(0.0, 1.0*cancer)), (-0.0013, Eq(1.0, 1.0*cancer)), (-0.0054, Eq(2.0, 1.0*cancer)), (nan, True)) - 0.0608*sin(0.0758*rr + 0.2165) + 0.0337*tan(0.0238*wbc - 3.8857) + 0.1155*tanh(0.0224*hr - 2.6734) - 0.7124 + 0.5523*exp(-572.2693*(1 - 0.0244*temp)**2) + 0.866*exp(-0.0561*(1 - 0.1185*meanbp)**2)"
      ]
     },
     "metadata": {},
     "output_type": "display_data"
    },
    {
     "name": "stdout",
     "output_type": "stream",
     "text": [
      "CoxPH:\n"
     ]
    },
    {
     "data": {
      "text/latex": [
       "$\\displaystyle 0.0142 age - 0.2592 cancer + 0.0197 comorbidity + 0.0276 creatinine + 0.1321 dementia - 0.0469 diabetes + 0.0023 hr - 0.0026 meanbp + 0.0241 race + 0.0021 rr - 0.0935 sex - 0.0038 sodium + 0.0115 temp + 0.0031 wbc - 0.7135$"
      ],
      "text/plain": [
       "0.0142*age - 0.2592*cancer + 0.0197*comorbidity + 0.0276*creatinine + 0.1321*dementia - 0.0469*diabetes + 0.0023*hr - 0.0026*meanbp + 0.0241*race + 0.0021*rr - 0.0935*sex - 0.0038*sodium + 0.0115*temp + 0.0031*wbc - 0.7135"
      ]
     },
     "metadata": {},
     "output_type": "display_data"
    },
    {
     "name": "stdout",
     "output_type": "stream",
     "text": [
      "0.0142 age - 0.2592 cancer + 0.0197 comorbidity + 0.0276 creatinine + 0.1321 dementia - 0.0469 diabetes + 0.0023 hr - 0.0026 meanbp + 0.0241 race + 0.0021 rr - 0.0935 sex - 0.0038 sodium + 0.0115 temp + 0.0031 wbc - 0.7135\n",
      "Loaded model from checkpoints/flchain/model.pt\n",
      "\n",
      "-------------------------\n",
      "Dataset: flchain\n",
      "\n",
      "0.797854 \\newline (0.797, 0.802) & 0.794520 \\newline (0.793, 0.798) & 0.797064 \\newline (0.796, 0.801) & 0.795911 \\newline (0.792, 0.797) & 0.796281 \\newline (0.795, 0.800)\n",
      "CoxKAN:\n",
      "\n",
      "0.092 age - 0.2889 creatinine + 0.0091 flc.grp + 0.0435 \\kappa + 0.2895 \\lambda + 0.2061 \\left(\\begin{cases} -0.0245 & \\text{for}\\: F = sex \\\\0.03 & \\text{for}\\: M = sex \\\\\\text{NaN} & \\text{otherwise} \\end{cases}\\right) - 0.5437 \\left(\\begin{cases} 0.0775 & \\text{for}\\: F = sex \\\\-0.1036 & \\text{for}\\: M = sex \\\\\\text{NaN} & \\text{otherwise} \\end{cases}\\right) + 2.0033 \\operatorname{atan}{\\left(0.4767 creatinine - 0.8693 \\right)} + 0.4147 \\operatorname{atan}{\\left(0.3683 sample.yr - 737.0431 \\right)} - 8.3465\n"
     ]
    },
    {
     "data": {
      "text/latex": [
       "$\\displaystyle 0.092 age - 0.2889 creatinine + 0.0091 flc.grp + 0.0435 \\kappa + 0.2895 \\lambda + 0.2061 \\left(\\begin{cases} -0.0245 & \\text{for}\\: F = sex \\\\0.03 & \\text{for}\\: M = sex \\\\\\text{NaN} & \\text{otherwise} \\end{cases}\\right) - 0.5437 \\left(\\begin{cases} 0.0775 & \\text{for}\\: F = sex \\\\-0.1036 & \\text{for}\\: M = sex \\\\\\text{NaN} & \\text{otherwise} \\end{cases}\\right) + 2.0033 \\operatorname{atan}{\\left(0.4767 creatinine - 0.8693 \\right)} + 0.4147 \\operatorname{atan}{\\left(0.3683 sample.yr - 737.0431 \\right)} - 8.3465$"
      ],
      "text/plain": [
       "0.092*age - 0.2889*creatinine + 0.0091*flc.grp + 0.0435*kappa + 0.2895*lambda + 0.2061*Piecewise((-0.0245, Eq(F, sex)), (0.03, Eq(M, sex)), (nan, True)) - 0.5437*Piecewise((0.0775, Eq(F, sex)), (-0.1036, Eq(M, sex)), (nan, True)) + 2.0033*atan(0.4767*creatinine - 0.8693) + 0.4147*atan(0.3683*sample.yr - 737.0431) - 8.3465"
      ]
     },
     "metadata": {},
     "output_type": "display_data"
    },
    {
     "name": "stdout",
     "output_type": "stream",
     "text": [
      "CoxPH:\n"
     ]
    },
    {
     "data": {
      "text/latex": [
       "$\\displaystyle 0.1013 age + 0.0329 creatinine + 0.0551 flc.grp + 0.0154 \\kappa + 0.1678 \\lambda + 0.314 mgus + 0.0602 sample.yr + 0.2812 sex - 127.5629$"
      ],
      "text/plain": [
       "0.1013*age + 0.0329*creatinine + 0.0551*flc.grp + 0.0154*kappa + 0.1678*lambda + 0.314*mgus + 0.0602*sample.yr + 0.2812*sex - 127.5629"
      ]
     },
     "metadata": {},
     "output_type": "display_data"
    },
    {
     "name": "stdout",
     "output_type": "stream",
     "text": [
      "0.1013 age + 0.0329 creatinine + 0.0551 flc.grp + 0.0154 \\kappa + 0.1678 \\lambda + 0.314 mgus + 0.0602 sample.yr + 0.2812 sex - 127.5629\n",
      "Loaded model from checkpoints/nwtco/model.pt\n",
      "\n",
      "-------------------------\n",
      "Dataset: nwtco\n",
      "\n",
      "0.698347 \\newline (0.693, 0.703) & 0.698300 \\newline (0.692, 0.703) & 0.719843 \\newline (0.714, 0.725) & 0.720721 \\newline (0.708, 0.718) & 0.722225 \\newline (0.715, 0.725)\n",
      "CoxKAN:\n",
      "\n",
      "0.0167 age + 0.3472 \\left(\\begin{cases} -0.4069 & \\text{for}\\: 1 = 1.0 histol \\\\1.6781 & \\text{for}\\: 2 = 1.0 histol \\\\\\text{NaN} & \\text{otherwise} \\end{cases}\\right) + 0.1862 \\left(\\begin{cases} -0.3723 & \\text{for}\\: False = 1.0 in.subcohort \\\\1.0526 & \\text{for}\\: True = 1.0 in.subcohort \\\\\\text{NaN} & \\text{otherwise} \\end{cases}\\right) + 0.3472 \\left(\\begin{cases} -0.3668 & \\text{for}\\: 3 = 1.0 study \\\\0.3606 & \\text{for}\\: 4 = 1.0 study \\\\\\text{NaN} & \\text{otherwise} \\end{cases}\\right) + 0.1862 \\left(\\begin{cases} -0.3098 & \\text{for}\\: 1 = 1.0 histol \\\\1.3512 & \\text{for}\\: 2 = 1.0 histol \\\\\\text{NaN} & \\text{otherwise} \\end{cases}\\right) + 0.3472 \\left(\\begin{cases} -0.1453 & \\text{for}\\: 1 = 1.0 instit \\\\0.5484 & \\text{for}\\: 2 = 1.0 instit \\\\\\text{NaN} & \\text{otherwise} \\end{cases}\\right) + 0.3895 \\left(\\begin{cases} -0.0544 & \\text{for}\\: 1 = 1.0 histol \\\\-0.5385 & \\text{for}\\: 2 = 1.0 histol \\\\\\text{NaN} & \\text{otherwise} \\end{cases}\\right) + 0.3895 \\left(\\begin{cases} -0.0249 & \\text{for}\\: False = 1.0 in.subcohort \\\\0.4873 & \\text{for}\\: True = 1.0 in.subcohort \\\\\\text{NaN} & \\text{otherwise} \\end{cases}\\right) + 0.3895 \\left(\\begin{cases} -0.001 & \\text{for}\\: 3 = 1.0 study \\\\0.0854 & \\text{for}\\: 4 = 1.0 study \\\\\\text{NaN} & \\text{otherwise} \\end{cases}\\right) + 0.3895 \\left(\\begin{cases} 0.0281 & \\text{for}\\: 1 = 1.0 instit \\\\-0.8385 & \\text{for}\\: 2 = 1.0 instit \\\\\\text{NaN} & \\text{otherwise} \\end{cases}\\right) + 0.1862 \\left(\\begin{cases} 0.1299 & \\text{for}\\: 3 = 1.0 study \\\\-0.1148 & \\text{for}\\: 4 = 1.0 study \\\\\\text{NaN} & \\text{otherwise} \\end{cases}\\right) + 0.3472 \\left(\\begin{cases} -0.7809 & \\text{for}\\: 1 = 1.0 stage \\\\0.0716 & \\text{for}\\: 2 = 1.0 stage \\\\0.4768 & \\text{for}\\: 3 = 1.0 stage \\\\1.0507 & \\text{for}\\: 4 = 1.0 stage \\\\\\text{NaN} & \\text{otherwise} \\end{cases}\\right) + 0.3895 \\left(\\begin{cases} -0.5011 & \\text{for}\\: 1 = 1.0 stage \\\\0.0414 & \\text{for}\\: 2 = 1.0 stage \\\\0.3448 & \\text{for}\\: 3 = 1.0 stage \\\\0.7479 & \\text{for}\\: 4 = 1.0 stage \\\\\\text{NaN} & \\text{otherwise} \\end{cases}\\right) + 0.1862 \\left(\\begin{cases} -0.4801 & \\text{for}\\: 1 = 1.0 stage \\\\0.0195 & \\text{for}\\: 2 = 1.0 stage \\\\0.2796 & \\text{for}\\: 3 = 1.0 stage \\\\0.6652 & \\text{for}\\: 4 = 1.0 stage \\\\\\text{NaN} & \\text{otherwise} \\end{cases}\\right) - 0.6046 \\tanh{\\left(0.0051 age + 0.7318 \\left(\\begin{cases} -0.6329 & \\text{for}\\: 3 = 1.0 study \\\\0.4704 & \\text{for}\\: 4 = 1.0 study \\\\\\text{NaN} & \\text{otherwise} \\end{cases}\\right) + 0.7318 \\left(\\begin{cases} -0.2446 & \\text{for}\\: False = 1.0 in.subcohort \\\\1.0248 & \\text{for}\\: True = 1.0 in.subcohort \\\\\\text{NaN} & \\text{otherwise} \\end{cases}\\right) + 0.7318 \\left(\\begin{cases} 0.1364 & \\text{for}\\: 1 = 1.0 histol \\\\0.0087 & \\text{for}\\: 2 = 1.0 histol \\\\\\text{NaN} & \\text{otherwise} \\end{cases}\\right) + 0.7318 \\left(\\begin{cases} 0.1511 & \\text{for}\\: 1 = 1.0 instit \\\\-0.7049 & \\text{for}\\: 2 = 1.0 instit \\\\\\text{NaN} & \\text{otherwise} \\end{cases}\\right) + 0.7318 \\left(\\begin{cases} -0.6759 & \\text{for}\\: 1 = 1.0 stage \\\\-0.2445 & \\text{for}\\: 2 = 1.0 stage \\\\0.7103 & \\text{for}\\: 3 = 1.0 stage \\\\1.4509 & \\text{for}\\: 4 = 1.0 stage \\\\\\text{NaN} & \\text{otherwise} \\end{cases}\\right) - 1.4641 \\right)} - 2.4626 \\operatorname{atan}{\\left(0.0601 age + 2.352 \\left(\\begin{cases} -0.3297 & \\text{for}\\: False = 1.0 in.subcohort \\\\1.0658 & \\text{for}\\: True = 1.0 in.subcohort \\\\\\text{NaN} & \\text{otherwise} \\end{cases}\\right) + 2.352 \\left(\\begin{cases} -0.2155 & \\text{for}\\: 3 = 1.0 study \\\\0.0943 & \\text{for}\\: 4 = 1.0 study \\\\\\text{NaN} & \\text{otherwise} \\end{cases}\\right) + 2.352 \\left(\\begin{cases} -0.1179 & \\text{for}\\: 1 = 1.0 instit \\\\-0.4101 & \\text{for}\\: 2 = 1.0 instit \\\\\\text{NaN} & \\text{otherwise} \\end{cases}\\right) + 2.352 \\left(\\begin{cases} 0.2774 & \\text{for}\\: 1 = 1.0 histol \\\\-0.4292 & \\text{for}\\: 2 = 1.0 histol \\\\\\text{NaN} & \\text{otherwise} \\end{cases}\\right) + 2.352 \\left(\\begin{cases} 0.1265 & \\text{for}\\: 1 = 1.0 stage \\\\-0.0748 & \\text{for}\\: 2 = 1.0 stage \\\\-0.0321 & \\text{for}\\: 3 = 1.0 stage \\\\-0.1747 & \\text{for}\\: 4 = 1.0 stage \\\\\\text{NaN} & \\text{otherwise} \\end{cases}\\right) + 3.1937 \\right)} - 0.1023\n"
     ]
    },
    {
     "data": {
      "text/latex": [
       "$\\displaystyle 0.0167 age + 0.3472 \\left(\\begin{cases} -0.4069 & \\text{for}\\: 1 = 1.0 histol \\\\1.6781 & \\text{for}\\: 2 = 1.0 histol \\\\\\text{NaN} & \\text{otherwise} \\end{cases}\\right) + 0.1862 \\left(\\begin{cases} -0.3723 & \\text{for}\\: False = 1.0 in.subcohort \\\\1.0526 & \\text{for}\\: True = 1.0 in.subcohort \\\\\\text{NaN} & \\text{otherwise} \\end{cases}\\right) + 0.3472 \\left(\\begin{cases} -0.3668 & \\text{for}\\: 3 = 1.0 study \\\\0.3606 & \\text{for}\\: 4 = 1.0 study \\\\\\text{NaN} & \\text{otherwise} \\end{cases}\\right) + 0.1862 \\left(\\begin{cases} -0.3098 & \\text{for}\\: 1 = 1.0 histol \\\\1.3512 & \\text{for}\\: 2 = 1.0 histol \\\\\\text{NaN} & \\text{otherwise} \\end{cases}\\right) + 0.3472 \\left(\\begin{cases} -0.1453 & \\text{for}\\: 1 = 1.0 instit \\\\0.5484 & \\text{for}\\: 2 = 1.0 instit \\\\\\text{NaN} & \\text{otherwise} \\end{cases}\\right) + 0.3895 \\left(\\begin{cases} -0.0544 & \\text{for}\\: 1 = 1.0 histol \\\\-0.5385 & \\text{for}\\: 2 = 1.0 histol \\\\\\text{NaN} & \\text{otherwise} \\end{cases}\\right) + 0.3895 \\left(\\begin{cases} -0.0249 & \\text{for}\\: False = 1.0 in.subcohort \\\\0.4873 & \\text{for}\\: True = 1.0 in.subcohort \\\\\\text{NaN} & \\text{otherwise} \\end{cases}\\right) + 0.3895 \\left(\\begin{cases} -0.001 & \\text{for}\\: 3 = 1.0 study \\\\0.0854 & \\text{for}\\: 4 = 1.0 study \\\\\\text{NaN} & \\text{otherwise} \\end{cases}\\right) + 0.3895 \\left(\\begin{cases} 0.0281 & \\text{for}\\: 1 = 1.0 instit \\\\-0.8385 & \\text{for}\\: 2 = 1.0 instit \\\\\\text{NaN} & \\text{otherwise} \\end{cases}\\right) + 0.1862 \\left(\\begin{cases} 0.1299 & \\text{for}\\: 3 = 1.0 study \\\\-0.1148 & \\text{for}\\: 4 = 1.0 study \\\\\\text{NaN} & \\text{otherwise} \\end{cases}\\right) + 0.3472 \\left(\\begin{cases} -0.7809 & \\text{for}\\: 1 = 1.0 stage \\\\0.0716 & \\text{for}\\: 2 = 1.0 stage \\\\0.4768 & \\text{for}\\: 3 = 1.0 stage \\\\1.0507 & \\text{for}\\: 4 = 1.0 stage \\\\\\text{NaN} & \\text{otherwise} \\end{cases}\\right) + 0.3895 \\left(\\begin{cases} -0.5011 & \\text{for}\\: 1 = 1.0 stage \\\\0.0414 & \\text{for}\\: 2 = 1.0 stage \\\\0.3448 & \\text{for}\\: 3 = 1.0 stage \\\\0.7479 & \\text{for}\\: 4 = 1.0 stage \\\\\\text{NaN} & \\text{otherwise} \\end{cases}\\right) + 0.1862 \\left(\\begin{cases} -0.4801 & \\text{for}\\: 1 = 1.0 stage \\\\0.0195 & \\text{for}\\: 2 = 1.0 stage \\\\0.2796 & \\text{for}\\: 3 = 1.0 stage \\\\0.6652 & \\text{for}\\: 4 = 1.0 stage \\\\\\text{NaN} & \\text{otherwise} \\end{cases}\\right) - 0.6046 \\tanh{\\left(0.0051 age + 0.7318 \\left(\\begin{cases} -0.6329 & \\text{for}\\: 3 = 1.0 study \\\\0.4704 & \\text{for}\\: 4 = 1.0 study \\\\\\text{NaN} & \\text{otherwise} \\end{cases}\\right) + 0.7318 \\left(\\begin{cases} -0.2446 & \\text{for}\\: False = 1.0 in.subcohort \\\\1.0248 & \\text{for}\\: True = 1.0 in.subcohort \\\\\\text{NaN} & \\text{otherwise} \\end{cases}\\right) + 0.7318 \\left(\\begin{cases} 0.1364 & \\text{for}\\: 1 = 1.0 histol \\\\0.0087 & \\text{for}\\: 2 = 1.0 histol \\\\\\text{NaN} & \\text{otherwise} \\end{cases}\\right) + 0.7318 \\left(\\begin{cases} 0.1511 & \\text{for}\\: 1 = 1.0 instit \\\\-0.7049 & \\text{for}\\: 2 = 1.0 instit \\\\\\text{NaN} & \\text{otherwise} \\end{cases}\\right) + 0.7318 \\left(\\begin{cases} -0.6759 & \\text{for}\\: 1 = 1.0 stage \\\\-0.2445 & \\text{for}\\: 2 = 1.0 stage \\\\0.7103 & \\text{for}\\: 3 = 1.0 stage \\\\1.4509 & \\text{for}\\: 4 = 1.0 stage \\\\\\text{NaN} & \\text{otherwise} \\end{cases}\\right) - 1.4641 \\right)} - 2.4626 \\operatorname{atan}{\\left(0.0601 age + 2.352 \\left(\\begin{cases} -0.3297 & \\text{for}\\: False = 1.0 in.subcohort \\\\1.0658 & \\text{for}\\: True = 1.0 in.subcohort \\\\\\text{NaN} & \\text{otherwise} \\end{cases}\\right) + 2.352 \\left(\\begin{cases} -0.2155 & \\text{for}\\: 3 = 1.0 study \\\\0.0943 & \\text{for}\\: 4 = 1.0 study \\\\\\text{NaN} & \\text{otherwise} \\end{cases}\\right) + 2.352 \\left(\\begin{cases} -0.1179 & \\text{for}\\: 1 = 1.0 instit \\\\-0.4101 & \\text{for}\\: 2 = 1.0 instit \\\\\\text{NaN} & \\text{otherwise} \\end{cases}\\right) + 2.352 \\left(\\begin{cases} 0.2774 & \\text{for}\\: 1 = 1.0 histol \\\\-0.4292 & \\text{for}\\: 2 = 1.0 histol \\\\\\text{NaN} & \\text{otherwise} \\end{cases}\\right) + 2.352 \\left(\\begin{cases} 0.1265 & \\text{for}\\: 1 = 1.0 stage \\\\-0.0748 & \\text{for}\\: 2 = 1.0 stage \\\\-0.0321 & \\text{for}\\: 3 = 1.0 stage \\\\-0.1747 & \\text{for}\\: 4 = 1.0 stage \\\\\\text{NaN} & \\text{otherwise} \\end{cases}\\right) + 3.1937 \\right)} - 0.1023$"
      ],
      "text/plain": [
       "0.0167*age + 0.3472*Piecewise((-0.4069, Eq(1, 1.0*histol)), (1.6781, Eq(2, 1.0*histol)), (nan, True)) + 0.1862*Piecewise((-0.3723, Eq(False, 1.0*in.subcohort)), (1.0526, Eq(True, 1.0*in.subcohort)), (nan, True)) + 0.3472*Piecewise((-0.3668, Eq(3, 1.0*study)), (0.3606, Eq(4, 1.0*study)), (nan, True)) + 0.1862*Piecewise((-0.3098, Eq(1, 1.0*histol)), (1.3512, Eq(2, 1.0*histol)), (nan, True)) + 0.3472*Piecewise((-0.1453, Eq(1, 1.0*instit)), (0.5484, Eq(2, 1.0*instit)), (nan, True)) + 0.3895*Piecewise((-0.0544, Eq(1, 1.0*histol)), (-0.5385, Eq(2, 1.0*histol)), (nan, True)) + 0.3895*Piecewise((-0.0249, Eq(False, 1.0*in.subcohort)), (0.4873, Eq(True, 1.0*in.subcohort)), (nan, True)) + 0.3895*Piecewise((-0.001, Eq(3, 1.0*study)), (0.0854, Eq(4, 1.0*study)), (nan, True)) + 0.3895*Piecewise((0.0281, Eq(1, 1.0*instit)), (-0.8385, Eq(2, 1.0*instit)), (nan, True)) + 0.1862*Piecewise((0.1299, Eq(3, 1.0*study)), (-0.1148, Eq(4, 1.0*study)), (nan, True)) + 0.3472*Piecewise((-0.7809, Eq(1, 1.0*stage)), (0.0716, Eq(2, 1.0*stage)), (0.4768, Eq(3, 1.0*stage)), (1.0507, Eq(4, 1.0*stage)), (nan, True)) + 0.3895*Piecewise((-0.5011, Eq(1, 1.0*stage)), (0.0414, Eq(2, 1.0*stage)), (0.3448, Eq(3, 1.0*stage)), (0.7479, Eq(4, 1.0*stage)), (nan, True)) + 0.1862*Piecewise((-0.4801, Eq(1, 1.0*stage)), (0.0195, Eq(2, 1.0*stage)), (0.2796, Eq(3, 1.0*stage)), (0.6652, Eq(4, 1.0*stage)), (nan, True)) - 0.6046*tanh(0.0051*age + 0.7318*Piecewise((-0.6329, Eq(3, 1.0*study)), (0.4704, Eq(4, 1.0*study)), (nan, True)) + 0.7318*Piecewise((-0.2446, Eq(False, 1.0*in.subcohort)), (1.0248, Eq(True, 1.0*in.subcohort)), (nan, True)) + 0.7318*Piecewise((0.1364, Eq(1, 1.0*histol)), (0.0087, Eq(2, 1.0*histol)), (nan, True)) + 0.7318*Piecewise((0.1511, Eq(1, 1.0*instit)), (-0.7049, Eq(2, 1.0*instit)), (nan, True)) + 0.7318*Piecewise((-0.6759, Eq(1, 1.0*stage)), (-0.2445, Eq(2, 1.0*stage)), (0.7103, Eq(3, 1.0*stage)), (1.4509, Eq(4, 1.0*stage)), (nan, True)) - 1.4641) - 2.4626*atan(0.0601*age + 2.352*Piecewise((-0.3297, Eq(False, 1.0*in.subcohort)), (1.0658, Eq(True, 1.0*in.subcohort)), (nan, True)) + 2.352*Piecewise((-0.2155, Eq(3, 1.0*study)), (0.0943, Eq(4, 1.0*study)), (nan, True)) + 2.352*Piecewise((-0.1179, Eq(1, 1.0*instit)), (-0.4101, Eq(2, 1.0*instit)), (nan, True)) + 2.352*Piecewise((0.2774, Eq(1, 1.0*histol)), (-0.4292, Eq(2, 1.0*histol)), (nan, True)) + 2.352*Piecewise((0.1265, Eq(1, 1.0*stage)), (-0.0748, Eq(2, 1.0*stage)), (-0.0321, Eq(3, 1.0*stage)), (-0.1747, Eq(4, 1.0*stage)), (nan, True)) + 3.1937) - 0.1023"
      ]
     },
     "metadata": {},
     "output_type": "display_data"
    },
    {
     "name": "stdout",
     "output_type": "stream",
     "text": [
      "CoxPH:\n"
     ]
    },
    {
     "data": {
      "text/latex": [
       "$\\displaystyle 0.0064 age + 1.4956 histol - 0.2192 in.subcohort + 0.2163 instit + 0.3413 stage - 0.1407 study - 0.7196$"
      ],
      "text/plain": [
       "0.0064*age + 1.4956*histol - 0.2192*in.subcohort + 0.2163*instit + 0.3413*stage - 0.1407*study - 0.7196"
      ]
     },
     "metadata": {},
     "output_type": "display_data"
    },
    {
     "name": "stdout",
     "output_type": "stream",
     "text": [
      "0.0064 age + 1.4956 histol - 0.2192 in.subcohort + 0.2163 instit + 0.3413 stage - 0.1407 study - 0.7196\n"
     ]
    }
   ],
   "source": [
    "import os \n",
    "import pickle\n",
    "from pathlib import Path\n",
    "import yaml\n",
    "from coxkan import CoxKAN\n",
    "import sympy\n",
    "\n",
    "# datasets = ['gbsg', 'metabric', 'flchain', 'nwtco']\n",
    "datasets = ['gbsg', 'metabric', 'support', 'flchain', 'nwtco']\n",
    "\n",
    "def ex_round(ex1, floating_digit=4):\n",
    "    ex2 = ex1\n",
    "    for a in sympy.preorder_traversal(ex1):\n",
    "        if isinstance(a, sympy.Float):\n",
    "            ex2 = ex2.subs(a, round(a, floating_digit))\n",
    "    return ex2\n",
    "\n",
    "# Official results from DeepSurv publication (MLP-based survival model)\n",
    "deepsurv_results = {\n",
    "    'support': '0.618308 (0.616, 0.620)',\n",
    "    'metabric': '0.643375 (0.639, 0.647)',\n",
    "    'gbsg': '0.668402 (0.665, 0.671)',\n",
    "}\n",
    "\n",
    "incl_pruned = True\n",
    "\n",
    "if incl_pruned:\n",
    "    print('CoxPH DeepSurv CoxKAN_pre CoxKAN_pruned CoxKAN_Symbolic')\n",
    "else:\n",
    "    print('CoxPH DeepSurv CoxKAN_pre CoxKAN_Symbolic')\n",
    "for dataset in datasets:\n",
    "\n",
    "    directory = Path('checkpoints') / dataset\n",
    "    with open(directory / 'results.pkl', 'rb') as f:\n",
    "        results = pickle.load(f)\n",
    "\n",
    "    with open(directory / 'config.yml', 'r') as f:\n",
    "        config = yaml.safe_load(f)\n",
    "\n",
    "    ckan = CoxKAN(seed=42, **config['init_params'])\n",
    "    ckan.load_ckpt(directory / 'model.pt')\n",
    "    normalizer = ckan.normalizer\n",
    "    means = normalizer[0]\n",
    "    stds = normalizer[1]\n",
    "\n",
    "    ### C-Index results\n",
    "    cindex_cph = results['CoxPH']['test']\n",
    "    if 'DeepSurv' in results:\n",
    "        cindex_deepsurv = results['DeepSurv']['test']\n",
    "    else:\n",
    "        cindex_deepsurv = deepsurv_results[dataset]\n",
    "    cindex_pre = results['CoxKAN']['Pre']['test']\n",
    "    cindex_pruned = results['CoxKAN']['Pruned']['test']\n",
    "    cindex_symbolic = results['CoxKAN']['Symbolic']['test']\n",
    "\n",
    "    print('\\n-------------------------')\n",
    "    print(f'Dataset: {dataset}')\n",
    "\n",
    "    print(f'')\n",
    "\n",
    "    if incl_pruned:\n",
    "        print(f'{format_cindex(cindex_cph)} & {format_cindex(cindex_deepsurv)} & {format_cindex(cindex_pre)} & {format_cindex(cindex_pruned)} & {format_cindex(cindex_symbolic)}')\n",
    "    else:\n",
    "        print(f'{format_cindex(cindex_cph)} & {format_cindex(cindex_deepsurv)} & {format_cindex(cindex_pre)} & {format_cindex(cindex_symbolic)}')\n",
    "\n",
    "    ### Formulas\n",
    "    print('CoxKAN:')\n",
    "    coxkan_formula = results['CoxKAN']['Symbolic']['formula']\n",
    "    # coxkan_formula = ex_round(coxkan_formula, floating_digit=4)\n",
    "    print('')\n",
    "    if type(coxkan_formula) == str:\n",
    "        print(coxkan_formula)\n",
    "        print(latex(coxkan_formula))\n",
    "    else:\n",
    "        print(latex(coxkan_formula))\n",
    "        display(coxkan_formula)\n",
    "\n",
    "    print('CoxPH:')\n",
    "    cph_coeffs = results['CoxPH']['summary']['coef']\n",
    "    cph_formula = []\n",
    "    for x, coef in cph_coeffs.items():\n",
    "        mean = means[x]\n",
    "        std = stds[x]\n",
    "        x = (sympy.Symbol(x) - mean) / std\n",
    "        cph_formula.append(ex_round(coef * x))\n",
    "    cph_formula = sympy.Add(*cph_formula)\n",
    "    display(cph_formula)\n",
    "    print(latex(cph_formula))\n"
   ]
  },
  {
   "cell_type": "markdown",
   "metadata": {},
   "source": [
    "#### METABRIC\n",
    "\n",
    "$$\n",
    "\\begin{aligned}\n",
    "\\hat{\\theta}_{KAN} = \n",
    "        & - 0.24 \\cdot \\text{PGR}\n",
    "        + 0.7 e^{- 26 \\left(1 - 0.06 \\cdot \\text{ERBB2}\\right)^{2}} \\\\\n",
    "        & + 0.2 \\tanh(1.9 \\text{MKI67} - 10)\n",
    "        +\\left\\{ \n",
    "        \\begin{array}{ll}\n",
    "        0.1 & \\text{if } \\text{hormonal therapy} \\\\\n",
    "        0.03 & \\text{otherwise}\n",
    "        \\end{array}\n",
    "        \\right\\} \\\\\n",
    "        & +\\left\\{ \n",
    "        \\begin{array}{ll}\n",
    "        0.01 & \\text{if } \\text{radiotherapy} \\\\\n",
    "        0.18 & \\text{otherwise}\n",
    "        \\end{array}\n",
    "        \\right\\}\n",
    "        +\\left\\{ \n",
    "        \\begin{array}{ll}\n",
    "        0.6 & \\text{if } \\text{chemotherapy} \\\\\n",
    "        -0.05 & \\text{otherwise}\n",
    "        \\end{array}\n",
    "        \\right\\} \\\\\n",
    "        & +\\left\\{ \n",
    "        \\begin{array}{ll}\n",
    "        0.07 & \\text{if } \\text{ER positive} \\\\\n",
    "        -0.04 & \\text{otherwise}\n",
    "        \\end{array}\n",
    "        \\right\\}\n",
    "        - 1.7 \\sin{\\left(0.04 \\cdot \\text{Age} - 9.5 \\right)} \\\\\n",
    "\\end{aligned}\n",
    "$$\n",
    "\n",
    "$$\n",
    "\\hat{\\theta}_{CPH} = 0.0422 \\text{EGFR} + 0.0693 \\text{ER} + 0.1023 \\text{ERBB2} + 0.3145 \\text{MKI67} - 0.0698 \\text{PGR} + 0.0433 \\text{age} + 0.7712 \\text{chemo} + 0.1849 \\text{hormone} - 0.2118 \\text{radio} \n",
    "$$\n",
    "\n",
    "### SUPPORT\n",
    "\n",
    "$$\n",
    "\\begin{aligned}\n",
    "\\hat{\\theta}_{KAN} = \n",
    "\n",
    "        & \\, \\phi_{interact} - 0.0002 \\cdot \\text{age}\n",
    "        +\\left\\{ \n",
    "        \\begin{array}{ll}\n",
    "        0.003 & \\text{if } \\text{metastasis} \\\\\n",
    "        -0.01 & \\text{if } \\text{no cancer} \\\\\n",
    "        -0.0098 & \\text{if } \\text{cancer}\n",
    "        \\end{array}\n",
    "        \\right\\} \\\\\n",
    "        & +\\left\\{ \n",
    "        \\begin{array}{ll}\n",
    "        0.007 & \\text{if } \\text{male} \\\\\n",
    "        -0.01 & \\text{if } \\text{female}\n",
    "        \\end{array}\n",
    "        \\right\\}\n",
    "        - 0.01 \\cdot \\text{race} + 0.04 \\cdot \\text{comorbidity} \\\\\n",
    "        & +\\left\\{ \n",
    "        \\begin{array}{ll}\n",
    "        -0.03 & \\text{if } \\text{diabetes} \\\\\n",
    "        0.0006 & \\text{if } \\text{diabetes}\n",
    "        \\end{array}\n",
    "        \\right\\} \\\\\n",
    "        & +\\left\\{ \n",
    "        \\begin{array}{ll}\n",
    "        0.03 & \\text{if } \\text{dementia} \\\\\n",
    "        -0.0008 & \\text{if } \\text{dementia}\n",
    "        \\end{array}\n",
    "        \\right\\} \\\\\n",
    "        & + 0.9 e^{- 0.06 \\left(1 - 0.1 \\cdot \\text{meanbp}\\right)^{2}}\n",
    "        + 0.1 \\tanh{\\left(0.02 \\cdot \\text{hr} - 3 \\right)} \\\\\n",
    "        & - 0.06 \\sin{\\left(0.08 \\cdot \\text{rr} + 0.2 \\right)}\n",
    "        + 0.6 e^{- 572 \\left(1 - 0.02 \\cdot \\text{temp}\\right)^{2}} \\\\\n",
    "        & + 0.0008 \\cdot \\text{sodium}\n",
    "        + 0.03 \\tan{\\left(0.02 \\cdot \\text{wbc} - 4 \\right)}\n",
    "        + 0.003 \\cdot \\text{creatinine} \\\\\n",
    "\\end{aligned}\n",
    "$$\n",
    "\n",
    "$$\n",
    "\\begin{aligned}\n",
    "\\hat{\\theta}_{CPH} = & \\, 0.01 \\cdot \\text{age} - 0.09 \\cdot \\text{sex} + 0.02 \\cdot \\text{race} + 0.02 \\cdot \\text{comorbidity} - 0.05 \\cdot \\text{diabetes} \\\\ \n",
    "& + 0.1 \\cdot \\text{dementia} - 0.26 \\cdot \\text{cancer} - 0.003 \\cdot \\text{meanbp} + 0.002 \\cdot \\text{hr} \\\\\n",
    "& + 0.002 \\cdot \\text{rr} + 0.01 \\cdot \\text{temp} - 0.004 \\cdot \\text{sodium} + 0.003 \\cdot \\text{wbc} + 0.03 \\cdot \\text{creatinine}\n",
    "\\end{aligned}\n",
    "$$"
   ]
  },
  {
   "cell_type": "markdown",
   "metadata": {},
   "source": [
    "### NWTCO\n",
    "\n",
    "$$\n",
    "\\begin{aligned}\n",
    "\\hat{\\theta}_{KAN} = \n",
    "        & \\, \\phi_{1,3,1} + \\phi_{1,4,1} + 0.02 \\cdot \\text{age}  \\\\\n",
    "        & +\\left\\{ \n",
    "        \\begin{array}{ll}\n",
    "        -0.047 & \\text{if } \\text{favourable histology (instit)} \\\\\n",
    "        -0.136 & \\text{if } \\text{unfavourable histology (instit)}\n",
    "        \\end{array}\n",
    "        \\right\\} \\\\\n",
    "        & +\\left\\{ \n",
    "        \\begin{array}{ll}\n",
    "        -0.22 & \\text{if } \\text{favourable histology (histol)} \\\\\n",
    "        0.62 & \\text{if } \\text{unfavourable histology (histol)}\n",
    "        \\end{array}\n",
    "        \\right\\} \\\\\n",
    "        & +\\left\\{ \n",
    "        \\begin{array}{ll}\n",
    "        -0.47 & \\text{if } \\text{stage } = 1 \\\\\n",
    "         0.04 & \\text{if } \\text{stage } = 2 \\\\\n",
    "         0.35 & \\text{if } \\text{stage } = 3 \\\\\n",
    "         0.78 & \\text{if } \\text{stage } = 4 \\\\\n",
    "        \\end{array}\n",
    "        \\right\\} \\\\\n",
    "        & +\\left\\{ \n",
    "        \\begin{array}{ll}\n",
    "        0.02 & \\text{if } 3^{rd} \\text{ clinical study} \\\\\n",
    "        0.01 & \\text{if } 4^{th} \\text{ clinical study}\n",
    "        \\end{array}\n",
    "        \\right\\} \\\\\n",
    "        & + \\left\\{\n",
    "        \\begin{array}{ll}\n",
    "        0.2 & \\text{if } \\text{in subcohort} \\\\\n",
    "        -0.07 & \\text{otherwise}\n",
    "        \\end{array}\n",
    "        \\right\\}\n",
    "    \n",
    "\\end{aligned}\n",
    "$$\n",
    "\n",
    "$$\n",
    "\\begin{aligned}\n",
    "\\phi_{1,3,1} = - 2.5 \\arctan \\Bigg( 2 \\Bigg[\n",
    "        & +0.03 \\cdot \\text{age} \\\\\n",
    "        & +\\left\\{ \n",
    "        \\begin{array}{ll}\n",
    "        -0.1 & \\text{if } \\text{favourable histology (instit)} \\\\\n",
    "        -0.4 & \\text{if } \\text{unfavourable histology (instit)}\n",
    "        \\end{array}\n",
    "        \\right\\} \\\\\n",
    "        & +\\left\\{ \n",
    "        \\begin{array}{ll}\n",
    "        0.3 & \\text{if } \\text{favourable histology (histol)} \\\\\n",
    "        -0.4 & \\text{if } \\text{unfavourable histology (histol)}\n",
    "        \\end{array}\n",
    "        \\right\\} \\\\\n",
    "        & +\\left\\{ \n",
    "        \\begin{array}{ll}\n",
    "        0.1 & \\text{if } \\text{stage } = 1 \\\\\n",
    "        -0.07 & \\text{if } \\text{stage } = 2 \\\\\n",
    "        -0.03 & \\text{if } \\text{stage } = 3 \\\\\n",
    "        -0.17 & \\text{if } \\text{stage } = 4 \\\\\n",
    "        \\end{array}\n",
    "        \\right\\} \\\\\n",
    "        & +\\left\\{ \n",
    "        \\begin{array}{ll}\n",
    "        -0.2 & \\text{if } 3^{rd} \\text{ clinical study} \\\\\n",
    "        0.09 & \\text{if } 4^{th} \\text{ clinical study}\n",
    "        \\end{array}\n",
    "        \\right\\} \\\\\n",
    "\n",
    "        & + \\left\\{\n",
    "        \\begin{array}{ll}\n",
    "        1 & \\text{if } \\text{in subcohort} \\\\\n",
    "        -0.3 & \\text{otherwise}\n",
    "        \\end{array}\n",
    "        \\right\\}\n",
    "\\Bigg] \\Bigg)\n",
    "\\end{aligned}\n",
    "$$\n",
    "\n",
    "$$\n",
    "\\begin{aligned}\n",
    "\\phi_{1,4,1} = - 6 \\tanh \\Bigg( 0.7 \\Bigg[\n",
    "        & +0.006 \\cdot \\text{age} \\\\\n",
    "        & +\\left\\{ \n",
    "        \\begin{array}{ll}\n",
    "        0.15 & \\text{if } \\text{favourable histology (instit)} \\\\\n",
    "        -0.7 & \\text{if } \\text{unfavourable histology (instit)}\n",
    "        \\end{array}\n",
    "        \\right\\} \\\\\n",
    "        & +\\left\\{ \n",
    "        \\begin{array}{ll}\n",
    "        0.1 & \\text{if } \\text{favourable histology (histol)} \\\\\n",
    "        0.01 & \\text{if } \\text{unfavourable histology (histol)}\n",
    "        \\end{array}\n",
    "        \\right\\} \\\\\n",
    "        & +\\left\\{ \n",
    "        \\begin{array}{ll}\n",
    "        -0.7 & \\text{if } \\text{stage } = 1 \\\\\n",
    "        -0.2 & \\text{if } \\text{stage } = 2 \\\\\n",
    "        0.7 & \\text{if } \\text{stage } = 3 \\\\\n",
    "        1.45 & \\text{if } \\text{stage } = 4 \\\\\n",
    "        \\end{array}\n",
    "        \\right\\} \\\\\n",
    "        & +\\left\\{ \n",
    "        \\begin{array}{ll}\n",
    "        -0.6 & \\text{if } 3^{rd} \\text{ clinical study} \\\\\n",
    "        0.5 & \\text{if } 4^{th} \\text{ clinical study}\n",
    "        \\end{array}\n",
    "        \\right\\} \\\\\n",
    "\n",
    "        & + \\left\\{\n",
    "        \\begin{array}{ll}\n",
    "        1 & \\text{if } \\text{in subcohort} \\\\\n",
    "        -0.2 & \\text{otherwise}\n",
    "        \\end{array}\n",
    "        \\right\\}\n",
    "\\Bigg] \\Bigg)\n",
    "\\end{aligned}\n",
    "$$\n",
    "\n",
    "$$\n",
    "\\begin{aligned}\n",
    "\\hat{\\theta}_{CPH} = & \\, + 0.2163 \\cdot \\text{instit} + 1.4956 \\cdot \\text{histol} + 0.3413 \\cdot \\text{stage} \\\\\n",
    "& - 0.1407 \\cdot \\text{study} + 0.0064 \\cdot \\text{age} - 0.2192 \\cdot \\text{in.subcohort}\n",
    "\\end{aligned}\n",
    "$$"
   ]
  },
  {
   "cell_type": "markdown",
   "metadata": {
    "vscode": {
     "languageId": "raw"
    }
   },
   "source": [
    "#### FLCHAIN\n",
    "\n",
    "$$\n",
    "\\begin{aligned}\n",
    "\\hat{\\theta}_{KAN} =  & \\, 0.09 \\cdot \\text{age}         \n",
    "        +\\left\\{ \n",
    "        \\begin{array}{ll}\n",
    "        -0.047 & \\text{if } \\text{female} \\\\\n",
    "        0.118 & \\text{if } \\text{male}\n",
    "        \\end{array}\n",
    "        \\right\\} \\\\\n",
    "        & + 0.4 \\arctan(0.4 \\cdot \\text{year} - 737)\n",
    "        + 0.04 \\cdot \\text{FLC}_{kappa} \\\\\n",
    "        & + 0.3 \\cdot \\text{FLC}_{lambda} \n",
    "        + 0.009 \\cdot \\text{FLC}_\\text{group}\n",
    "        + 2\\arctan(0.5 \\cdot \\text{creatinine} - 0.9) \\\\\n",
    "\\end{aligned}\n",
    "$$\n",
    "\n",
    "$$\n",
    "\\hat{\\theta}_{CPH} = 0.1 \\cdot \\text{age} + 0.3 \\cdot \\text{sex} + 0.06 \\cdot \\text{year} + 0.01 \\cdot \\text{FLC}_{kappa} + 0.2 \\cdot \\text{FLC}_{lambda} + 0.06 \\cdot \\text{FLC}_\\text{group} + 0.03 \\cdot \\text{creatinine} + 0.3 \\cdot \\text{mgus}\n",
    "$$\n",
    "\n",
    "#### GBSG\n",
    "\n",
    "$$\n",
    "\\begin{aligned}\n",
    "\\hat{\\theta}_{KAN} = \n",
    "    & + \\left\\{ \n",
    "        \\begin{array}{ll}\n",
    "        -0.21 & \\text{if } \\text{hormonal therapy} \\\\\n",
    "        0.28 & \\text{otherwise}\n",
    "        \\end{array}\n",
    "        \\right\\} \\\\\n",
    "    & +\\left\\{\n",
    "        \\begin{array}{ll}\n",
    "        -0.07 & \\text{if } \\text{tumor size} \\leq 20 \\, \\text{mm} \\\\\n",
    "        0.21 & \\text{if } 20 < \\text{tumor size} < 50 \\, \\text{mm} \\\\\n",
    "        0.48 & \\text{if } \\text{tumor size} \\geq 50 \\, \\text{mm}\n",
    "        \\end{array}\n",
    "        \\right\\} \\\\\n",
    "    & +\\left\\{ \n",
    "        \\begin{array}{ll}\n",
    "        -0.12 & \\text{if } \\text{pre-menopausal} \\\\\n",
    "        0.23 & \\text{if } \\text{post-menopausal}\n",
    "        \\end{array}\n",
    "        \\right\\} \\\\\n",
    "    & + 1.8 \\left(1 - 0.02 \\cdot \\text{age}\\right)^{2} \\\\ \n",
    "    & - 1.2 e^{- 0.02 \\left(\\text{nodes} + 0.4\\right)^{2}} \\\\\n",
    "    & + 0.1 \\cosh{\\left(0.002 \\cdot \\text{PGR} - 1.6 \\right)} \\\\\n",
    "    & - 0.0007 \\cdot \\text{ER}\n",
    "\\end{aligned}\n",
    "$$\n",
    "\n",
    "$$\n",
    "\\hat{\\theta}_{CPH} = 0.003 \\cdot \\text{age} - 0.0003 \\cdot \\text{er} - 0.3 \\cdot \\text{hormon} + 0.26 \\cdot \\text{meno} + 0.06 \\cdot \\text{nodes} - 0.0003 \\cdot \\text{pgr} + 0.3 \\cdot \\text{size}\n",
    "$$\n"
   ]
  },
  {
   "cell_type": "markdown",
   "metadata": {},
   "source": [
    "# TCGA Genomics"
   ]
  },
  {
   "cell_type": "code",
   "execution_count": 3,
   "metadata": {},
   "outputs": [
    {
     "name": "stdout",
     "output_type": "stream",
     "text": [
      "CoxPH  CoxPH Reg  DeepSurv  CoxKAN Pre  CoxKAN Pruned  CoxKAN Symbolic\n",
      "-------------------------\n",
      "Experiment: TCGA-STAD\n",
      "STAD & 0.543441 \\newline (0.521, 0.543) & 0.677172 \\newline (0.673, 0.694) & 0.628620 \\newline (0.616, 0.638) & 0.700170 \\newline (0.697, 0.715) & 0.712095 \\newline (0.708, 0.729) & 0.717206 \\newline (0.705, 0.725)\n",
      "-------------------------\n",
      "Experiment: TCGA-BRCA\n",
      "BRCA & 0.539545 \\newline (0.529, 0.560) & 0.613182 \\newline (0.607, 0.635) & 0.632500 \\newline (0.623, 0.648) & 0.619091 \\newline (0.593, 0.621) & 0.634545 \\newline (0.617, 0.638) & 0.630455 \\newline (0.622, 0.642)\n",
      "-------------------------\n",
      "Experiment: TCGA-GBMLGG\n",
      "GBMLGG & N/A \\newline  & 0.787844 \\newline (0.777, 0.799) & 0.819094 \\newline (0.820, 0.836) & 0.813647 \\newline (0.808, 0.824) & 0.811353 \\newline (0.804, 0.820) & 0.818234 \\newline (0.817, 0.828)\n",
      "-------------------------\n",
      "Experiment: TCGA-KIRC\n",
      "KIRC & N/A \\newline  & 0.686285 \\newline (0.663, 0.686) & 0.650378 \\newline (0.641, 0.664) & 0.672246 \\newline (0.662, 0.684) & 0.671706 \\newline (0.668, 0.688) & 0.671166 \\newline (0.656, 0.678)\n"
     ]
    }
   ],
   "source": [
    "import pickle\n",
    "from sympy.printing.latex import latex\n",
    "\n",
    "experiments = ['TCGA-STAD', 'TCGA-BRCA', 'TCGA-GBMLGG', 'TCGA-KIRC']\n",
    "\n",
    "print('CoxPH  CoxPH Reg  DeepSurv  CoxKAN Pre  CoxKAN Pruned  CoxKAN Symbolic')\n",
    "for exp_name in experiments:\n",
    "\n",
    "    results = pickle.load(open(f'checkpoints/{exp_name}/results.pkl', 'rb'))\n",
    "\n",
    "    print('-------------------------')\n",
    "    print(f'Experiment: {exp_name}')\n",
    "\n",
    "    try: cindex_cph = results['CoxPH']['test']\n",
    "    except: cindex_cph = 'N/A '\n",
    "    cindex_cph_reg = results['CoxPH Reg']['test']\n",
    "    cindex_deepsurv = results['DeepSurv']['test']\n",
    "    cindex_pre = results['CoxKAN']['Pre']['test']\n",
    "    cindex_pruned = results['CoxKAN']['Pruned']['test']\n",
    "    cindex_symbolic = results['CoxKAN']['Symbolic']['test']\n",
    "\n",
    "    print(f'{exp_name[5:]} & {format_cindex(cindex_cph)} & {format_cindex(cindex_cph_reg)} & {format_cindex(cindex_deepsurv)} & {format_cindex(cindex_pre)} & {format_cindex(cindex_pruned)} & {format_cindex(cindex_symbolic)}')\n"
   ]
  },
  {
   "cell_type": "code",
   "execution_count": 4,
   "metadata": {},
   "outputs": [
    {
     "data": {
      "text/latex": [
       "$\\displaystyle - 0.0896 ANK_{3 (ENSG00000151150) mut} + 0.1657 APOA_{1 (ENSG00000118137.10) rna} + 0.043 APOD_{(ENSG00000189058.9) rna} - 0.048 ATM_{(ENSG00000149311) mut} + 0.0998 CCT6A_{(ENSG00000146731.11) rna} - 0.1149 CDH_{23 (ENSG00000107736) mut} + 0.0489 CELSR_{3 (ENSG00000008300) mut} + 0.101 CKS_{2 (ENSG00000123975.5) rna} + 0.0302 COL11A1_{(ENSG00000060718) mut} - 0.0937 COL6A2_{(ENSG00000142173.16) rna} + 0.045 DCLK_{1 (ENSG00000133083) mut} - 0.0658 DIDO_{1 (ENSG00000101191) mut} + 0.0746 DST_{(ENSG00000151914) mut} - 0.0682 EID_{1 (ENSG00000255302.5) rna} - 0.1006 FAT_{2 (ENSG00000086570) mut} - 0.0429 FLG_{(ENSG00000143631) mut} + 0.0057 GLI_{3 (ENSG00000106571) mut} + 0.1003 GNAS_{(ENSG00000087460.27) rna} - 0.1104 HNRNPK_{(ENSG00000165119.21) rna} - 0.0837 IGFBP_{4 (ENSG00000141753.7) rna} - 0.0241 MACF_{1 (ENSG00000127603) mut} - 0.1246 MISP_{(ENSG00000099812.9) rna} - 0.0886 MUC_{16 (ENSG00000181143) mut} + 0.1991 MUCL_{3 (ENSG00000168631.13) rna} - 0.0914 MYO_{16 (ENSG00000041515) mut} - 0.0554 NRXN_{1 (ENSG00000179915) mut} + 0.0803 POSTN_{(ENSG00000133110.15) rna} - 0.1382 PRR15L_{(ENSG00000167183.3) rna} - 0.0862 PTPRT_{(ENSG00000196090) mut} + 0.069 SERINC_{1 (ENSG00000111897.7) rna} + 0.1379 SPINK_{1 (ENSG00000164266.11) rna} + 0.1105 STOM_{(ENSG00000148175.13) rna} - 0.0617 TECTA_{(ENSG00000109927) mut} - 0.1262 TENM_{3 (ENSG00000218336) mut} + 0.0901 TMEM14C_{(ENSG00000111843.14) rna} + 0.2329 TOMM_{20 (ENSG00000173726.11) rna} + 0.005 UNC13C_{(ENSG00000137766) mut} - 0.0653 XIRP_{2 (ENSG00000163092) mut} + 0.0634 YWHAH_{(ENSG00000128245.15) rna} + 0.1245 group_{14 cnv} + 0.104 group_{16 cnv} + 0.0352 group_{21 cnv} + 0.1321 group_{33 cnv} - 0.0822 group_{47 cnv} - 0.0367 \\left(0.3444 - group_{11 cnv}\\right)^{2} - 0.0069 \\left(0.4 - MSN_{(ENSG00000147065.17) rna}\\right)^{3} - 0.0039 \\left(0.9753 - PTTG1IP_{(ENSG00000183255.12) rna}\\right)^{3} - 0.0015 \\left(0.9774 - MIR_{4753 (ENSG00000263439) cnv}\\right)^{3} - 0.1782 \\left(1 - 0.1719 IGFBP_{5 (ENSG00000115461.5) rna}\\right)^{2} + 0.1324 \\left(1 - 0.0886 SEC61G_{(ENSG00000132432.14) rna}\\right)^{2} + 0.0017 \\left(1 - 0.9711 group_{27 cnv}\\right)^{3} + 0.1268 \\left(1 - 0.1898 group_{31 cnv}\\right)^{3} - 0.0077 \\left(1 - 0.9233 group_{6 cnv}\\right)^{3} - 0.0483 \\left(1 - 0.1788 group_{8 cnv}\\right)^{4} - 0.3665 \\log{\\left(0.9715 PRKCSH_{(ENSG00000130175.10) rna} + 5.8041 \\right)} + 0.0449 \\sin{\\left(0.7698 APLP_{2 (ENSG00000084234.18) rna} - 1.5802 \\right)} - 0.0328 \\sin{\\left(0.9322 CCN_{2 (ENSG00000118523.6) rna} + 5.2701 \\right)} - 0.1023 \\sin{\\left(0.693 COL1A2_{(ENSG00000164692.18) rna} - 7.7855 \\right)} - 0.4956 \\sin{\\left(0.3738 HMGCS_{2 (ENSG00000134240.12) rna} + 8.3934 \\right)} - 0.101 \\sin{\\left(0.5134 IGFBP_{7 (ENSG00000163453.11) rna} - 4.4263 \\right)} + 0.0672 \\sin{\\left(0.7186 LUM_{(ENSG00000139329.5) rna} - 5.5324 \\right)} - 0.0817 \\sin{\\left(0.9109 MGP_{(ENSG00000111341.10) rna} - 6.71 \\right)} - 0.3459 \\sin{\\left(0.3029 PPP1R1B_{(ENSG00000131771) cnv} + 1.4899 \\right)} + 0.0873 \\sin{\\left(7.3525 RNU7-90P_{(ENSG00000238731) cnv} - 7.0121 \\right)} + 0.1952 \\sin{\\left(0.272 SAP_{18 (ENSG00000150459.12) rna} + 2.0 \\right)} + 0.0539 \\sin{\\left(1.1264 SH3BGRL_{(ENSG00000131171.13) rna} + 3.2614 \\right)} - 0.0594 \\sin{\\left(0.961 SRGN_{(ENSG00000122862.5) rna} + 4.7964 \\right)} - 0.0691 \\sin{\\left(1.3247 TSPO_{(ENSG00000100300.18) rna} + 3.9966 \\right)} - 0.0907 \\sin{\\left(0.8 TXNIP_{(ENSG00000265972.6) rna} + 8.61 \\right)} - 0.1049 \\sin{\\left(7.9733 group_{41 cnv} + 7.4354 \\right)} + 0.1465 \\sin{\\left(7.8362 group_{43 cnv} - 3.0045 \\right)} - 0.0469 \\sin{\\left(5.5827 group_{48 cnv} + 9.3978 \\right)} + 0.0628 \\tan{\\left(7.6833 AC091804.1_{(ENSG00000243635) cnv} - 6.6 \\right)} - 0.0051 \\tan{\\left(5.7919 group_{17 cnv} + 5.8549 \\right)} + 0.0015 \\tan{\\left(8.6409 group_{35 cnv} + 4.624 \\right)} - 0.0898 \\tan{\\left(0.2166 group_{42 cnv} + 0.2802 \\right)} + 0.0165 \\tan{\\left(0.6024 group_{9 cnv} - 7.0161 \\right)} - 0.0191 \\cosh{\\left(1.5031 SPARC_{(ENSG00000113140.11) rna} - 1.0618 \\right)} + 0.0077 \\cosh{\\left(1.2335 group_{32 cnv} - 1.7932 \\right)} + 0.2374 \\tanh{\\left(0.4626 A2M_{(ENSG00000175899.15) rna} - 0.8838 \\right)} + 0.2443 \\tanh{\\left(0.9588 CALM_{2 (ENSG00000143933.19) rna} - 0.406 \\right)} + 0.1932 \\tanh{\\left(0.3951 KLF_{5 (ENSG00000102554.14) rna} - 1.063 \\right)} - 0.1082 \\tanh{\\left(1.0184 group_{46 cnv} - 0.1734 \\right)} + 0.7575 \\operatorname{atan}{\\left(0.366 C_{3 (ENSG00000125730.17) rna} + 0.179 \\right)} + 0.1799 \\operatorname{atan}{\\left(0.5349 FAM83H_{(ENSG00000180921.7) rna} + 0.6646 \\right)} - 0.279 \\operatorname{atan}{\\left(0.4419 FN_{1 (ENSG00000115414.21) rna} - 1.6045 \\right)} - 0.1634 \\operatorname{atan}{\\left(0.7273 ID_{1 (ENSG00000125968.9) rna} + 0.3133 \\right)} - 0.2479 \\operatorname{atan}{\\left(0.5931 ITGB_{4 (ENSG00000132470.14) rna} - 1.9118 \\right)} + 0.1873 \\operatorname{atan}{\\left(0.544 TIMP_{1 (ENSG00000102265.12) rna} - 2.2 \\right)} + 0.3024 \\operatorname{atan}{\\left(0.4266 TIMP_{2 (ENSG00000035862.12) rna} - 0.8084 \\right)} + 1.1072 \\operatorname{atan}{\\left(0.5728 group_{36 cnv} - 5.02 \\right)} + 0.4938 \\operatorname{atan}{\\left(0.784 group_{50 cnv} - 5.6 \\right)} - 0.0983 \\operatorname{atan}{\\left(0.601 group_{7 cnv} - 0.5419 \\right)} + 0.2047 \\operatorname{atanh}{\\left(0.172 SOX_{9 (ENSG00000125398.8) rna} - 0.2 \\right)} + 0.1106 + 0.4052 e^{- 0.1233 \\left(- 0.5236 group_{53 cnv} - 1\\right)^{2}} - 0.1465 e^{- 7.84 \\left(1 - 0.7371 SNRPGP_{13 (ENSG00000231480) cnv}\\right)^{2}} - 0.31 e^{- 3.3797 \\left(1 - 0.2411 EFHD_{2 (ENSG00000142634.13) rna}\\right)^{2}} - \\frac{0.0031}{\\left(1 - 0.2427 group_{4 cnv}\\right)^{3}} - \\frac{0.0142}{\\left(1 - 0.0897 group_{15 cnv}\\right)^{3}} - \\frac{0.0104}{\\left(1 - 0.1317 STARD_{3 (ENSG00000131748) cnv}\\right)^{3}}$"
      ],
      "text/plain": [
       "-0.0896*ANK3_(ENSG00000151150)_mut + 0.1657*APOA1_(ENSG00000118137.10)_rna + 0.043*APOD_(ENSG00000189058.9)_rna - 0.048*ATM_(ENSG00000149311)_mut + 0.0998*CCT6A_(ENSG00000146731.11)_rna - 0.1149*CDH23_(ENSG00000107736)_mut + 0.0489*CELSR3_(ENSG00000008300)_mut + 0.101*CKS2_(ENSG00000123975.5)_rna + 0.0302*COL11A1_(ENSG00000060718)_mut - 0.0937*COL6A2_(ENSG00000142173.16)_rna + 0.045*DCLK1_(ENSG00000133083)_mut - 0.0658*DIDO1_(ENSG00000101191)_mut + 0.0746*DST_(ENSG00000151914)_mut - 0.0682*EID1_(ENSG00000255302.5)_rna - 0.1006*FAT2_(ENSG00000086570)_mut - 0.0429*FLG_(ENSG00000143631)_mut + 0.0057*GLI3_(ENSG00000106571)_mut + 0.1003*GNAS_(ENSG00000087460.27)_rna - 0.1104*HNRNPK_(ENSG00000165119.21)_rna - 0.0837*IGFBP4_(ENSG00000141753.7)_rna - 0.0241*MACF1_(ENSG00000127603)_mut - 0.1246*MISP_(ENSG00000099812.9)_rna - 0.0886*MUC16_(ENSG00000181143)_mut + 0.1991*MUCL3_(ENSG00000168631.13)_rna - 0.0914*MYO16_(ENSG00000041515)_mut - 0.0554*NRXN1_(ENSG00000179915)_mut + 0.0803*POSTN_(ENSG00000133110.15)_rna - 0.1382*PRR15L_(ENSG00000167183.3)_rna - 0.0862*PTPRT_(ENSG00000196090)_mut + 0.069*SERINC1_(ENSG00000111897.7)_rna + 0.1379*SPINK1_(ENSG00000164266.11)_rna + 0.1105*STOM_(ENSG00000148175.13)_rna - 0.0617*TECTA_(ENSG00000109927)_mut - 0.1262*TENM3_(ENSG00000218336)_mut + 0.0901*TMEM14C_(ENSG00000111843.14)_rna + 0.2329*TOMM20_(ENSG00000173726.11)_rna + 0.005*UNC13C_(ENSG00000137766)_mut - 0.0653*XIRP2_(ENSG00000163092)_mut + 0.0634*YWHAH_(ENSG00000128245.15)_rna + 0.1245*group_14_cnv + 0.104*group_16_cnv + 0.0352*group_21_cnv + 0.1321*group_33_cnv - 0.0822*group_47_cnv - 0.0367*(0.3444 - group_11_cnv)**2 - 0.0069*(0.4 - MSN_(ENSG00000147065.17)_rna)**3 - 0.0039*(0.9753 - PTTG1IP_(ENSG00000183255.12)_rna)**3 - 0.0015*(0.9774 - MIR4753_(ENSG00000263439)_cnv)**3 - 0.1782*(1 - 0.1719*IGFBP5_(ENSG00000115461.5)_rna)**2 + 0.1324*(1 - 0.0886*SEC61G_(ENSG00000132432.14)_rna)**2 + 0.0017*(1 - 0.9711*group_27_cnv)**3 + 0.1268*(1 - 0.1898*group_31_cnv)**3 - 0.0077*(1 - 0.9233*group_6_cnv)**3 - 0.0483*(1 - 0.1788*group_8_cnv)**4 - 0.3665*log(0.9715*PRKCSH_(ENSG00000130175.10)_rna + 5.8041) + 0.0449*sin(0.7698*APLP2_(ENSG00000084234.18)_rna - 1.5802) - 0.0328*sin(0.9322*CCN2_(ENSG00000118523.6)_rna + 5.2701) - 0.1023*sin(0.693*COL1A2_(ENSG00000164692.18)_rna - 7.7855) - 0.4956*sin(0.3738*HMGCS2_(ENSG00000134240.12)_rna + 8.3934) - 0.101*sin(0.5134*IGFBP7_(ENSG00000163453.11)_rna - 4.4263) + 0.0672*sin(0.7186*LUM_(ENSG00000139329.5)_rna - 5.5324) - 0.0817*sin(0.9109*MGP_(ENSG00000111341.10)_rna - 6.71) - 0.3459*sin(0.3029*PPP1R1B_(ENSG00000131771)_cnv + 1.4899) + 0.0873*sin(7.3525*RNU7-90P_(ENSG00000238731)_cnv - 7.0121) + 0.1952*sin(0.272*SAP18_(ENSG00000150459.12)_rna + 2.0) + 0.0539*sin(1.1264*SH3BGRL_(ENSG00000131171.13)_rna + 3.2614) - 0.0594*sin(0.961*SRGN_(ENSG00000122862.5)_rna + 4.7964) - 0.0691*sin(1.3247*TSPO_(ENSG00000100300.18)_rna + 3.9966) - 0.0907*sin(0.8*TXNIP_(ENSG00000265972.6)_rna + 8.61) - 0.1049*sin(7.9733*group_41_cnv + 7.4354) + 0.1465*sin(7.8362*group_43_cnv - 3.0045) - 0.0469*sin(5.5827*group_48_cnv + 9.3978) + 0.0628*tan(7.6833*AC091804.1_(ENSG00000243635)_cnv - 6.6) - 0.0051*tan(5.7919*group_17_cnv + 5.8549) + 0.0015*tan(8.6409*group_35_cnv + 4.624) - 0.0898*tan(0.2166*group_42_cnv + 0.2802) + 0.0165*tan(0.6024*group_9_cnv - 7.0161) - 0.0191*cosh(1.5031*SPARC_(ENSG00000113140.11)_rna - 1.0618) + 0.0077*cosh(1.2335*group_32_cnv - 1.7932) + 0.2374*tanh(0.4626*A2M_(ENSG00000175899.15)_rna - 0.8838) + 0.2443*tanh(0.9588*CALM2_(ENSG00000143933.19)_rna - 0.406) + 0.1932*tanh(0.3951*KLF5_(ENSG00000102554.14)_rna - 1.063) - 0.1082*tanh(1.0184*group_46_cnv - 0.1734) + 0.7575*atan(0.366*C3_(ENSG00000125730.17)_rna + 0.179) + 0.1799*atan(0.5349*FAM83H_(ENSG00000180921.7)_rna + 0.6646) - 0.279*atan(0.4419*FN1_(ENSG00000115414.21)_rna - 1.6045) - 0.1634*atan(0.7273*ID1_(ENSG00000125968.9)_rna + 0.3133) - 0.2479*atan(0.5931*ITGB4_(ENSG00000132470.14)_rna - 1.9118) + 0.1873*atan(0.544*TIMP1_(ENSG00000102265.12)_rna - 2.2) + 0.3024*atan(0.4266*TIMP2_(ENSG00000035862.12)_rna - 0.8084) + 1.1072*atan(0.5728*group_36_cnv - 5.02) + 0.4938*atan(0.784*group_50_cnv - 5.6) - 0.0983*atan(0.601*group_7_cnv - 0.5419) + 0.2047*atanh(0.172*SOX9_(ENSG00000125398.8)_rna - 0.2) + 0.1106 + 0.4052*exp(-0.1233*(-0.5236*group_53_cnv - 1)**2) - 0.1465*exp(-7.84*(1 - 0.7371*SNRPGP13_(ENSG00000231480)_cnv)**2) - 0.31*exp(-3.3797*(1 - 0.2411*EFHD2_(ENSG00000142634.13)_rna)**2) - 0.0031/(1 - 0.2427*group_4_cnv)**3 - 0.0142/(1 - 0.0897*group_15_cnv)**3 - 0.0104/(1 - 0.1317*STARD3_(ENSG00000131748)_cnv)**3"
      ]
     },
     "metadata": {},
     "output_type": "display_data"
    },
    {
     "name": "stdout",
     "output_type": "stream",
     "text": [
      "- 0.0896 ANK_{3 (ENSG00000151150) mut} + 0.1657 APOA_{1 (ENSG00000118137.10) rna} + 0.043 APOD_{(ENSG00000189058.9) rna} - 0.048 ATM_{(ENSG00000149311) mut} + 0.0998 CCT6A_{(ENSG00000146731.11) rna} - 0.1149 CDH_{23 (ENSG00000107736) mut} + 0.0489 CELSR_{3 (ENSG00000008300) mut} + 0.101 CKS_{2 (ENSG00000123975.5) rna} + 0.0302 COL11A1_{(ENSG00000060718) mut} - 0.0937 COL6A2_{(ENSG00000142173.16) rna} + 0.045 DCLK_{1 (ENSG00000133083) mut} - 0.0658 DIDO_{1 (ENSG00000101191) mut} + 0.0746 DST_{(ENSG00000151914) mut} - 0.0682 EID_{1 (ENSG00000255302.5) rna} - 0.1006 FAT_{2 (ENSG00000086570) mut} - 0.0429 FLG_{(ENSG00000143631) mut} + 0.0057 GLI_{3 (ENSG00000106571) mut} + 0.1003 GNAS_{(ENSG00000087460.27) rna} - 0.1104 HNRNPK_{(ENSG00000165119.21) rna} - 0.0837 IGFBP_{4 (ENSG00000141753.7) rna} - 0.0241 MACF_{1 (ENSG00000127603) mut} - 0.1246 MISP_{(ENSG00000099812.9) rna} - 0.0886 MUC_{16 (ENSG00000181143) mut} + 0.1991 MUCL_{3 (ENSG00000168631.13) rna} - 0.0914 MYO_{16 (ENSG00000041515) mut} - 0.0554 NRXN_{1 (ENSG00000179915) mut} + 0.0803 POSTN_{(ENSG00000133110.15) rna} - 0.1382 PRR15L_{(ENSG00000167183.3) rna} - 0.0862 PTPRT_{(ENSG00000196090) mut} + 0.069 SERINC_{1 (ENSG00000111897.7) rna} + 0.1379 SPINK_{1 (ENSG00000164266.11) rna} + 0.1105 STOM_{(ENSG00000148175.13) rna} - 0.0617 TECTA_{(ENSG00000109927) mut} - 0.1262 TENM_{3 (ENSG00000218336) mut} + 0.0901 TMEM14C_{(ENSG00000111843.14) rna} + 0.2329 TOMM_{20 (ENSG00000173726.11) rna} + 0.005 UNC13C_{(ENSG00000137766) mut} - 0.0653 XIRP_{2 (ENSG00000163092) mut} + 0.0634 YWHAH_{(ENSG00000128245.15) rna} + 0.1245 group_{14 cnv} + 0.104 group_{16 cnv} + 0.0352 group_{21 cnv} + 0.1321 group_{33 cnv} - 0.0822 group_{47 cnv} - 0.0367 \\left(0.3444 - group_{11 cnv}\\right)^{2} - 0.0069 \\left(0.4 - MSN_{(ENSG00000147065.17) rna}\\right)^{3} - 0.0039 \\left(0.9753 - PTTG1IP_{(ENSG00000183255.12) rna}\\right)^{3} - 0.0015 \\left(0.9774 - MIR_{4753 (ENSG00000263439) cnv}\\right)^{3} - 0.1782 \\left(1 - 0.1719 IGFBP_{5 (ENSG00000115461.5) rna}\\right)^{2} + 0.1324 \\left(1 - 0.0886 SEC61G_{(ENSG00000132432.14) rna}\\right)^{2} + 0.0017 \\left(1 - 0.9711 group_{27 cnv}\\right)^{3} + 0.1268 \\left(1 - 0.1898 group_{31 cnv}\\right)^{3} - 0.0077 \\left(1 - 0.9233 group_{6 cnv}\\right)^{3} - 0.0483 \\left(1 - 0.1788 group_{8 cnv}\\right)^{4} - 0.3665 \\log{\\left(0.9715 PRKCSH_{(ENSG00000130175.10) rna} + 5.8041 \\right)} + 0.0449 \\sin{\\left(0.7698 APLP_{2 (ENSG00000084234.18) rna} - 1.5802 \\right)} - 0.0328 \\sin{\\left(0.9322 CCN_{2 (ENSG00000118523.6) rna} + 5.2701 \\right)} - 0.1023 \\sin{\\left(0.693 COL1A2_{(ENSG00000164692.18) rna} - 7.7855 \\right)} - 0.4956 \\sin{\\left(0.3738 HMGCS_{2 (ENSG00000134240.12) rna} + 8.3934 \\right)} - 0.101 \\sin{\\left(0.5134 IGFBP_{7 (ENSG00000163453.11) rna} - 4.4263 \\right)} + 0.0672 \\sin{\\left(0.7186 LUM_{(ENSG00000139329.5) rna} - 5.5324 \\right)} - 0.0817 \\sin{\\left(0.9109 MGP_{(ENSG00000111341.10) rna} - 6.71 \\right)} - 0.3459 \\sin{\\left(0.3029 PPP1R1B_{(ENSG00000131771) cnv} + 1.4899 \\right)} + 0.0873 \\sin{\\left(7.3525 RNU7-90P_{(ENSG00000238731) cnv} - 7.0121 \\right)} + 0.1952 \\sin{\\left(0.272 SAP_{18 (ENSG00000150459.12) rna} + 2.0 \\right)} + 0.0539 \\sin{\\left(1.1264 SH3BGRL_{(ENSG00000131171.13) rna} + 3.2614 \\right)} - 0.0594 \\sin{\\left(0.961 SRGN_{(ENSG00000122862.5) rna} + 4.7964 \\right)} - 0.0691 \\sin{\\left(1.3247 TSPO_{(ENSG00000100300.18) rna} + 3.9966 \\right)} - 0.0907 \\sin{\\left(0.8 TXNIP_{(ENSG00000265972.6) rna} + 8.61 \\right)} - 0.1049 \\sin{\\left(7.9733 group_{41 cnv} + 7.4354 \\right)} + 0.1465 \\sin{\\left(7.8362 group_{43 cnv} - 3.0045 \\right)} - 0.0469 \\sin{\\left(5.5827 group_{48 cnv} + 9.3978 \\right)} + 0.0628 \\tan{\\left(7.6833 AC091804.1_{(ENSG00000243635) cnv} - 6.6 \\right)} - 0.0051 \\tan{\\left(5.7919 group_{17 cnv} + 5.8549 \\right)} + 0.0015 \\tan{\\left(8.6409 group_{35 cnv} + 4.624 \\right)} - 0.0898 \\tan{\\left(0.2166 group_{42 cnv} + 0.2802 \\right)} + 0.0165 \\tan{\\left(0.6024 group_{9 cnv} - 7.0161 \\right)} - 0.0191 \\cosh{\\left(1.5031 SPARC_{(ENSG00000113140.11) rna} - 1.0618 \\right)} + 0.0077 \\cosh{\\left(1.2335 group_{32 cnv} - 1.7932 \\right)} + 0.2374 \\tanh{\\left(0.4626 A2M_{(ENSG00000175899.15) rna} - 0.8838 \\right)} + 0.2443 \\tanh{\\left(0.9588 CALM_{2 (ENSG00000143933.19) rna} - 0.406 \\right)} + 0.1932 \\tanh{\\left(0.3951 KLF_{5 (ENSG00000102554.14) rna} - 1.063 \\right)} - 0.1082 \\tanh{\\left(1.0184 group_{46 cnv} - 0.1734 \\right)} + 0.7575 \\operatorname{atan}{\\left(0.366 C_{3 (ENSG00000125730.17) rna} + 0.179 \\right)} + 0.1799 \\operatorname{atan}{\\left(0.5349 FAM83H_{(ENSG00000180921.7) rna} + 0.6646 \\right)} - 0.279 \\operatorname{atan}{\\left(0.4419 FN_{1 (ENSG00000115414.21) rna} - 1.6045 \\right)} - 0.1634 \\operatorname{atan}{\\left(0.7273 ID_{1 (ENSG00000125968.9) rna} + 0.3133 \\right)} - 0.2479 \\operatorname{atan}{\\left(0.5931 ITGB_{4 (ENSG00000132470.14) rna} - 1.9118 \\right)} + 0.1873 \\operatorname{atan}{\\left(0.544 TIMP_{1 (ENSG00000102265.12) rna} - 2.2 \\right)} + 0.3024 \\operatorname{atan}{\\left(0.4266 TIMP_{2 (ENSG00000035862.12) rna} - 0.8084 \\right)} + 1.1072 \\operatorname{atan}{\\left(0.5728 group_{36 cnv} - 5.02 \\right)} + 0.4938 \\operatorname{atan}{\\left(0.784 group_{50 cnv} - 5.6 \\right)} - 0.0983 \\operatorname{atan}{\\left(0.601 group_{7 cnv} - 0.5419 \\right)} + 0.2047 \\operatorname{atanh}{\\left(0.172 SOX_{9 (ENSG00000125398.8) rna} - 0.2 \\right)} + 0.1106 + 0.4052 e^{- 0.1233 \\left(- 0.5236 group_{53 cnv} - 1\\right)^{2}} - 0.1465 e^{- 7.84 \\left(1 - 0.7371 SNRPGP_{13 (ENSG00000231480) cnv}\\right)^{2}} - 0.31 e^{- 3.3797 \\left(1 - 0.2411 EFHD_{2 (ENSG00000142634.13) rna}\\right)^{2}} - \\frac{0.0031}{\\left(1 - 0.2427 group_{4 cnv}\\right)^{3}} - \\frac{0.0142}{\\left(1 - 0.0897 group_{15 cnv}\\right)^{3}} - \\frac{0.0104}{\\left(1 - 0.1317 STARD_{3 (ENSG00000131748) cnv}\\right)^{3}}\n"
     ]
    },
    {
     "data": {
      "text/plain": [
       "{'(0,95,0) 0.24425*tanh(0.9588*CALM2_(ENSG00000143933.19)_rna - 0.406)': 0.14763517582456648,\n",
       " '(0,76,0) -0.13818*PRR15L_(ENSG00000167183.3)_rna - 0.13265': 0.10607886742645557,\n",
       " '(0,78,0) 0.23288*TOMM20_(ENSG00000173726.11)_rna + 0.20028': 0.08998552750768095,\n",
       " '(0,140,0) 0.08509 - 0.08863*MUC16_(ENSG00000181143)_mut': 0.0886307223101623,\n",
       " '(0,127,0) 0.75749*atan(0.366*C3_(ENSG00000125730.17)_rna + 0.17896)': 0.07924222220372616,\n",
       " '(0,99,0) -0.11039*HNRNPK_(ENSG00000165119.21)_rna - 0.09273': 0.07898811363438991,\n",
       " '(0,116,0) 0.10712 - 0.12456*MISP_(ENSG00000099812.9)_rna': 0.07522894236203936,\n",
       " '(0,123,0) 0.10103*CKS2_(ENSG00000123975.5)_rna + 0.09497': 0.06674894594438927,\n",
       " '(0,54,0) -0.1082*tanh(1.0184*group_46_cnv - 0.17344)': 0.06472721830272697,\n",
       " '(0,79,0) 0.11049*STOM_(ENSG00000148175.13)_rna + 0.10386': 0.06089391191990403}"
      ]
     },
     "execution_count": 4,
     "metadata": {},
     "output_type": "execute_result"
    }
   ],
   "source": [
    "exp_name = 'TCGA-STAD'\n",
    "results = pickle.load(open(f'checkpoints/{exp_name}/results.pkl', 'rb'))\n",
    "\n",
    "coxkan_formula = results['CoxKAN']['Symbolic']['formula']\n",
    "display(coxkan_formula)\n",
    "\n",
    "print(latex(coxkan_formula))\n",
    "\n",
    "{k:v for k,v in list(results['CoxKAN']['Symbolic']['terms_std'].items())[:10]}"
   ]
  },
  {
   "cell_type": "markdown",
   "metadata": {},
   "source": [
    "$$\n",
    "\\begin{split}\n",
    "\\hat{\\theta}_{KAN} = & + 0.2 \\tanh(\\text{CALM2}_{RNA} - 0.4) \\quad (\\sigma=0.15) \\, \\\\\n",
    "& -0.1 \\cdot \\text{PRR15L}_{RNA} \\quad (\\sigma=0.1) \\, \\\\\n",
    "& + 0.2 \\cdot \\text{TOMM20}_{RNA} \\quad (\\sigma=0.09) \\, \\\\\n",
    "& - 0.09 \\cdot \\text{MUC16}_{mut} \\quad (\\sigma=0.09) \\, \\\\\n",
    "& + 0.8 \\arctan(0.4 \\cdot \\text{C3}_{RNA} + 0.2) \\quad (\\sigma=0.08) \\, \\\\\n",
    "& -0.1 \\cdot \\text{HNRNPK}_{RNA} \\quad (\\sigma=0.08) \\, \\\\\n",
    "& -0.2 \\cdot \\text{MISP}_{RNA} \\quad (\\sigma=0.08) \\, \\\\\n",
    "& -0.1 \\tanh(\\text{group\\_46}_{CNV} - 0.2) \\quad (\\sigma=0.06) \\\\\n",
    "& + \\text{less significant terms},\n",
    "\\end{split}\n",
    "$$"
   ]
  },
  {
   "cell_type": "code",
   "execution_count": 5,
   "metadata": {},
   "outputs": [
    {
     "data": {
      "text/latex": [
       "$\\displaystyle 0.1054 DMD_{(ENSG00000198947) mut} + 0.2485 KMT2C_{(ENSG00000055609) mut} - 0.1401 RYR_{2 (ENSG00000198626) mut} + 0.0733 TTN_{(ENSG00000155657) mut} + 0.0505 \\sin{\\left(1.1065 AP002791.1_{(ENSG00000280093) cnv} - 5.0262 \\right)} - 0.1775 \\sin{\\left(0.6052 CHMP4B_{(ENSG00000101421.4) rna} + 5.0074 \\right)} + 0.6474 \\sin{\\left(0.4853 HSPA_{8 (ENSG00000109971.14) rna} - 7.3478 \\right)} - 0.293 \\sin{\\left(0.5062 RPL_{14 (ENSG00000188846.14) rna} + 4.9681 \\right)} + 0.4716 \\sin{\\left(0.512 group_{40 cnv} + 5.1666 \\right)} + 0.1539 - 2.2206 e^{- 0.0419 \\left(- 0.8597 PLXNB_{2 (ENSG00000196576.15) rna} - 1\\right)^{2}} - 2.0795 e^{- 0.0474 \\left(- 0.8692 PGK_{1 (ENSG00000102144.15) rna} - 1\\right)^{2}} + 0.9466 e^{- 0.0633 \\left(- H2BC5_{(ENSG00000158373.8) rna} - 0.451\\right)^{2}} + \\frac{0.386}{\\left(1 - 0.0952 group_{46 cnv}\\right)^{2}}$"
      ],
      "text/plain": [
       "0.1054*DMD_(ENSG00000198947)_mut + 0.2485*KMT2C_(ENSG00000055609)_mut - 0.1401*RYR2_(ENSG00000198626)_mut + 0.0733*TTN_(ENSG00000155657)_mut + 0.0505*sin(1.1065*AP002791.1_(ENSG00000280093)_cnv - 5.0262) - 0.1775*sin(0.6052*CHMP4B_(ENSG00000101421.4)_rna + 5.0074) + 0.6474*sin(0.4853*HSPA8_(ENSG00000109971.14)_rna - 7.3478) - 0.293*sin(0.5062*RPL14_(ENSG00000188846.14)_rna + 4.9681) + 0.4716*sin(0.512*group_40_cnv + 5.1666) + 0.1539 - 2.2206*exp(-0.0419*(-0.8597*PLXNB2_(ENSG00000196576.15)_rna - 1)**2) - 2.0795*exp(-0.0474*(-0.8692*PGK1_(ENSG00000102144.15)_rna - 1)**2) + 0.9466*exp(-0.0633*(-H2BC5_(ENSG00000158373.8)_rna - 0.451)**2) + 0.386/(1 - 0.0952*group_46_cnv)**2"
      ]
     },
     "metadata": {},
     "output_type": "display_data"
    },
    {
     "name": "stdout",
     "output_type": "stream",
     "text": [
      "0.1054 DMD_{(ENSG00000198947) mut} + 0.2485 KMT2C_{(ENSG00000055609) mut} - 0.1401 RYR_{2 (ENSG00000198626) mut} + 0.0733 TTN_{(ENSG00000155657) mut} + 0.0505 \\sin{\\left(1.1065 AP002791.1_{(ENSG00000280093) cnv} - 5.0262 \\right)} - 0.1775 \\sin{\\left(0.6052 CHMP4B_{(ENSG00000101421.4) rna} + 5.0074 \\right)} + 0.6474 \\sin{\\left(0.4853 HSPA_{8 (ENSG00000109971.14) rna} - 7.3478 \\right)} - 0.293 \\sin{\\left(0.5062 RPL_{14 (ENSG00000188846.14) rna} + 4.9681 \\right)} + 0.4716 \\sin{\\left(0.512 group_{40 cnv} + 5.1666 \\right)} + 0.1539 - 2.2206 e^{- 0.0419 \\left(- 0.8597 PLXNB_{2 (ENSG00000196576.15) rna} - 1\\right)^{2}} - 2.0795 e^{- 0.0474 \\left(- 0.8692 PGK_{1 (ENSG00000102144.15) rna} - 1\\right)^{2}} + 0.9466 e^{- 0.0633 \\left(- H2BC5_{(ENSG00000158373.8) rna} - 0.451\\right)^{2}} + \\frac{0.386}{\\left(1 - 0.0952 group_{46 cnv}\\right)^{2}}\n"
     ]
    },
    {
     "data": {
      "text/plain": [
       "{'(0,164,0) 0.24847*KMT2C_(ENSG00000055609)_mut + 0.20871': 0.2421860440830027,\n",
       " '(0,99,0) 0.64738*sin(0.48528*HSPA8_(ENSG00000109971.14)_rna - 7.34776)': 0.1781848872763935,\n",
       " '(0,158,0) -2.22062*exp(-0.04191*(-0.85971*PLXNB2_(ENSG00000196576.15)_rna - 1)**2)': 0.16922728756722222,\n",
       " '(0,75,0) -2.07947*exp(-0.04742*(-0.86921*PGK1_(ENSG00000102144.15)_rna - 1)**2)': 0.15344062020043642,\n",
       " '(0,167,0) -0.14008*RYR2_(ENSG00000198626)_mut - 0.14008': 0.13868397878941394,\n",
       " '(0,166,0) 0.10544*DMD_(ENSG00000198947)_mut + 0.09701': 0.10149788503786995,\n",
       " '(0,165,0) 0.07327*TTN_(ENSG00000155657)_mut - 0.01172': 0.0743229478074131,\n",
       " '(0,57,0) 0.38596/(1 - 0.09523*group_46_cnv)**2': 0.06272609237756933,\n",
       " '(0,110,0) 0.9466*exp(-0.06334*(-H2BC5_(ENSG00000158373.8)_rna - 0.45105)**2)': 0.05471130865454245,\n",
       " '(0,108,0) -0.29297*sin(0.50616*RPL14_(ENSG00000188846.14)_rna + 4.96808)': 0.04758794938724601}"
      ]
     },
     "execution_count": 5,
     "metadata": {},
     "output_type": "execute_result"
    }
   ],
   "source": [
    "exp_name = 'TCGA-BRCA'\n",
    "results = pickle.load(open(f'checkpoints/{exp_name}/results.pkl', 'rb'))\n",
    "\n",
    "coxkan_formula = results['CoxKAN']['Symbolic']['formula']\n",
    "display(coxkan_formula)\n",
    "\n",
    "print(latex(coxkan_formula))\n",
    "\n",
    "{k:v for k,v in list(results['CoxKAN']['Symbolic']['terms_std'].items())[:10]}"
   ]
  },
  {
   "cell_type": "markdown",
   "metadata": {},
   "source": [
    "$$\n",
    "\\begin{equation}\n",
    "\\begin{split}\n",
    "\\hat{\\theta}_{KAN} = & + 0.2 \\cdot \\text{KMT2C}_{mut} \\quad (\\sigma=0.24) \\, \\\\\n",
    "& + 0.6 \\sin(0.5 \\cdot \\text{HSPA8}_{RNA} - 7) \\quad (\\sigma=0.18)\\, \\\\\n",
    "& -2 \\exp{(-0.04 (0.9 \\cdot \\text{PLXNB2}_{RNA} + 1)^2)} \\quad (\\sigma=0.17) \\, \\\\\n",
    "& -2 \\exp{(-0.05 (0.9 \\cdot \\text{PGK1}_{RNA} + 1)^2)} \\quad (\\sigma=0.15) \\, \\\\\n",
    "& -0.14 \\cdot \\text{RYR2}_{mut} \\quad (\\sigma=0.14) \\, \\\\\n",
    "& +0.1 \\cdot \\text{DMD}_{mut} \\quad (\\sigma=0.1) \\, \\\\\n",
    "& +0.01 \\text{TTN}_{mut} \\quad (\\sigma=0.07) \\, \\\\\n",
    "& + \\frac{0.4}{(1-0.1 \\cdot \\text{group\\_46}_{CNV})^2} \\quad (\\sigma=0.06) \\, \\\\\n",
    "& + 0.9 \\exp(-0.06(\\text{H2BC5}_{RNA} - 0.5)^2) \\quad (\\sigma=0.05) \\, \\\\\n",
    "& - 0.3 \\sin(0.5 \\cdot \\text{RPL14}_{RNA} + 5) \\quad (\\sigma=0.05) \\, \\\\\n",
    "& + \\text{less significant terms},\n",
    "\\end{split}\n",
    "\\end{equation}\n",
    "$$"
   ]
  },
  {
   "cell_type": "code",
   "execution_count": 6,
   "metadata": {},
   "outputs": [
    {
     "data": {
      "text/latex": [
       "$\\displaystyle - 0.1573 \\cdot 10p - 0.1481 CALN_{1 rnaseq} - 0.1184 CDKN2A + 0.1646 DNAH_{17 rnaseq} + 0.215 FRAS_{1 rnaseq} - 0.1893 codeletion - 0.1682 idh_{mutation} - 0.0752 \\left(- 0.614 PTEN - 1\\right)^{4} - 0.1278 \\sin{\\left(8.9694 CDKN2B - 3.828 \\right)} - 0.3167 \\sin{\\left(8.6039 EGFR + 0.8108 \\right)} - 0.2616 \\sin{\\left(2.778 JAK_{2} - 4.5936 \\right)} + 0.3336 \\sin{\\left(0.8299 LRP1B_{rnaseq} + 2.0076 \\right)} + 6.4865 \\sin{\\left(1.0555 UGT2B4_{rnaseq} + 8.0027 \\right)} - 0.062 \\tan{\\left(0.4191 CARD_{11} + 7.5848 \\right)} + 0.4082 \\operatorname{atan}{\\left(0.5956 L1CAM_{rnaseq} + 0.1044 \\right)} - 0.2674 + 0.9989 e^{- 0.1283 \\left(- RB_{1 rnaseq} - 0.9004\\right)^{2}} + 1.2853 e^{- 0.2444 \\left(- 0.5966 \\cdot 10q - 1\\right)^{2}} + 3861.3101 e^{- 43.446 \\left(1 - 0.0947 DNAH_{11 rnaseq}\\right)^{2}} - \\frac{1.8894}{3.2094 - 0.6035 MUC_{17 rnaseq}} - \\frac{3.0631}{\\left(1 - 0.0755 TEKT_{4 rnaseq}\\right)^{3}}$"
      ],
      "text/plain": [
       "-0.1573*10p - 0.1481*CALN1_rnaseq - 0.1184*CDKN2A + 0.1646*DNAH17_rnaseq + 0.215*FRAS1_rnaseq - 0.1893*codeletion - 0.1682*idh_mutation - 0.0752*(-0.614*PTEN - 1)**4 - 0.1278*sin(8.9694*CDKN2B - 3.828) - 0.3167*sin(8.6039*EGFR + 0.8108) - 0.2616*sin(2.778*JAK2 - 4.5936) + 0.3336*sin(0.8299*LRP1B_rnaseq + 2.0076) + 6.4865*sin(1.0555*UGT2B4_rnaseq + 8.0027) - 0.062*tan(0.4191*CARD11 + 7.5848) + 0.4082*atan(0.5956*L1CAM_rnaseq + 0.1044) - 0.2674 + 0.9989*exp(-0.1283*(-RB1_rnaseq - 0.9004)**2) + 1.2853*exp(-0.2444*(-0.5966*10q - 1)**2) + 3861.3101*exp(-43.446*(1 - 0.0947*DNAH11_rnaseq)**2) - 1.8894/(3.2094 - 0.6035*MUC17_rnaseq) - 3.0631/(1 - 0.0755*TEKT4_rnaseq)**3"
      ]
     },
     "metadata": {},
     "output_type": "display_data"
    },
    {
     "name": "stdout",
     "output_type": "stream",
     "text": [
      "- 0.1573 \\cdot 10p - 0.1481 CALN_{1 rnaseq} - 0.1184 CDKN2A + 0.1646 DNAH_{17 rnaseq} + 0.215 FRAS_{1 rnaseq} - 0.1893 codeletion - 0.1682 idh_{mutation} - 0.0752 \\left(- 0.614 PTEN - 1\\right)^{4} - 0.1278 \\sin{\\left(8.9694 CDKN2B - 3.828 \\right)} - 0.3167 \\sin{\\left(8.6039 EGFR + 0.8108 \\right)} - 0.2616 \\sin{\\left(2.778 JAK_{2} - 4.5936 \\right)} + 0.3336 \\sin{\\left(0.8299 LRP1B_{rnaseq} + 2.0076 \\right)} + 6.4865 \\sin{\\left(1.0555 UGT2B4_{rnaseq} + 8.0027 \\right)} - 0.062 \\tan{\\left(0.4191 CARD_{11} + 7.5848 \\right)} + 0.4082 \\operatorname{atan}{\\left(0.5956 L1CAM_{rnaseq} + 0.1044 \\right)} - 0.2674 + 0.9989 e^{- 0.1283 \\left(- RB_{1 rnaseq} - 0.9004\\right)^{2}} + 1.2853 e^{- 0.2444 \\left(- 0.5966 \\cdot 10q - 1\\right)^{2}} + 3861.3101 e^{- 43.446 \\left(1 - 0.0947 DNAH_{11 rnaseq}\\right)^{2}} - \\frac{1.8894}{3.2094 - 0.6035 MUC_{17 rnaseq}} - \\frac{3.0631}{\\left(1 - 0.0755 TEKT_{4 rnaseq}\\right)^{3}}\n"
     ]
    },
    {
     "data": {
      "text/plain": [
       "{'(0,0,0) -0.18926*codeletion - 0.14762': 0.1914091219981568,\n",
       " '(0,61,0) 1.28525*exp(-0.24443*(-0.5966*10q - 1)**2)': 0.19017939127927327,\n",
       " '(0,1,0) -0.16824*idh_mutation - 0.14805': 0.16770168876090089,\n",
       " '(0,39,0) -0.062*tan(0.41912*CARD11 + 7.5848)': 0.158111376686172,\n",
       " '(0,42,0) -0.07521*(-0.61398*PTEN - 1)**4': 0.13927889786901765,\n",
       " '(0,40,0) -0.26156*sin(2.778*JAK2 - 4.5936)': 0.12395199984459931,\n",
       " '(0,16,0) 0.0663 - 0.11839*CDKN2A': 0.1218162772816938,\n",
       " '(0,313,0) -3.06313/(1 - 0.07545*TEKT4_rnaseq)**3': 0.09913908261024842,\n",
       " '(0,17,0) -0.12779*sin(8.96936*CDKN2B - 3.828)': 0.09636966052021158,\n",
       " '(0,2,0) -0.31668*sin(8.60392*EGFR + 0.8108)': 0.0797061706773602}"
      ]
     },
     "execution_count": 6,
     "metadata": {},
     "output_type": "execute_result"
    }
   ],
   "source": [
    "exp_name = 'TCGA-GBMLGG'\n",
    "results = pickle.load(open(f'checkpoints/{exp_name}/results.pkl', 'rb'))\n",
    "\n",
    "coxkan_formula = results['CoxKAN']['Symbolic']['formula']\n",
    "display(coxkan_formula)\n",
    "\n",
    "print(latex(coxkan_formula))\n",
    "\n",
    "{k:v for k,v in list(results['CoxKAN']['Symbolic']['terms_std'].items())[:10]}"
   ]
  },
  {
   "cell_type": "markdown",
   "metadata": {},
   "source": [
    "\n",
    "\\begin{equation}\n",
    "\\begin{split}\n",
    "\\hat{\\theta}_{KAN} = \n",
    "& \\, - 0.2 \\cdot \\text{(1p19q arm codeletion)} \\quad (\\sigma=0.19) \\, \\\\\n",
    "& +e^{-0.2(-0.6 \\cdot (\\text{10q}_{CNV}) - 1)^2} \\quad (\\sigma=0.19) \\, \\\\\n",
    "& -0.2 \\cdot \\text{IDH}_{mut} \\quad (\\sigma=0.17) \\, \\\\\n",
    "& -0.06 \\tan(0.4 \\cdot \\text{CARD11}_{CNV} + 8) \\quad (\\sigma=0.16) \\, \\\\\n",
    "& -0.08 (0.6 \\cdot \\text{PTEN}_{CNV} + 1)^4 \\quad (\\sigma=0.14) \\, \\\\\n",
    "& -0.3 \\sin(3 \\cdot \\text{JAK2}_{CNV} - 5) \\quad (\\sigma=0.12) \\, \\\\\n",
    "& - 0.1 \\cdot \\text{CDKN2A}_{CNV} \\quad (\\sigma=0.12) \\, \\\\\n",
    "& -0.1 \\sin(9 \\cdot \\text{CDKN2B}_{CNV} - 4) \\quad (\\sigma=0.1) \\, \\\\\n",
    "& - 0.3 \\sin(9 \\cdot \\text{EGFR}_{CNV} + 0.8) \\quad (\\sigma=0.1) \\, \\\\\n",
    "& + \\text{less significant terms},\n",
    "\\end{split}\n",
    "\\end{equation}"
   ]
  }
 ],
 "metadata": {
  "kernelspec": {
   "display_name": "coxkan-env",
   "language": "python",
   "name": "python3"
  },
  "language_info": {
   "codemirror_mode": {
    "name": "ipython",
    "version": 3
   },
   "file_extension": ".py",
   "mimetype": "text/x-python",
   "name": "python",
   "nbconvert_exporter": "python",
   "pygments_lexer": "ipython3",
   "version": "3.12.4"
  }
 },
 "nbformat": 4,
 "nbformat_minor": 2
}
