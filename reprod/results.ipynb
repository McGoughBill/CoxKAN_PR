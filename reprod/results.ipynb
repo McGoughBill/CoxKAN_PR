{
 "cells": [
  {
   "cell_type": "code",
   "execution_count": 1,
   "metadata": {},
   "outputs": [],
   "source": [
    "import os \n",
    "import pickle\n",
    "from pathlib import Path\n",
    "import yaml\n",
    "from coxkan import CoxKAN\n",
    "import sympy \n",
    "from sympy.printing.latex import latex\n",
    "\n",
    "def format_cindex(input_string):\n",
    "    return input_string[:9] + \"\\\\newline \" + input_string[9:]\n",
    "\n",
    "def ex_round(ex1, floating_digit=4):\n",
    "    ex2 = ex1\n",
    "    for a in sympy.preorder_traversal(ex1):\n",
    "        if isinstance(a, sympy.Float):\n",
    "            ex2 = ex2.subs(a, round(a, floating_digit))\n",
    "    return ex2"
   ]
  },
  {
   "cell_type": "markdown",
   "metadata": {},
   "source": [
    "# Simulation studies (synthetic datasets)"
   ]
  },
  {
   "cell_type": "code",
   "execution_count": 2,
   "metadata": {},
   "outputs": [
    {
     "name": "stdout",
     "output_type": "stream",
     "text": [
      "True CoxPH CoxKAN_Symbolic\n",
      "-------------------------\n",
      "Experiment: sim_gaussian\n",
      "0.759744 \\newline (0.759, 0.760) & 0.499213 \\newline (0.497, 0.500) & 0.759739 \\newline (0.760, 0.762)\n",
      "5.0 e^{- 2.0 x_{1}^{2} - 2.0 x_{2}^{2}}\n"
     ]
    },
    {
     "data": {
      "text/latex": [
       "$\\displaystyle 5.0 e^{- 2.0 x_{1}^{2} - 2.0 x_{2}^{2}}$"
      ],
      "text/plain": [
       "5.0*exp(-2.0*x1**2 - 2.0*x2**2)"
      ]
     },
     "metadata": {},
     "output_type": "display_data"
    },
    {
     "name": "stdout",
     "output_type": "stream",
     "text": [
      "-0.0009 * x1 + -0.0037 * x2 + 0.0159 * noise1 + -0.0134 * noise2\n",
      "-------------------------\n",
      "Experiment: sim_depth_1\n",
      "0.759795 \\newline (0.759, 0.761) & 0.688116 \\newline (0.688, 0.690) & 0.759562 \\newline (0.759, 0.761)\n",
      "1.0 x_{3}^{2} - 1.0 \\sin{\\left(6.3 x_{2} - 9.4 \\right)} + 1.0 \\tanh{\\left(5.1 x_{1} \\right)}\n"
     ]
    },
    {
     "data": {
      "text/latex": [
       "$\\displaystyle 1.0 x_{3}^{2} - 1.0 \\sin{\\left(6.3 x_{2} - 9.4 \\right)} + 1.0 \\tanh{\\left(5.1 x_{1} \\right)}$"
      ],
      "text/plain": [
       "1.0*x3**2 - 1.0*sin(6.3*x2 - 9.4) + 1.0*tanh(5.1*x1)"
      ]
     },
     "metadata": {},
     "output_type": "display_data"
    },
    {
     "name": "stdout",
     "output_type": "stream",
     "text": [
      "1.1208 * x1 + -0.3440 * x2 + 0.0096 * x3 + -0.0136 * noise1 + 0.0324 * noise2\n",
      "-------------------------\n",
      "Experiment: sim_deep\n",
      "0.725470 \\newline (0.725, 0.727) & 0.511198 \\newline (0.508, 0.511) & 0.722706 \\newline (0.721, 0.723)\n",
      "4.0 \\sqrt{x_{3}^{2} + 0.8 x_{4}^{2} + 0.9 \\left(0.1 - x_{1}\\right)^{2} + 1.0 \\left(0.1 - x_{2}\\right)^{2} - 0.5 \\left(- 1.0 x_{1} - x_{2} + 0.1\\right)^{2} - 0.7 \\left(- x_{3} - 0.7 x_{4} - 0.1\\right)^{2} + 0.6}\n"
     ]
    },
    {
     "data": {
      "text/latex": [
       "$\\displaystyle 4.0 \\sqrt{x_{3}^{2} + 0.8 x_{4}^{2} + 0.9 \\left(0.1 - x_{1}\\right)^{2} + 1.0 \\left(0.1 - x_{2}\\right)^{2} - 0.5 \\left(- 1.0 x_{1} - x_{2} + 0.1\\right)^{2} - 0.7 \\left(- x_{3} - 0.7 x_{4} - 0.1\\right)^{2} + 0.6}$"
      ],
      "text/plain": [
       "4.0*sqrt(x3**2 + 0.8*x4**2 + 0.9*(0.1 - x1)**2 + 1.0*(0.1 - x2)**2 - 0.5*(-1.0*x1 - x2 + 0.1)**2 - 0.7*(-x3 - 0.7*x4 - 0.1)**2 + 0.6)"
      ]
     },
     "metadata": {},
     "output_type": "display_data"
    },
    {
     "name": "stdout",
     "output_type": "stream",
     "text": [
      "-0.0275 * x1 + 0.0507 * x2 + 0.0266 * x3 + 0.0120 * x4 + -0.0303 * noise1 + 0.0274 * noise2\n",
      "3.9 \\sqrt{0.5 x_{1}^{2} - x_{1} x_{2} + 0.5 x_{2}^{2} + 0.3 x_{3}^{2} - 1.0 x_{3} x_{4} + 0.5 x_{4}^{2} + 0.6}\n"
     ]
    },
    {
     "data": {
      "text/latex": [
       "$\\displaystyle 3.9 \\sqrt{0.5 x_{1}^{2} - x_{1} x_{2} + 0.5 x_{2}^{2} + 0.3 x_{3}^{2} - 1.0 x_{3} x_{4} + 0.5 x_{4}^{2} + 0.6}$"
      ],
      "text/plain": [
       "3.9*sqrt(0.5*x1**2 - x1*x2 + 0.5*x2**2 + 0.3*x3**2 - 1.0*x3*x4 + 0.5*x4**2 + 0.6)"
      ]
     },
     "metadata": {},
     "output_type": "display_data"
    },
    {
     "name": "stdout",
     "output_type": "stream",
     "text": [
      "-------------------------\n",
      "Experiment: sim_difficult\n",
      "0.690174 \\newline (0.689, 0.691) & 0.663698 \\newline (0.663, 0.665) & 0.690127 \\newline (0.689, 0.691)\n",
      "- 1.0 \\tanh{\\left(-9.8 + 3.0 e^{- 2.6 x_{2}^{2}} + \\frac{8.3}{\\left(- 0.4 x_{1} - 1\\right)^{3}} \\right)}\n"
     ]
    },
    {
     "data": {
      "text/latex": [
       "$\\displaystyle - 1.0 \\tanh{\\left(-9.8 + 3.0 e^{- 2.6 x_{2}^{2}} + \\frac{8.3}{\\left(- 0.4 x_{1} - 1\\right)^{3}} \\right)}$"
      ],
      "text/plain": [
       "-1.0*tanh(-9.8 + 3.0*exp(-2.6*x2**2) + 8.3/(-0.4*x1 - 1)**3)"
      ]
     },
     "metadata": {},
     "output_type": "display_data"
    },
    {
     "name": "stdout",
     "output_type": "stream",
     "text": [
      "2.0720 * x1 + 0.0511 * x2 + 0.0289 * noise1 + -0.0110 * noise2\n"
     ]
    }
   ],
   "source": [
    "import sympy\n",
    "from sympy.printing.latex import latex\n",
    "\n",
    "experiments = ['sim_gaussian','sim_depth_1', 'sim_deep', 'sim_difficult']\n",
    "\n",
    "def format_cindex(input_string):\n",
    "    return input_string[:9] + \"\\\\newline \" + input_string[9:]\n",
    "\n",
    "print('True CoxPH CoxKAN_Symbolic')\n",
    "for exp_name in experiments:\n",
    "    with open(f'checkpoints/{exp_name}/results.pkl', 'rb') as f:\n",
    "        results = pickle.load(f)\n",
    "\n",
    "    formula = ex_round(results['coxkan_formula'], floating_digit=1)\n",
    "\n",
    "    print('-------------------------')\n",
    "    print(f'Experiment: {exp_name}')\n",
    "    print(f'{format_cindex(results['cindex_true'])} & {format_cindex(results[\"cindex_cph\"])} & {format_cindex(results[\"cindex_symbolic\"])}')\n",
    "    print(latex(formula))\n",
    "    display(formula)\n",
    "    print(results['coxph_formula'])\n",
    "\n",
    "    if exp_name == 'sim_deep':\n",
    "        formula = sympy.simplify(results['coxkan_formula'])\n",
    "        formula = ex_round(formula, floating_digit=1)\n",
    "        print(latex(formula))\n",
    "        display(formula)\n"
   ]
  },
  {
   "cell_type": "markdown",
   "metadata": {},
   "source": [
    "# Real Clinical Data"
   ]
  },
  {
   "cell_type": "code",
   "execution_count": 3,
   "metadata": {},
   "outputs": [
    {
     "name": "stdout",
     "output_type": "stream",
     "text": [
      "CoxPH DeepSurv CoxKAN_pre CoxKAN_pruned CoxKAN_Symbolic\n",
      "Loaded model from checkpoints/gbsg/model.pt\n",
      "\n",
      "-------------------------\n",
      "Dataset: gbsg\n",
      "\n",
      "0.656291 \\newline (0.655, 0.662) & 0.668402 \\newline (0.665, 0.671) & 0.678294 \\newline (0.676, 0.682) & 0.679219 \\newline (0.675, 0.681) & 0.682796 \\newline (0.678, 0.684)\n",
      "CoxKAN:\n",
      "\n",
      "- 0.0007 er + 1.8075 \\left(1 - 0.0173 age\\right)^{2} + 0.3979 \\left(\\begin{cases} -0.2933 & \\text{for}\\: meno = 0 \\\\0.5828 & \\text{for}\\: meno = 1.0 \\\\\\text{NaN} & \\text{otherwise} \\end{cases}\\right) + 0.3979 \\left(\\begin{cases} 0.6932 & \\text{for}\\: hormon = 0 \\\\-0.5338 & \\text{for}\\: hormon = 1.0 \\\\\\text{NaN} & \\text{otherwise} \\end{cases}\\right) + 0.3979 \\left(\\begin{cases} -0.1789 & \\text{for}\\: size = 0 \\\\0.5224 & \\text{for}\\: size = 1.0 \\\\1.2102 & \\text{for}\\: size = 2.0 \\\\\\text{NaN} & \\text{otherwise} \\end{cases}\\right) + 0.1049 \\cosh{\\left(0.0017 pgr - 1.6311 \\right)} + 1.5829 - 1.2395 e^{- 0.0212 \\left(- nodes - 0.3544\\right)^{2}}\n"
     ]
    },
    {
     "data": {
      "text/latex": [
       "$\\displaystyle - 0.0007 er + 1.8075 \\left(1 - 0.0173 age\\right)^{2} + 0.3979 \\left(\\begin{cases} -0.2933 & \\text{for}\\: meno = 0 \\\\0.5828 & \\text{for}\\: meno = 1.0 \\\\\\text{NaN} & \\text{otherwise} \\end{cases}\\right) + 0.3979 \\left(\\begin{cases} 0.6932 & \\text{for}\\: hormon = 0 \\\\-0.5338 & \\text{for}\\: hormon = 1.0 \\\\\\text{NaN} & \\text{otherwise} \\end{cases}\\right) + 0.3979 \\left(\\begin{cases} -0.1789 & \\text{for}\\: size = 0 \\\\0.5224 & \\text{for}\\: size = 1.0 \\\\1.2102 & \\text{for}\\: size = 2.0 \\\\\\text{NaN} & \\text{otherwise} \\end{cases}\\right) + 0.1049 \\cosh{\\left(0.0017 pgr - 1.6311 \\right)} + 1.5829 - 1.2395 e^{- 0.0212 \\left(- nodes - 0.3544\\right)^{2}}$"
      ],
      "text/plain": [
       "-0.0007*er + 1.8075*(1 - 0.0173*age)**2 + 0.3979*Piecewise((-0.2933, Eq(meno, 0)), (0.5828, Eq(meno, 1.0)), (nan, True)) + 0.3979*Piecewise((0.6932, Eq(hormon, 0)), (-0.5338, Eq(hormon, 1.0)), (nan, True)) + 0.3979*Piecewise((-0.1789, Eq(size, 0)), (0.5224, Eq(size, 1.0)), (1.2102, Eq(size, 2.0)), (nan, True)) + 0.1049*cosh(0.0017*pgr - 1.6311) + 1.5829 - 1.2395*exp(-0.0212*(-nodes - 0.3544)**2)"
      ]
     },
     "metadata": {},
     "output_type": "display_data"
    },
    {
     "name": "stdout",
     "output_type": "stream",
     "text": [
      "CoxPH:\n"
     ]
    },
    {
     "data": {
      "text/latex": [
       "$\\displaystyle 0.0026 age - 0.0003 er - 0.3172 hormon + 0.2559 meno + 0.0557 nodes - 0.0003 pgr + 0.3379 size - 0.702$"
      ],
      "text/plain": [
       "0.0026*age - 0.0003*er - 0.3172*hormon + 0.2559*meno + 0.0557*nodes - 0.0003*pgr + 0.3379*size - 0.702"
      ]
     },
     "metadata": {},
     "output_type": "display_data"
    },
    {
     "name": "stdout",
     "output_type": "stream",
     "text": [
      "0.0026 age - 0.0003 er - 0.3172 hormon + 0.2559 meno + 0.0557 nodes - 0.0003 pgr + 0.3379 size - 0.702\n",
      "Loaded model from checkpoints/metabric/model.pt\n",
      "\n",
      "-------------------------\n",
      "Dataset: metabric\n",
      "\n",
      "0.632363 \\newline (0.628, 0.637) & 0.643375 \\newline (0.639, 0.647) & 0.647177 \\newline (0.644, 0.652) & 0.648004 \\newline (0.646, 0.654) & 0.649618 \\newline (0.644, 0.651)\n",
      "CoxKAN:\n",
      "\n",
      "- 0.236 PGR + \\begin{cases} -0.0524 & \\text{for}\\: chemo = 0 \\\\0.5889 & \\text{for}\\: chemo = 1.0 \\\\\\text{NaN} & \\text{otherwise} \\end{cases} + \\begin{cases} -0.0385 & \\text{for}\\: ER = 0 \\\\0.0722 & \\text{for}\\: ER = 1.0 \\\\\\text{NaN} & \\text{otherwise} \\end{cases} + \\begin{cases} 0.0294 & \\text{for}\\: hormone = 0 \\\\0.0942 & \\text{for}\\: hormone = 1.0 \\\\\\text{NaN} & \\text{otherwise} \\end{cases} + \\begin{cases} 0.1757 & \\text{for}\\: radio = 0 \\\\0.014 & \\text{for}\\: radio = 1.0 \\\\\\text{NaN} & \\text{otherwise} \\end{cases} + 1.696 \\sin{\\left(0.0403 age - 9.5224 \\right)} + 0.2347 \\tanh{\\left(1.86 MKI_{67} - 10.4299 \\right)} + 1.2408 + 0.7092 e^{- 26.4908 \\left(1 - 0.0647 ERBB_{2}\\right)^{2}}\n"
     ]
    },
    {
     "data": {
      "text/latex": [
       "$\\displaystyle - 0.236 PGR + \\begin{cases} -0.0524 & \\text{for}\\: chemo = 0 \\\\0.5889 & \\text{for}\\: chemo = 1.0 \\\\\\text{NaN} & \\text{otherwise} \\end{cases} + \\begin{cases} -0.0385 & \\text{for}\\: ER = 0 \\\\0.0722 & \\text{for}\\: ER = 1.0 \\\\\\text{NaN} & \\text{otherwise} \\end{cases} + \\begin{cases} 0.0294 & \\text{for}\\: hormone = 0 \\\\0.0942 & \\text{for}\\: hormone = 1.0 \\\\\\text{NaN} & \\text{otherwise} \\end{cases} + \\begin{cases} 0.1757 & \\text{for}\\: radio = 0 \\\\0.014 & \\text{for}\\: radio = 1.0 \\\\\\text{NaN} & \\text{otherwise} \\end{cases} + 1.696 \\sin{\\left(0.0403 age - 9.5224 \\right)} + 0.2347 \\tanh{\\left(1.86 MKI_{67} - 10.4299 \\right)} + 1.2408 + 0.7092 e^{- 26.4908 \\left(1 - 0.0647 ERBB_{2}\\right)^{2}}$"
      ],
      "text/plain": [
       "-0.236*PGR + Piecewise((-0.0524, Eq(chemo, 0)), (0.5889, Eq(chemo, 1.0)), (nan, True)) + Piecewise((-0.0385, Eq(ER, 0)), (0.0722, Eq(ER, 1.0)), (nan, True)) + Piecewise((0.0294, Eq(hormone, 0)), (0.0942, Eq(hormone, 1.0)), (nan, True)) + Piecewise((0.1757, Eq(radio, 0)), (0.014, Eq(radio, 1.0)), (nan, True)) + 1.696*sin(0.0403*age - 9.5224) + 0.2347*tanh(1.86*MKI67 - 10.4299) + 1.2408 + 0.7092*exp(-26.4908*(1 - 0.0647*ERBB2)**2)"
      ]
     },
     "metadata": {},
     "output_type": "display_data"
    },
    {
     "name": "stdout",
     "output_type": "stream",
     "text": [
      "CoxPH:\n"
     ]
    },
    {
     "data": {
      "text/latex": [
       "$\\displaystyle 0.0422 EGFR + 0.0693 ER + 0.1023 ERBB_{2} + 0.3145 MKI_{67} - 0.0698 PGR + 0.0433 age + 0.7712 chemo + 0.1849 hormone - 0.2118 radio - 5.6233$"
      ],
      "text/plain": [
       "0.0422*EGFR + 0.0693*ER + 0.1023*ERBB2 + 0.3145*MKI67 - 0.0698*PGR + 0.0433*age + 0.7712*chemo + 0.1849*hormone - 0.2118*radio - 5.6233"
      ]
     },
     "metadata": {},
     "output_type": "display_data"
    },
    {
     "name": "stdout",
     "output_type": "stream",
     "text": [
      "0.0422 EGFR + 0.0693 ER + 0.1023 ERBB_{2} + 0.3145 MKI_{67} - 0.0698 PGR + 0.0433 age + 0.7712 chemo + 0.1849 hormone - 0.2118 radio - 5.6233\n",
      "Loaded model from checkpoints/support/model.pt\n",
      "\n",
      "-------------------------\n",
      "Dataset: support\n",
      "\n",
      "0.583074 \\newline (0.581, 0.585) & 0.618308 \\newline (0.616, 0.620) & 0.624482 \\newline (0.622, 0.625) & 0.624485 \\newline (0.622, 0.625) & 0.623755 \\newline (0.623, 0.626)\n",
      "CoxKAN:\n",
      "\n",
      "- 0.0002 age + 0.0388 comorbidity + 0.0027 creatinine - 0.0126 race + 0.0008 sodium + 0.0385 \\left(\\begin{cases} -0.0046 & \\text{for}\\: sex = 0 \\\\0.0059 & \\text{for}\\: sex = 1.0 \\\\\\text{NaN} & \\text{otherwise} \\end{cases}\\right) + 0.0385 \\left(\\begin{cases} -0.0018 & \\text{for}\\: diabetes = 0 \\\\0.0071 & \\text{for}\\: diabetes = 1.0 \\\\\\text{NaN} & \\text{otherwise} \\end{cases}\\right) + 0.0385 \\left(\\begin{cases} -0.0004 & \\text{for}\\: dementia = 0 \\\\0.0124 & \\text{for}\\: dementia = 1.0 \\\\\\text{NaN} & \\text{otherwise} \\end{cases}\\right) + 2.4587 \\left(\\begin{cases} -0.0003 & \\text{for}\\: dementia = 0 \\\\0.0112 & \\text{for}\\: dementia = 1.0 \\\\\\text{NaN} & \\text{otherwise} \\end{cases}\\right) + 2.4587 \\left(\\begin{cases} 0.0027 & \\text{for}\\: diabetes = 0 \\\\-0.0112 & \\text{for}\\: diabetes = 1.0 \\\\\\text{NaN} & \\text{otherwise} \\end{cases}\\right) + 2.4587 \\left(\\begin{cases} 0.0031 & \\text{for}\\: sex = 0 \\\\-0.004 & \\text{for}\\: sex = 1.0 \\\\\\text{NaN} & \\text{otherwise} \\end{cases}\\right) + 2.4587 \\left(\\begin{cases} 0.0011 & \\text{for}\\: cancer = 0 \\\\-0.0047 & \\text{for}\\: cancer = 1.0 \\\\-0.0039 & \\text{for}\\: cancer = 2.0 \\\\\\text{NaN} & \\text{otherwise} \\end{cases}\\right) + 0.0385 \\left(\\begin{cases} 0.0041 & \\text{for}\\: cancer = 0 \\\\-0.0013 & \\text{for}\\: cancer = 1.0 \\\\-0.0054 & \\text{for}\\: cancer = 2.0 \\\\\\text{NaN} & \\text{otherwise} \\end{cases}\\right) - 0.0608 \\sin{\\left(0.0758 rr + 0.2165 \\right)} + 0.0337 \\tan{\\left(0.0238 wbc - 3.8857 \\right)} + 0.1155 \\tanh{\\left(0.0224 hr - 2.6734 \\right)} - 0.7124 + 0.5523 e^{- 572.2693 \\left(1 - 0.0244 temp\\right)^{2}} + 0.866 e^{- 0.0561 \\left(1 - 0.1185 meanbp\\right)^{2}}\n"
     ]
    },
    {
     "data": {
      "text/latex": [
       "$\\displaystyle - 0.0002 age + 0.0388 comorbidity + 0.0027 creatinine - 0.0126 race + 0.0008 sodium + 0.0385 \\left(\\begin{cases} -0.0046 & \\text{for}\\: sex = 0 \\\\0.0059 & \\text{for}\\: sex = 1.0 \\\\\\text{NaN} & \\text{otherwise} \\end{cases}\\right) + 0.0385 \\left(\\begin{cases} -0.0018 & \\text{for}\\: diabetes = 0 \\\\0.0071 & \\text{for}\\: diabetes = 1.0 \\\\\\text{NaN} & \\text{otherwise} \\end{cases}\\right) + 0.0385 \\left(\\begin{cases} -0.0004 & \\text{for}\\: dementia = 0 \\\\0.0124 & \\text{for}\\: dementia = 1.0 \\\\\\text{NaN} & \\text{otherwise} \\end{cases}\\right) + 2.4587 \\left(\\begin{cases} -0.0003 & \\text{for}\\: dementia = 0 \\\\0.0112 & \\text{for}\\: dementia = 1.0 \\\\\\text{NaN} & \\text{otherwise} \\end{cases}\\right) + 2.4587 \\left(\\begin{cases} 0.0027 & \\text{for}\\: diabetes = 0 \\\\-0.0112 & \\text{for}\\: diabetes = 1.0 \\\\\\text{NaN} & \\text{otherwise} \\end{cases}\\right) + 2.4587 \\left(\\begin{cases} 0.0031 & \\text{for}\\: sex = 0 \\\\-0.004 & \\text{for}\\: sex = 1.0 \\\\\\text{NaN} & \\text{otherwise} \\end{cases}\\right) + 2.4587 \\left(\\begin{cases} 0.0011 & \\text{for}\\: cancer = 0 \\\\-0.0047 & \\text{for}\\: cancer = 1.0 \\\\-0.0039 & \\text{for}\\: cancer = 2.0 \\\\\\text{NaN} & \\text{otherwise} \\end{cases}\\right) + 0.0385 \\left(\\begin{cases} 0.0041 & \\text{for}\\: cancer = 0 \\\\-0.0013 & \\text{for}\\: cancer = 1.0 \\\\-0.0054 & \\text{for}\\: cancer = 2.0 \\\\\\text{NaN} & \\text{otherwise} \\end{cases}\\right) - 0.0608 \\sin{\\left(0.0758 rr + 0.2165 \\right)} + 0.0337 \\tan{\\left(0.0238 wbc - 3.8857 \\right)} + 0.1155 \\tanh{\\left(0.0224 hr - 2.6734 \\right)} - 0.7124 + 0.5523 e^{- 572.2693 \\left(1 - 0.0244 temp\\right)^{2}} + 0.866 e^{- 0.0561 \\left(1 - 0.1185 meanbp\\right)^{2}}$"
      ],
      "text/plain": [
       "-0.0002*age + 0.0388*comorbidity + 0.0027*creatinine - 0.0126*race + 0.0008*sodium + 0.0385*Piecewise((-0.0046, Eq(sex, 0)), (0.0059, Eq(sex, 1.0)), (nan, True)) + 0.0385*Piecewise((-0.0018, Eq(diabetes, 0)), (0.0071, Eq(diabetes, 1.0)), (nan, True)) + 0.0385*Piecewise((-0.0004, Eq(dementia, 0)), (0.0124, Eq(dementia, 1.0)), (nan, True)) + 2.4587*Piecewise((-0.0003, Eq(dementia, 0)), (0.0112, Eq(dementia, 1.0)), (nan, True)) + 2.4587*Piecewise((0.0027, Eq(diabetes, 0)), (-0.0112, Eq(diabetes, 1.0)), (nan, True)) + 2.4587*Piecewise((0.0031, Eq(sex, 0)), (-0.004, Eq(sex, 1.0)), (nan, True)) + 2.4587*Piecewise((0.0011, Eq(cancer, 0)), (-0.0047, Eq(cancer, 1.0)), (-0.0039, Eq(cancer, 2.0)), (nan, True)) + 0.0385*Piecewise((0.0041, Eq(cancer, 0)), (-0.0013, Eq(cancer, 1.0)), (-0.0054, Eq(cancer, 2.0)), (nan, True)) - 0.0608*sin(0.0758*rr + 0.2165) + 0.0337*tan(0.0238*wbc - 3.8857) + 0.1155*tanh(0.0224*hr - 2.6734) - 0.7124 + 0.5523*exp(-572.2693*(1 - 0.0244*temp)**2) + 0.866*exp(-0.0561*(1 - 0.1185*meanbp)**2)"
      ]
     },
     "metadata": {},
     "output_type": "display_data"
    },
    {
     "name": "stdout",
     "output_type": "stream",
     "text": [
      "CoxPH:\n"
     ]
    },
    {
     "data": {
      "text/latex": [
       "$\\displaystyle 0.0142 age - 0.2592 cancer + 0.0197 comorbidity + 0.0276 creatinine + 0.1321 dementia - 0.0469 diabetes + 0.0023 hr - 0.0026 meanbp + 0.0241 race + 0.0021 rr - 0.0935 sex - 0.0038 sodium + 0.0115 temp + 0.0031 wbc - 0.7135$"
      ],
      "text/plain": [
       "0.0142*age - 0.2592*cancer + 0.0197*comorbidity + 0.0276*creatinine + 0.1321*dementia - 0.0469*diabetes + 0.0023*hr - 0.0026*meanbp + 0.0241*race + 0.0021*rr - 0.0935*sex - 0.0038*sodium + 0.0115*temp + 0.0031*wbc - 0.7135"
      ]
     },
     "metadata": {},
     "output_type": "display_data"
    },
    {
     "name": "stdout",
     "output_type": "stream",
     "text": [
      "0.0142 age - 0.2592 cancer + 0.0197 comorbidity + 0.0276 creatinine + 0.1321 dementia - 0.0469 diabetes + 0.0023 hr - 0.0026 meanbp + 0.0241 race + 0.0021 rr - 0.0935 sex - 0.0038 sodium + 0.0115 temp + 0.0031 wbc - 0.7135\n",
      "Loaded model from checkpoints/flchain/model.pt\n",
      "\n",
      "-------------------------\n",
      "Dataset: flchain\n",
      "\n",
      "0.797854 \\newline (0.797, 0.802) & 0.794520 \\newline (0.793, 0.798) & 0.797064 \\newline (0.796, 0.801) & 0.795911 \\newline (0.792, 0.797) & 0.796281 \\newline (0.795, 0.800)\n",
      "CoxKAN:\n",
      "\n",
      "0.092 age - 0.2889 creatinine + 0.0091 flc.grp + 0.0435 \\kappa + 0.2895 \\lambda + 0.2061 \\left(\\begin{cases} -0.0245 & \\text{for}\\: F = sex \\\\0.03 & \\text{for}\\: M = sex \\\\\\text{NaN} & \\text{otherwise} \\end{cases}\\right) - 0.5437 \\left(\\begin{cases} 0.0775 & \\text{for}\\: F = sex \\\\-0.1036 & \\text{for}\\: M = sex \\\\\\text{NaN} & \\text{otherwise} \\end{cases}\\right) + 2.0033 \\operatorname{atan}{\\left(0.4767 creatinine - 0.8693 \\right)} + 0.4147 \\operatorname{atan}{\\left(0.3683 sample.yr - 737.0431 \\right)} - 8.3465\n"
     ]
    },
    {
     "data": {
      "text/latex": [
       "$\\displaystyle 0.092 age - 0.2889 creatinine + 0.0091 flc.grp + 0.0435 \\kappa + 0.2895 \\lambda + 0.2061 \\left(\\begin{cases} -0.0245 & \\text{for}\\: F = sex \\\\0.03 & \\text{for}\\: M = sex \\\\\\text{NaN} & \\text{otherwise} \\end{cases}\\right) - 0.5437 \\left(\\begin{cases} 0.0775 & \\text{for}\\: F = sex \\\\-0.1036 & \\text{for}\\: M = sex \\\\\\text{NaN} & \\text{otherwise} \\end{cases}\\right) + 2.0033 \\operatorname{atan}{\\left(0.4767 creatinine - 0.8693 \\right)} + 0.4147 \\operatorname{atan}{\\left(0.3683 sample.yr - 737.0431 \\right)} - 8.3465$"
      ],
      "text/plain": [
       "0.092*age - 0.2889*creatinine + 0.0091*flc.grp + 0.0435*kappa + 0.2895*lambda + 0.2061*Piecewise((-0.0245, Eq(F, sex)), (0.03, Eq(M, sex)), (nan, True)) - 0.5437*Piecewise((0.0775, Eq(F, sex)), (-0.1036, Eq(M, sex)), (nan, True)) + 2.0033*atan(0.4767*creatinine - 0.8693) + 0.4147*atan(0.3683*sample.yr - 737.0431) - 8.3465"
      ]
     },
     "metadata": {},
     "output_type": "display_data"
    },
    {
     "name": "stdout",
     "output_type": "stream",
     "text": [
      "CoxPH:\n"
     ]
    },
    {
     "data": {
      "text/latex": [
       "$\\displaystyle 0.1013 age + 0.0329 creatinine + 0.0551 flc.grp + 0.0154 \\kappa + 0.1678 \\lambda + 0.314 mgus + 0.0602 sample.yr + 0.2812 sex - 127.5629$"
      ],
      "text/plain": [
       "0.1013*age + 0.0329*creatinine + 0.0551*flc.grp + 0.0154*kappa + 0.1678*lambda + 0.314*mgus + 0.0602*sample.yr + 0.2812*sex - 127.5629"
      ]
     },
     "metadata": {},
     "output_type": "display_data"
    },
    {
     "name": "stdout",
     "output_type": "stream",
     "text": [
      "0.1013 age + 0.0329 creatinine + 0.0551 flc.grp + 0.0154 \\kappa + 0.1678 \\lambda + 0.314 mgus + 0.0602 sample.yr + 0.2812 sex - 127.5629\n",
      "Loaded model from checkpoints/nwtco/model.pt\n",
      "\n",
      "-------------------------\n",
      "Dataset: nwtco\n",
      "\n",
      "0.698347 \\newline (0.693, 0.703) & 0.698300 \\newline (0.692, 0.703) & 0.719829 \\newline (0.714, 0.725) & 0.720708 \\newline (0.708, 0.718) & 0.722225 \\newline (0.715, 0.725)\n",
      "CoxKAN:\n",
      "\n",
      "0.0167 age + 0.3472 \\left(\\begin{cases} -0.4069 & \\text{for}\\: 1 = histol \\\\1.6781 & \\text{for}\\: 2 = histol \\\\\\text{NaN} & \\text{otherwise} \\end{cases}\\right) + 0.1862 \\left(\\begin{cases} -0.3723 & \\text{for}\\: False = in.subcohort \\\\1.0526 & \\text{for}\\: True = in.subcohort \\\\\\text{NaN} & \\text{otherwise} \\end{cases}\\right) + 0.3472 \\left(\\begin{cases} -0.3668 & \\text{for}\\: 3 = study \\\\0.3606 & \\text{for}\\: 4 = study \\\\\\text{NaN} & \\text{otherwise} \\end{cases}\\right) + 0.1862 \\left(\\begin{cases} -0.3098 & \\text{for}\\: 1 = histol \\\\1.3512 & \\text{for}\\: 2 = histol \\\\\\text{NaN} & \\text{otherwise} \\end{cases}\\right) + 0.3472 \\left(\\begin{cases} -0.1453 & \\text{for}\\: 1 = instit \\\\0.5484 & \\text{for}\\: 2 = instit \\\\\\text{NaN} & \\text{otherwise} \\end{cases}\\right) + 0.3895 \\left(\\begin{cases} -0.0544 & \\text{for}\\: 1 = histol \\\\-0.5385 & \\text{for}\\: 2 = histol \\\\\\text{NaN} & \\text{otherwise} \\end{cases}\\right) + 0.3895 \\left(\\begin{cases} -0.0249 & \\text{for}\\: False = in.subcohort \\\\0.4873 & \\text{for}\\: True = in.subcohort \\\\\\text{NaN} & \\text{otherwise} \\end{cases}\\right) + 0.3895 \\left(\\begin{cases} -0.001 & \\text{for}\\: 3 = study \\\\0.0854 & \\text{for}\\: 4 = study \\\\\\text{NaN} & \\text{otherwise} \\end{cases}\\right) + 0.3895 \\left(\\begin{cases} 0.0281 & \\text{for}\\: 1 = instit \\\\-0.8385 & \\text{for}\\: 2 = instit \\\\\\text{NaN} & \\text{otherwise} \\end{cases}\\right) + 0.1862 \\left(\\begin{cases} 0.1299 & \\text{for}\\: 3 = study \\\\-0.1148 & \\text{for}\\: 4 = study \\\\\\text{NaN} & \\text{otherwise} \\end{cases}\\right) + 0.3472 \\left(\\begin{cases} -0.7809 & \\text{for}\\: 1 = stage \\\\0.0716 & \\text{for}\\: 2 = stage \\\\0.4768 & \\text{for}\\: 3 = stage \\\\1.0507 & \\text{for}\\: 4 = stage \\\\\\text{NaN} & \\text{otherwise} \\end{cases}\\right) + 0.3895 \\left(\\begin{cases} -0.5011 & \\text{for}\\: 1 = stage \\\\0.0414 & \\text{for}\\: 2 = stage \\\\0.3448 & \\text{for}\\: 3 = stage \\\\0.7479 & \\text{for}\\: 4 = stage \\\\\\text{NaN} & \\text{otherwise} \\end{cases}\\right) + 0.1862 \\left(\\begin{cases} -0.4801 & \\text{for}\\: 1 = stage \\\\0.0195 & \\text{for}\\: 2 = stage \\\\0.2796 & \\text{for}\\: 3 = stage \\\\0.6652 & \\text{for}\\: 4 = stage \\\\\\text{NaN} & \\text{otherwise} \\end{cases}\\right) - 0.6046 \\tanh{\\left(0.0051 age + 0.7318 \\left(\\begin{cases} -0.6329 & \\text{for}\\: 3 = study \\\\0.4704 & \\text{for}\\: 4 = study \\\\\\text{NaN} & \\text{otherwise} \\end{cases}\\right) + 0.7318 \\left(\\begin{cases} -0.2446 & \\text{for}\\: False = in.subcohort \\\\1.0248 & \\text{for}\\: True = in.subcohort \\\\\\text{NaN} & \\text{otherwise} \\end{cases}\\right) + 0.7318 \\left(\\begin{cases} 0.1364 & \\text{for}\\: 1 = histol \\\\0.0087 & \\text{for}\\: 2 = histol \\\\\\text{NaN} & \\text{otherwise} \\end{cases}\\right) + 0.7318 \\left(\\begin{cases} 0.1511 & \\text{for}\\: 1 = instit \\\\-0.7049 & \\text{for}\\: 2 = instit \\\\\\text{NaN} & \\text{otherwise} \\end{cases}\\right) + 0.7318 \\left(\\begin{cases} -0.6759 & \\text{for}\\: 1 = stage \\\\-0.2445 & \\text{for}\\: 2 = stage \\\\0.7103 & \\text{for}\\: 3 = stage \\\\1.4509 & \\text{for}\\: 4 = stage \\\\\\text{NaN} & \\text{otherwise} \\end{cases}\\right) - 1.4641 \\right)} - 2.4626 \\operatorname{atan}{\\left(0.0601 age + 2.352 \\left(\\begin{cases} -0.3297 & \\text{for}\\: False = in.subcohort \\\\1.0658 & \\text{for}\\: True = in.subcohort \\\\\\text{NaN} & \\text{otherwise} \\end{cases}\\right) + 2.352 \\left(\\begin{cases} -0.2155 & \\text{for}\\: 3 = study \\\\0.0943 & \\text{for}\\: 4 = study \\\\\\text{NaN} & \\text{otherwise} \\end{cases}\\right) + 2.352 \\left(\\begin{cases} -0.1179 & \\text{for}\\: 1 = instit \\\\-0.4101 & \\text{for}\\: 2 = instit \\\\\\text{NaN} & \\text{otherwise} \\end{cases}\\right) + 2.352 \\left(\\begin{cases} 0.2774 & \\text{for}\\: 1 = histol \\\\-0.4292 & \\text{for}\\: 2 = histol \\\\\\text{NaN} & \\text{otherwise} \\end{cases}\\right) + 2.352 \\left(\\begin{cases} 0.1265 & \\text{for}\\: 1 = stage \\\\-0.0748 & \\text{for}\\: 2 = stage \\\\-0.0321 & \\text{for}\\: 3 = stage \\\\-0.1747 & \\text{for}\\: 4 = stage \\\\\\text{NaN} & \\text{otherwise} \\end{cases}\\right) + 3.1937 \\right)} - 0.1473\n"
     ]
    },
    {
     "data": {
      "text/latex": [
       "$\\displaystyle 0.0167 age + 0.3472 \\left(\\begin{cases} -0.4069 & \\text{for}\\: 1 = histol \\\\1.6781 & \\text{for}\\: 2 = histol \\\\\\text{NaN} & \\text{otherwise} \\end{cases}\\right) + 0.1862 \\left(\\begin{cases} -0.3723 & \\text{for}\\: False = in.subcohort \\\\1.0526 & \\text{for}\\: True = in.subcohort \\\\\\text{NaN} & \\text{otherwise} \\end{cases}\\right) + 0.3472 \\left(\\begin{cases} -0.3668 & \\text{for}\\: 3 = study \\\\0.3606 & \\text{for}\\: 4 = study \\\\\\text{NaN} & \\text{otherwise} \\end{cases}\\right) + 0.1862 \\left(\\begin{cases} -0.3098 & \\text{for}\\: 1 = histol \\\\1.3512 & \\text{for}\\: 2 = histol \\\\\\text{NaN} & \\text{otherwise} \\end{cases}\\right) + 0.3472 \\left(\\begin{cases} -0.1453 & \\text{for}\\: 1 = instit \\\\0.5484 & \\text{for}\\: 2 = instit \\\\\\text{NaN} & \\text{otherwise} \\end{cases}\\right) + 0.3895 \\left(\\begin{cases} -0.0544 & \\text{for}\\: 1 = histol \\\\-0.5385 & \\text{for}\\: 2 = histol \\\\\\text{NaN} & \\text{otherwise} \\end{cases}\\right) + 0.3895 \\left(\\begin{cases} -0.0249 & \\text{for}\\: False = in.subcohort \\\\0.4873 & \\text{for}\\: True = in.subcohort \\\\\\text{NaN} & \\text{otherwise} \\end{cases}\\right) + 0.3895 \\left(\\begin{cases} -0.001 & \\text{for}\\: 3 = study \\\\0.0854 & \\text{for}\\: 4 = study \\\\\\text{NaN} & \\text{otherwise} \\end{cases}\\right) + 0.3895 \\left(\\begin{cases} 0.0281 & \\text{for}\\: 1 = instit \\\\-0.8385 & \\text{for}\\: 2 = instit \\\\\\text{NaN} & \\text{otherwise} \\end{cases}\\right) + 0.1862 \\left(\\begin{cases} 0.1299 & \\text{for}\\: 3 = study \\\\-0.1148 & \\text{for}\\: 4 = study \\\\\\text{NaN} & \\text{otherwise} \\end{cases}\\right) + 0.3472 \\left(\\begin{cases} -0.7809 & \\text{for}\\: 1 = stage \\\\0.0716 & \\text{for}\\: 2 = stage \\\\0.4768 & \\text{for}\\: 3 = stage \\\\1.0507 & \\text{for}\\: 4 = stage \\\\\\text{NaN} & \\text{otherwise} \\end{cases}\\right) + 0.3895 \\left(\\begin{cases} -0.5011 & \\text{for}\\: 1 = stage \\\\0.0414 & \\text{for}\\: 2 = stage \\\\0.3448 & \\text{for}\\: 3 = stage \\\\0.7479 & \\text{for}\\: 4 = stage \\\\\\text{NaN} & \\text{otherwise} \\end{cases}\\right) + 0.1862 \\left(\\begin{cases} -0.4801 & \\text{for}\\: 1 = stage \\\\0.0195 & \\text{for}\\: 2 = stage \\\\0.2796 & \\text{for}\\: 3 = stage \\\\0.6652 & \\text{for}\\: 4 = stage \\\\\\text{NaN} & \\text{otherwise} \\end{cases}\\right) - 0.6046 \\tanh{\\left(0.0051 age + 0.7318 \\left(\\begin{cases} -0.6329 & \\text{for}\\: 3 = study \\\\0.4704 & \\text{for}\\: 4 = study \\\\\\text{NaN} & \\text{otherwise} \\end{cases}\\right) + 0.7318 \\left(\\begin{cases} -0.2446 & \\text{for}\\: False = in.subcohort \\\\1.0248 & \\text{for}\\: True = in.subcohort \\\\\\text{NaN} & \\text{otherwise} \\end{cases}\\right) + 0.7318 \\left(\\begin{cases} 0.1364 & \\text{for}\\: 1 = histol \\\\0.0087 & \\text{for}\\: 2 = histol \\\\\\text{NaN} & \\text{otherwise} \\end{cases}\\right) + 0.7318 \\left(\\begin{cases} 0.1511 & \\text{for}\\: 1 = instit \\\\-0.7049 & \\text{for}\\: 2 = instit \\\\\\text{NaN} & \\text{otherwise} \\end{cases}\\right) + 0.7318 \\left(\\begin{cases} -0.6759 & \\text{for}\\: 1 = stage \\\\-0.2445 & \\text{for}\\: 2 = stage \\\\0.7103 & \\text{for}\\: 3 = stage \\\\1.4509 & \\text{for}\\: 4 = stage \\\\\\text{NaN} & \\text{otherwise} \\end{cases}\\right) - 1.4641 \\right)} - 2.4626 \\operatorname{atan}{\\left(0.0601 age + 2.352 \\left(\\begin{cases} -0.3297 & \\text{for}\\: False = in.subcohort \\\\1.0658 & \\text{for}\\: True = in.subcohort \\\\\\text{NaN} & \\text{otherwise} \\end{cases}\\right) + 2.352 \\left(\\begin{cases} -0.2155 & \\text{for}\\: 3 = study \\\\0.0943 & \\text{for}\\: 4 = study \\\\\\text{NaN} & \\text{otherwise} \\end{cases}\\right) + 2.352 \\left(\\begin{cases} -0.1179 & \\text{for}\\: 1 = instit \\\\-0.4101 & \\text{for}\\: 2 = instit \\\\\\text{NaN} & \\text{otherwise} \\end{cases}\\right) + 2.352 \\left(\\begin{cases} 0.2774 & \\text{for}\\: 1 = histol \\\\-0.4292 & \\text{for}\\: 2 = histol \\\\\\text{NaN} & \\text{otherwise} \\end{cases}\\right) + 2.352 \\left(\\begin{cases} 0.1265 & \\text{for}\\: 1 = stage \\\\-0.0748 & \\text{for}\\: 2 = stage \\\\-0.0321 & \\text{for}\\: 3 = stage \\\\-0.1747 & \\text{for}\\: 4 = stage \\\\\\text{NaN} & \\text{otherwise} \\end{cases}\\right) + 3.1937 \\right)} - 0.1473$"
      ],
      "text/plain": [
       "0.0167*age + 0.3472*Piecewise((-0.4069, Eq(1, histol)), (1.6781, Eq(2, histol)), (nan, True)) + 0.1862*Piecewise((-0.3723, Eq(False, in.subcohort)), (1.0526, Eq(True, in.subcohort)), (nan, True)) + 0.3472*Piecewise((-0.3668, Eq(3, study)), (0.3606, Eq(4, study)), (nan, True)) + 0.1862*Piecewise((-0.3098, Eq(1, histol)), (1.3512, Eq(2, histol)), (nan, True)) + 0.3472*Piecewise((-0.1453, Eq(1, instit)), (0.5484, Eq(2, instit)), (nan, True)) + 0.3895*Piecewise((-0.0544, Eq(1, histol)), (-0.5385, Eq(2, histol)), (nan, True)) + 0.3895*Piecewise((-0.0249, Eq(False, in.subcohort)), (0.4873, Eq(True, in.subcohort)), (nan, True)) + 0.3895*Piecewise((-0.001, Eq(3, study)), (0.0854, Eq(4, study)), (nan, True)) + 0.3895*Piecewise((0.0281, Eq(1, instit)), (-0.8385, Eq(2, instit)), (nan, True)) + 0.1862*Piecewise((0.1299, Eq(3, study)), (-0.1148, Eq(4, study)), (nan, True)) + 0.3472*Piecewise((-0.7809, Eq(1, stage)), (0.0716, Eq(2, stage)), (0.4768, Eq(3, stage)), (1.0507, Eq(4, stage)), (nan, True)) + 0.3895*Piecewise((-0.5011, Eq(1, stage)), (0.0414, Eq(2, stage)), (0.3448, Eq(3, stage)), (0.7479, Eq(4, stage)), (nan, True)) + 0.1862*Piecewise((-0.4801, Eq(1, stage)), (0.0195, Eq(2, stage)), (0.2796, Eq(3, stage)), (0.6652, Eq(4, stage)), (nan, True)) - 0.6046*tanh(0.0051*age + 0.7318*Piecewise((-0.6329, Eq(3, study)), (0.4704, Eq(4, study)), (nan, True)) + 0.7318*Piecewise((-0.2446, Eq(False, in.subcohort)), (1.0248, Eq(True, in.subcohort)), (nan, True)) + 0.7318*Piecewise((0.1364, Eq(1, histol)), (0.0087, Eq(2, histol)), (nan, True)) + 0.7318*Piecewise((0.1511, Eq(1, instit)), (-0.7049, Eq(2, instit)), (nan, True)) + 0.7318*Piecewise((-0.6759, Eq(1, stage)), (-0.2445, Eq(2, stage)), (0.7103, Eq(3, stage)), (1.4509, Eq(4, stage)), (nan, True)) - 1.4641) - 2.4626*atan(0.0601*age + 2.352*Piecewise((-0.3297, Eq(False, in.subcohort)), (1.0658, Eq(True, in.subcohort)), (nan, True)) + 2.352*Piecewise((-0.2155, Eq(3, study)), (0.0943, Eq(4, study)), (nan, True)) + 2.352*Piecewise((-0.1179, Eq(1, instit)), (-0.4101, Eq(2, instit)), (nan, True)) + 2.352*Piecewise((0.2774, Eq(1, histol)), (-0.4292, Eq(2, histol)), (nan, True)) + 2.352*Piecewise((0.1265, Eq(1, stage)), (-0.0748, Eq(2, stage)), (-0.0321, Eq(3, stage)), (-0.1747, Eq(4, stage)), (nan, True)) + 3.1937) - 0.1473"
      ]
     },
     "metadata": {},
     "output_type": "display_data"
    },
    {
     "name": "stdout",
     "output_type": "stream",
     "text": [
      "CoxPH:\n"
     ]
    },
    {
     "data": {
      "text/latex": [
       "$\\displaystyle 0.0064 age + 1.4956 histol - 0.2192 in.subcohort + 0.2163 instit + 0.3413 stage - 0.1407 study - 0.7196$"
      ],
      "text/plain": [
       "0.0064*age + 1.4956*histol - 0.2192*in.subcohort + 0.2163*instit + 0.3413*stage - 0.1407*study - 0.7196"
      ]
     },
     "metadata": {},
     "output_type": "display_data"
    },
    {
     "name": "stdout",
     "output_type": "stream",
     "text": [
      "0.0064 age + 1.4956 histol - 0.2192 in.subcohort + 0.2163 instit + 0.3413 stage - 0.1407 study - 0.7196\n"
     ]
    }
   ],
   "source": [
    "import os \n",
    "import pickle\n",
    "from pathlib import Path\n",
    "import yaml\n",
    "from coxkan import CoxKAN\n",
    "import sympy\n",
    "\n",
    "# datasets = ['gbsg', 'metabric', 'flchain', 'nwtco']\n",
    "datasets = ['gbsg', 'metabric', 'support', 'flchain', 'nwtco']\n",
    "\n",
    "def ex_round(ex1, floating_digit=4):\n",
    "    ex2 = ex1\n",
    "    for a in sympy.preorder_traversal(ex1):\n",
    "        if isinstance(a, sympy.Float):\n",
    "            ex2 = ex2.subs(a, round(a, floating_digit))\n",
    "    return ex2\n",
    "\n",
    "# Official results from DeepSurv publication (MLP-based survival model)\n",
    "deepsurv_results = {\n",
    "    'support': '0.618308 (0.616, 0.620)',\n",
    "    'metabric': '0.643375 (0.639, 0.647)',\n",
    "    'gbsg': '0.668402 (0.665, 0.671)',\n",
    "}\n",
    "\n",
    "incl_pruned = True\n",
    "\n",
    "if incl_pruned:\n",
    "    print('CoxPH DeepSurv CoxKAN_pre CoxKAN_pruned CoxKAN_Symbolic')\n",
    "else:\n",
    "    print('CoxPH DeepSurv CoxKAN_pre CoxKAN_Symbolic')\n",
    "for dataset in datasets:\n",
    "\n",
    "    directory = Path('checkpoints') / dataset\n",
    "    with open(directory / 'results.pkl', 'rb') as f:\n",
    "        results = pickle.load(f)\n",
    "\n",
    "    with open(directory / 'config.yml', 'r') as f:\n",
    "        config = yaml.safe_load(f)\n",
    "\n",
    "    ckan = CoxKAN(seed=42, **config['init_params'])\n",
    "    ckan.load_ckpt(directory / 'model.pt')\n",
    "    normalizer = ckan.normalizer\n",
    "    means = normalizer[0]\n",
    "    stds = normalizer[1]\n",
    "\n",
    "    ### C-Index results\n",
    "    cindex_cph = results['CoxPH']['test']\n",
    "    if 'DeepSurv' in results:\n",
    "        cindex_deepsurv = results['DeepSurv']['test']\n",
    "    else:\n",
    "        cindex_deepsurv = deepsurv_results[dataset]\n",
    "    cindex_pre = results['CoxKAN']['Pre']['test']\n",
    "    cindex_pruned = results['CoxKAN']['Pruned']['test']\n",
    "    cindex_symbolic = results['CoxKAN']['Symbolic']['test']\n",
    "\n",
    "    print('\\n-------------------------')\n",
    "    print(f'Dataset: {dataset}')\n",
    "\n",
    "    print(f'')\n",
    "\n",
    "    if incl_pruned:\n",
    "        print(f'{format_cindex(cindex_cph)} & {format_cindex(cindex_deepsurv)} & {format_cindex(cindex_pre)} & {format_cindex(cindex_pruned)} & {format_cindex(cindex_symbolic)}')\n",
    "    else:\n",
    "        print(f'{format_cindex(cindex_cph)} & {format_cindex(cindex_deepsurv)} & {format_cindex(cindex_pre)} & {format_cindex(cindex_symbolic)}')\n",
    "\n",
    "    ### Formulas\n",
    "    print('CoxKAN:')\n",
    "    coxkan_formula = results['CoxKAN']['Symbolic']['formula']\n",
    "    # coxkan_formula = ex_round(coxkan_formula, floating_digit=4)\n",
    "    print('')\n",
    "    if type(coxkan_formula) == str:\n",
    "        print(coxkan_formula)\n",
    "        print(latex(coxkan_formula))\n",
    "    else:\n",
    "        print(latex(coxkan_formula))\n",
    "        display(coxkan_formula)\n",
    "\n",
    "    print('CoxPH:')\n",
    "    cph_coeffs = results['CoxPH']['summary']['coef']\n",
    "    cph_formula = []\n",
    "    for x, coef in cph_coeffs.items():\n",
    "        mean = means[x]\n",
    "        std = stds[x]\n",
    "        x = (sympy.Symbol(x) - mean) / std\n",
    "        cph_formula.append(ex_round(coef * x))\n",
    "    cph_formula = sympy.Add(*cph_formula)\n",
    "    display(cph_formula)\n",
    "    print(latex(cph_formula))\n"
   ]
  },
  {
   "cell_type": "markdown",
   "metadata": {},
   "source": [
    "#### METABRIC\n",
    "\n",
    "$$\n",
    "\\begin{aligned}\n",
    "\\hat{\\theta}_{KAN} = \n",
    "        & - 0.24 \\cdot \\text{PGR}\n",
    "        + 0.7 e^{- 26 \\left(1 - 0.06 \\cdot \\text{ERBB2}\\right)^{2}} \\\\\n",
    "        & + 0.2 \\tanh(1.9 \\text{MKI67} - 10)\n",
    "        +\\left\\{ \n",
    "        \\begin{array}{ll}\n",
    "        0.1 & \\text{if } \\text{hormonal therapy} \\\\\n",
    "        0.03 & \\text{otherwise}\n",
    "        \\end{array}\n",
    "        \\right\\} \\\\\n",
    "        & +\\left\\{ \n",
    "        \\begin{array}{ll}\n",
    "        0.01 & \\text{if } \\text{radiotherapy} \\\\\n",
    "        0.18 & \\text{otherwise}\n",
    "        \\end{array}\n",
    "        \\right\\}\n",
    "        +\\left\\{ \n",
    "        \\begin{array}{ll}\n",
    "        0.6 & \\text{if } \\text{chemotherapy} \\\\\n",
    "        -0.05 & \\text{otherwise}\n",
    "        \\end{array}\n",
    "        \\right\\} \\\\\n",
    "        & +\\left\\{ \n",
    "        \\begin{array}{ll}\n",
    "        0.07 & \\text{if } \\text{ER positive} \\\\\n",
    "        -0.04 & \\text{otherwise}\n",
    "        \\end{array}\n",
    "        \\right\\}\n",
    "        - 1.7 \\sin{\\left(0.04 \\cdot \\text{Age} - 9.5 \\right)} \\\\\n",
    "\\end{aligned}\n",
    "$$\n",
    "\n",
    "$$\n",
    "\\hat{\\theta}_{CPH} = 0.0422 \\text{EGFR} + 0.0693 \\text{ER} + 0.1023 \\text{ERBB2} + 0.3145 \\text{MKI67} - 0.0698 \\text{PGR} + 0.0433 \\text{age} + 0.7712 \\text{chemo} + 0.1849 \\text{hormone} - 0.2118 \\text{radio} \n",
    "$$\n",
    "\n",
    "### SUPPORT\n",
    "\n",
    "$$\n",
    "\\begin{aligned}\n",
    "\\hat{\\theta}_{KAN} = \n",
    "\n",
    "        & \\, \\phi_{interact} - 0.0002 \\cdot \\text{age}\n",
    "        +\\left\\{ \n",
    "        \\begin{array}{ll}\n",
    "        0.003 & \\text{if } \\text{metastasis} \\\\\n",
    "        -0.01 & \\text{if } \\text{no cancer} \\\\\n",
    "        -0.0098 & \\text{if } \\text{cancer}\n",
    "        \\end{array}\n",
    "        \\right\\} \\\\\n",
    "        & +\\left\\{ \n",
    "        \\begin{array}{ll}\n",
    "        0.007 & \\text{if } \\text{male} \\\\\n",
    "        -0.01 & \\text{if } \\text{female}\n",
    "        \\end{array}\n",
    "        \\right\\}\n",
    "        - 0.01 \\cdot \\text{race} + 0.04 \\cdot \\text{comorbidity} \\\\\n",
    "        & +\\left\\{ \n",
    "        \\begin{array}{ll}\n",
    "        -0.03 & \\text{if } \\text{diabetes} \\\\\n",
    "        0.0006 & \\text{if } \\text{diabetes}\n",
    "        \\end{array}\n",
    "        \\right\\} \\\\\n",
    "        & +\\left\\{ \n",
    "        \\begin{array}{ll}\n",
    "        0.03 & \\text{if } \\text{dementia} \\\\\n",
    "        -0.0008 & \\text{if } \\text{dementia}\n",
    "        \\end{array}\n",
    "        \\right\\} \\\\\n",
    "        & + 0.9 e^{- 0.06 \\left(1 - 0.1 \\cdot \\text{meanbp}\\right)^{2}}\n",
    "        + 0.1 \\tanh{\\left(0.02 \\cdot \\text{hr} - 3 \\right)} \\\\\n",
    "        & - 0.06 \\sin{\\left(0.08 \\cdot \\text{rr} + 0.2 \\right)}\n",
    "        + 0.6 e^{- 572 \\left(1 - 0.02 \\cdot \\text{temp}\\right)^{2}} \\\\\n",
    "        & + 0.0008 \\cdot \\text{sodium}\n",
    "        + 0.03 \\tan{\\left(0.02 \\cdot \\text{wbc} - 4 \\right)}\n",
    "        + 0.003 \\cdot \\text{creatinine} \\\\\n",
    "\\end{aligned}\n",
    "$$\n",
    "\n",
    "$$\n",
    "\\begin{aligned}\n",
    "\\hat{\\theta}_{CPH} = & \\, 0.01 \\cdot \\text{age} - 0.09 \\cdot \\text{sex} + 0.02 \\cdot \\text{race} + 0.02 \\cdot \\text{comorbidity} - 0.05 \\cdot \\text{diabetes} \\\\ \n",
    "& + 0.1 \\cdot \\text{dementia} - 0.26 \\cdot \\text{cancer} - 0.003 \\cdot \\text{meanbp} + 0.002 \\cdot \\text{hr} \\\\\n",
    "& + 0.002 \\cdot \\text{rr} + 0.01 \\cdot \\text{temp} - 0.004 \\cdot \\text{sodium} + 0.003 \\cdot \\text{wbc} + 0.03 \\cdot \\text{creatinine}\n",
    "\\end{aligned}\n",
    "$$"
   ]
  },
  {
   "cell_type": "markdown",
   "metadata": {},
   "source": [
    "### NWTCO\n",
    "\n",
    "$$\n",
    "\\begin{aligned}\n",
    "\\hat{\\theta}_{KAN} = \n",
    "        & \\, \\phi_{1,3,1} + \\phi_{1,4,1} + 0.02 \\cdot \\text{age}  \\\\\n",
    "        & +\\left\\{ \n",
    "        \\begin{array}{ll}\n",
    "        -0.047 & \\text{if } \\text{favourable histology (instit)} \\\\\n",
    "        -0.136 & \\text{if } \\text{unfavourable histology (instit)}\n",
    "        \\end{array}\n",
    "        \\right\\} \\\\\n",
    "        & +\\left\\{ \n",
    "        \\begin{array}{ll}\n",
    "        -0.22 & \\text{if } \\text{favourable histology (histol)} \\\\\n",
    "        0.62 & \\text{if } \\text{unfavourable histology (histol)}\n",
    "        \\end{array}\n",
    "        \\right\\} \\\\\n",
    "        & +\\left\\{ \n",
    "        \\begin{array}{ll}\n",
    "        -0.47 & \\text{if } \\text{stage } = 1 \\\\\n",
    "         0.04 & \\text{if } \\text{stage } = 2 \\\\\n",
    "         0.35 & \\text{if } \\text{stage } = 3 \\\\\n",
    "         0.78 & \\text{if } \\text{stage } = 4 \\\\\n",
    "        \\end{array}\n",
    "        \\right\\} \\\\\n",
    "        & +\\left\\{ \n",
    "        \\begin{array}{ll}\n",
    "        0.02 & \\text{if } 3^{rd} \\text{ clinical study} \\\\\n",
    "        0.01 & \\text{if } 4^{th} \\text{ clinical study}\n",
    "        \\end{array}\n",
    "        \\right\\} \\\\\n",
    "        & + \\left\\{\n",
    "        \\begin{array}{ll}\n",
    "        0.2 & \\text{if } \\text{in subcohort} \\\\\n",
    "        -0.07 & \\text{otherwise}\n",
    "        \\end{array}\n",
    "        \\right\\}\n",
    "    \n",
    "\\end{aligned}\n",
    "$$\n",
    "\n",
    "$$\n",
    "\\begin{aligned}\n",
    "\\phi_{1,3,1} = - 2.5 \\arctan \\Bigg( 2 \\Bigg[\n",
    "        & +0.03 \\cdot \\text{age} \\\\\n",
    "        & +\\left\\{ \n",
    "        \\begin{array}{ll}\n",
    "        -0.1 & \\text{if } \\text{favourable histology (instit)} \\\\\n",
    "        -0.4 & \\text{if } \\text{unfavourable histology (instit)}\n",
    "        \\end{array}\n",
    "        \\right\\} \\\\\n",
    "        & +\\left\\{ \n",
    "        \\begin{array}{ll}\n",
    "        0.3 & \\text{if } \\text{favourable histology (histol)} \\\\\n",
    "        -0.4 & \\text{if } \\text{unfavourable histology (histol)}\n",
    "        \\end{array}\n",
    "        \\right\\} \\\\\n",
    "        & +\\left\\{ \n",
    "        \\begin{array}{ll}\n",
    "        0.1 & \\text{if } \\text{stage } = 1 \\\\\n",
    "        -0.07 & \\text{if } \\text{stage } = 2 \\\\\n",
    "        -0.03 & \\text{if } \\text{stage } = 3 \\\\\n",
    "        -0.17 & \\text{if } \\text{stage } = 4 \\\\\n",
    "        \\end{array}\n",
    "        \\right\\} \\\\\n",
    "        & +\\left\\{ \n",
    "        \\begin{array}{ll}\n",
    "        -0.2 & \\text{if } 3^{rd} \\text{ clinical study} \\\\\n",
    "        0.09 & \\text{if } 4^{th} \\text{ clinical study}\n",
    "        \\end{array}\n",
    "        \\right\\} \\\\\n",
    "\n",
    "        & + \\left\\{\n",
    "        \\begin{array}{ll}\n",
    "        1 & \\text{if } \\text{in subcohort} \\\\\n",
    "        -0.3 & \\text{otherwise}\n",
    "        \\end{array}\n",
    "        \\right\\}\n",
    "\\Bigg] \\Bigg)\n",
    "\\end{aligned}\n",
    "$$\n",
    "\n",
    "$$\n",
    "\\begin{aligned}\n",
    "\\phi_{1,4,1} = - 6 \\tanh \\Bigg( 0.7 \\Bigg[\n",
    "        & +0.006 \\cdot \\text{age} \\\\\n",
    "        & +\\left\\{ \n",
    "        \\begin{array}{ll}\n",
    "        0.15 & \\text{if } \\text{favourable histology (instit)} \\\\\n",
    "        -0.7 & \\text{if } \\text{unfavourable histology (instit)}\n",
    "        \\end{array}\n",
    "        \\right\\} \\\\\n",
    "        & +\\left\\{ \n",
    "        \\begin{array}{ll}\n",
    "        0.1 & \\text{if } \\text{favourable histology (histol)} \\\\\n",
    "        0.01 & \\text{if } \\text{unfavourable histology (histol)}\n",
    "        \\end{array}\n",
    "        \\right\\} \\\\\n",
    "        & +\\left\\{ \n",
    "        \\begin{array}{ll}\n",
    "        -0.7 & \\text{if } \\text{stage } = 1 \\\\\n",
    "        -0.2 & \\text{if } \\text{stage } = 2 \\\\\n",
    "        0.7 & \\text{if } \\text{stage } = 3 \\\\\n",
    "        1.45 & \\text{if } \\text{stage } = 4 \\\\\n",
    "        \\end{array}\n",
    "        \\right\\} \\\\\n",
    "        & +\\left\\{ \n",
    "        \\begin{array}{ll}\n",
    "        -0.6 & \\text{if } 3^{rd} \\text{ clinical study} \\\\\n",
    "        0.5 & \\text{if } 4^{th} \\text{ clinical study}\n",
    "        \\end{array}\n",
    "        \\right\\} \\\\\n",
    "\n",
    "        & + \\left\\{\n",
    "        \\begin{array}{ll}\n",
    "        1 & \\text{if } \\text{in subcohort} \\\\\n",
    "        -0.2 & \\text{otherwise}\n",
    "        \\end{array}\n",
    "        \\right\\}\n",
    "\\Bigg] \\Bigg)\n",
    "\\end{aligned}\n",
    "$$\n",
    "\n",
    "$$\n",
    "\\begin{aligned}\n",
    "\\hat{\\theta}_{CPH} = & \\, + 0.2163 \\cdot \\text{instit} + 1.4956 \\cdot \\text{histol} + 0.3413 \\cdot \\text{stage} \\\\\n",
    "& - 0.1407 \\cdot \\text{study} + 0.0064 \\cdot \\text{age} - 0.2192 \\cdot \\text{in.subcohort}\n",
    "\\end{aligned}\n",
    "$$"
   ]
  },
  {
   "cell_type": "markdown",
   "metadata": {
    "vscode": {
     "languageId": "raw"
    }
   },
   "source": [
    "#### FLCHAIN\n",
    "\n",
    "$$\n",
    "\\begin{aligned}\n",
    "\\hat{\\theta}_{KAN} =  & \\, 0.09 \\cdot \\text{age}         \n",
    "        +\\left\\{ \n",
    "        \\begin{array}{ll}\n",
    "        -0.047 & \\text{if } \\text{female} \\\\\n",
    "        0.118 & \\text{if } \\text{male}\n",
    "        \\end{array}\n",
    "        \\right\\} \\\\\n",
    "        & + 0.4 \\arctan(0.4 \\cdot \\text{year} - 737)\n",
    "        + 0.04 \\cdot \\text{FLC}_{kappa} \\\\\n",
    "        & + 0.3 \\cdot \\text{FLC}_{lambda} \n",
    "        + 0.009 \\cdot \\text{FLC}_\\text{group}\n",
    "        + 2\\arctan(0.5 \\cdot \\text{creatinine} - 0.9) \\\\\n",
    "\\end{aligned}\n",
    "$$\n",
    "\n",
    "$$\n",
    "\\hat{\\theta}_{CPH} = 0.1 \\cdot \\text{age} + 0.3 \\cdot \\text{sex} + 0.06 \\cdot \\text{year} + 0.01 \\cdot \\text{FLC}_{kappa} + 0.2 \\cdot \\text{FLC}_{lambda} + 0.06 \\cdot \\text{FLC}_\\text{group} + 0.03 \\cdot \\text{creatinine} + 0.3 \\cdot \\text{mgus}\n",
    "$$\n",
    "\n",
    "#### GBSG\n",
    "\n",
    "$$\n",
    "\\begin{aligned}\n",
    "\\hat{\\theta}_{KAN} = \n",
    "    & + \\left\\{ \n",
    "        \\begin{array}{ll}\n",
    "        -0.21 & \\text{if } \\text{hormonal therapy} \\\\\n",
    "        0.28 & \\text{otherwise}\n",
    "        \\end{array}\n",
    "        \\right\\} \\\\\n",
    "    & +\\left\\{\n",
    "        \\begin{array}{ll}\n",
    "        -0.07 & \\text{if } \\text{tumor size} \\leq 20 \\, \\text{mm} \\\\\n",
    "        0.21 & \\text{if } 20 < \\text{tumor size} < 50 \\, \\text{mm} \\\\\n",
    "        0.48 & \\text{if } \\text{tumor size} \\geq 50 \\, \\text{mm}\n",
    "        \\end{array}\n",
    "        \\right\\} \\\\\n",
    "    & +\\left\\{ \n",
    "        \\begin{array}{ll}\n",
    "        -0.12 & \\text{if } \\text{pre-menopausal} \\\\\n",
    "        0.23 & \\text{if } \\text{post-menopausal}\n",
    "        \\end{array}\n",
    "        \\right\\} \\\\\n",
    "    & + 1.8 \\left(1 - 0.02 \\cdot \\text{age}\\right)^{2} \\\\ \n",
    "    & - 1.2 e^{- 0.02 \\left(\\text{nodes} + 0.4\\right)^{2}} \\\\\n",
    "    & + 0.1 \\cosh{\\left(0.002 \\cdot \\text{PGR} - 1.6 \\right)} \\\\\n",
    "    & - 0.0007 \\cdot \\text{ER}\n",
    "\\end{aligned}\n",
    "$$\n",
    "\n",
    "$$\n",
    "\\hat{\\theta}_{CPH} = 0.003 \\cdot \\text{age} - 0.0003 \\cdot \\text{er} - 0.3 \\cdot \\text{hormon} + 0.26 \\cdot \\text{meno} + 0.06 \\cdot \\text{nodes} - 0.0003 \\cdot \\text{pgr} + 0.3 \\cdot \\text{size}\n",
    "$$\n"
   ]
  },
  {
   "cell_type": "markdown",
   "metadata": {},
   "source": [
    "# TCGA Genomics"
   ]
  },
  {
   "cell_type": "code",
   "execution_count": 5,
   "metadata": {},
   "outputs": [
    {
     "name": "stdout",
     "output_type": "stream",
     "text": [
      "CoxPH  CoxPH Reg  DeepSurv  CoxKAN Pre  CoxKAN Pruned  CoxKAN Symbolic\n",
      "-------------------------\n",
      "Experiment: TCGA-STAD\n",
      "STAD & 0.543441 \\newline (0.521, 0.543) & 0.677172 \\newline (0.673, 0.694) & 0.628620 \\newline (0.616, 0.638) & 0.700170 \\newline (0.697, 0.715) & 0.670358 \\newline (0.665, 0.690) & 0.671210 \\newline (0.659, 0.682)\n",
      "-------------------------\n",
      "Experiment: TCGA-BRCA\n",
      "BRCA & 0.539545 \\newline (0.529, 0.560) & 0.613182 \\newline (0.607, 0.635) & 0.632500 \\newline (0.623, 0.648) & 0.619091 \\newline (0.593, 0.621) & 0.634545 \\newline (0.617, 0.638) & 0.630455 \\newline (0.622, 0.642)\n",
      "-------------------------\n",
      "Experiment: TCGA-GBMLGG\n",
      "GBMLGG & N/A \\newline  & 0.787844 \\newline (0.777, 0.799) & 0.819094 \\newline (0.820, 0.836) & 0.813647 \\newline (0.808, 0.824) & 0.811353 \\newline (0.804, 0.820) & 0.818234 \\newline (0.817, 0.828)\n",
      "-------------------------\n",
      "Experiment: TCGA-KIRC\n",
      "KIRC & N/A \\newline  & 0.686285 \\newline (0.663, 0.686) & 0.650378 \\newline (0.641, 0.664) & 0.672246 \\newline (0.662, 0.684) & 0.671706 \\newline (0.668, 0.688) & 0.671166 \\newline (0.656, 0.678)\n"
     ]
    }
   ],
   "source": [
    "import pickle\n",
    "from sympy.printing.latex import latex\n",
    "\n",
    "experiments = ['TCGA-STAD', 'TCGA-BRCA', 'TCGA-GBMLGG', 'TCGA-KIRC']\n",
    "\n",
    "print('CoxPH  CoxPH Reg  DeepSurv  CoxKAN Pre  CoxKAN Pruned  CoxKAN Symbolic')\n",
    "for exp_name in experiments:\n",
    "\n",
    "    results = pickle.load(open(f'checkpoints/{exp_name}/results.pkl', 'rb'))\n",
    "\n",
    "    print('-------------------------')\n",
    "    print(f'Experiment: {exp_name}')\n",
    "\n",
    "    try: cindex_cph = results['CoxPH']['test']\n",
    "    except: cindex_cph = 'N/A '\n",
    "    cindex_cph_reg = results['CoxPH Reg']['test']\n",
    "    cindex_deepsurv = results['DeepSurv']['test']\n",
    "    cindex_pre = results['CoxKAN']['Pre']['test']\n",
    "    cindex_pruned = results['CoxKAN']['Pruned']['test']\n",
    "    cindex_symbolic = results['CoxKAN']['Symbolic']['test']\n",
    "\n",
    "    print(f'{exp_name[5:]} & {format_cindex(cindex_cph)} & {format_cindex(cindex_cph_reg)} & {format_cindex(cindex_deepsurv)} & {format_cindex(cindex_pre)} & {format_cindex(cindex_pruned)} & {format_cindex(cindex_symbolic)}')\n"
   ]
  },
  {
   "cell_type": "code",
   "execution_count": 6,
   "metadata": {},
   "outputs": [
    {
     "data": {
      "text/latex": [
       "$\\displaystyle - 0.0896 ANK_{3 (ENSG00000151150) mut} + 0.1657 APOA_{1 (ENSG00000118137.10) rna} + 0.043 APOD_{(ENSG00000189058.9) rna} - 0.048 ATM_{(ENSG00000149311) mut} - 0.1149 CDH_{23 (ENSG00000107736) mut} + 0.101 CKS_{2 (ENSG00000123975.5) rna} + 0.0302 COL11A1_{(ENSG00000060718) mut} - 0.0937 COL6A2_{(ENSG00000142173.16) rna} + 0.045 DCLK_{1 (ENSG00000133083) mut} - 0.0658 DIDO_{1 (ENSG00000101191) mut} + 0.0746 DST_{(ENSG00000151914) mut} - 0.1006 FAT_{2 (ENSG00000086570) mut} - 0.0429 FLG_{(ENSG00000143631) mut} + 0.0057 GLI_{3 (ENSG00000106571) mut} - 0.1104 HNRNPK_{(ENSG00000165119.21) rna} - 0.0241 MACF_{1 (ENSG00000127603) mut} - 0.1246 MISP_{(ENSG00000099812.9) rna} - 0.0886 MUC_{16 (ENSG00000181143) mut} + 0.1991 MUCL_{3 (ENSG00000168631.13) rna} - 0.0914 MYO_{16 (ENSG00000041515) mut} - 0.0554 NRXN_{1 (ENSG00000179915) mut} + 0.0803 POSTN_{(ENSG00000133110.15) rna} - 0.1382 PRR15L_{(ENSG00000167183.3) rna} - 0.0862 PTPRT_{(ENSG00000196090) mut} + 0.069 SERINC_{1 (ENSG00000111897.7) rna} + 0.1379 SPINK_{1 (ENSG00000164266.11) rna} + 0.1105 STOM_{(ENSG00000148175.13) rna} - 0.0617 TECTA_{(ENSG00000109927) mut} - 0.1262 TENM_{3 (ENSG00000218336) mut} + 0.2329 TOMM_{20 (ENSG00000173726.11) rna} + 0.005 UNC13C_{(ENSG00000137766) mut} - 0.0653 XIRP_{2 (ENSG00000163092) mut} + 0.0634 YWHAH_{(ENSG00000128245.15) rna} + 0.1245 group_{14 cnv} + 0.104 group_{16 cnv} + 0.1321 group_{33 cnv} - 0.0822 group_{47 cnv} - 0.0039 \\left(0.9753 - PTTG1IP_{(ENSG00000183255.12) rna}\\right)^{3} - 0.1023 \\sin{\\left(0.693 COL1A2_{(ENSG00000164692.18) rna} - 7.7855 \\right)} - 0.4956 \\sin{\\left(0.3738 HMGCS_{2 (ENSG00000134240.12) rna} + 8.3934 \\right)} + 0.0672 \\sin{\\left(0.7186 LUM_{(ENSG00000139329.5) rna} - 5.5324 \\right)} - 0.0817 \\sin{\\left(0.9109 MGP_{(ENSG00000111341.10) rna} - 6.71 \\right)} + 0.0873 \\sin{\\left(7.3525 RNU7-90P_{(ENSG00000238731) cnv} - 7.0121 \\right)} + 0.1952 \\sin{\\left(0.272 SAP_{18 (ENSG00000150459.12) rna} + 2.0 \\right)} - 0.0594 \\sin{\\left(0.961 SRGN_{(ENSG00000122862.5) rna} + 4.7964 \\right)} - 0.0691 \\sin{\\left(1.3247 TSPO_{(ENSG00000100300.18) rna} + 3.9966 \\right)} - 0.0469 \\sin{\\left(5.5827 group_{48 cnv} + 9.3978 \\right)} - 0.0191 \\cosh{\\left(1.5031 SPARC_{(ENSG00000113140.11) rna} - 1.0618 \\right)} + 0.2374 \\tanh{\\left(0.4626 A2M_{(ENSG00000175899.15) rna} - 0.8838 \\right)} + 0.2443 \\tanh{\\left(0.9588 CALM_{2 (ENSG00000143933.19) rna} - 0.406 \\right)} + 0.7575 \\operatorname{atan}{\\left(0.366 C_{3 (ENSG00000125730.17) rna} + 0.179 \\right)} + 0.1799 \\operatorname{atan}{\\left(0.5349 FAM83H_{(ENSG00000180921.7) rna} + 0.6646 \\right)} - 0.279 \\operatorname{atan}{\\left(0.4419 FN_{1 (ENSG00000115414.21) rna} - 1.6045 \\right)} - 0.1634 \\operatorname{atan}{\\left(0.7273 ID_{1 (ENSG00000125968.9) rna} + 0.3133 \\right)} + 0.3024 \\operatorname{atan}{\\left(0.4266 TIMP_{2 (ENSG00000035862.12) rna} - 0.8084 \\right)} + 0.0466 + 0.4052 e^{- 0.1233 \\left(- 0.5236 group_{53 cnv} - 1\\right)^{2}} - 0.31 e^{- 3.3797 \\left(1 - 0.2411 EFHD_{2 (ENSG00000142634.13) rna}\\right)^{2}} - \\frac{0.0031}{\\left(1 - 0.2427 group_{4 cnv}\\right)^{3}}$"
      ],
      "text/plain": [
       "-0.0896*ANK3_(ENSG00000151150)_mut + 0.1657*APOA1_(ENSG00000118137.10)_rna + 0.043*APOD_(ENSG00000189058.9)_rna - 0.048*ATM_(ENSG00000149311)_mut - 0.1149*CDH23_(ENSG00000107736)_mut + 0.101*CKS2_(ENSG00000123975.5)_rna + 0.0302*COL11A1_(ENSG00000060718)_mut - 0.0937*COL6A2_(ENSG00000142173.16)_rna + 0.045*DCLK1_(ENSG00000133083)_mut - 0.0658*DIDO1_(ENSG00000101191)_mut + 0.0746*DST_(ENSG00000151914)_mut - 0.1006*FAT2_(ENSG00000086570)_mut - 0.0429*FLG_(ENSG00000143631)_mut + 0.0057*GLI3_(ENSG00000106571)_mut - 0.1104*HNRNPK_(ENSG00000165119.21)_rna - 0.0241*MACF1_(ENSG00000127603)_mut - 0.1246*MISP_(ENSG00000099812.9)_rna - 0.0886*MUC16_(ENSG00000181143)_mut + 0.1991*MUCL3_(ENSG00000168631.13)_rna - 0.0914*MYO16_(ENSG00000041515)_mut - 0.0554*NRXN1_(ENSG00000179915)_mut + 0.0803*POSTN_(ENSG00000133110.15)_rna - 0.1382*PRR15L_(ENSG00000167183.3)_rna - 0.0862*PTPRT_(ENSG00000196090)_mut + 0.069*SERINC1_(ENSG00000111897.7)_rna + 0.1379*SPINK1_(ENSG00000164266.11)_rna + 0.1105*STOM_(ENSG00000148175.13)_rna - 0.0617*TECTA_(ENSG00000109927)_mut - 0.1262*TENM3_(ENSG00000218336)_mut + 0.2329*TOMM20_(ENSG00000173726.11)_rna + 0.005*UNC13C_(ENSG00000137766)_mut - 0.0653*XIRP2_(ENSG00000163092)_mut + 0.0634*YWHAH_(ENSG00000128245.15)_rna + 0.1245*group_14_cnv + 0.104*group_16_cnv + 0.1321*group_33_cnv - 0.0822*group_47_cnv - 0.0039*(0.9753 - PTTG1IP_(ENSG00000183255.12)_rna)**3 - 0.1023*sin(0.693*COL1A2_(ENSG00000164692.18)_rna - 7.7855) - 0.4956*sin(0.3738*HMGCS2_(ENSG00000134240.12)_rna + 8.3934) + 0.0672*sin(0.7186*LUM_(ENSG00000139329.5)_rna - 5.5324) - 0.0817*sin(0.9109*MGP_(ENSG00000111341.10)_rna - 6.71) + 0.0873*sin(7.3525*RNU7-90P_(ENSG00000238731)_cnv - 7.0121) + 0.1952*sin(0.272*SAP18_(ENSG00000150459.12)_rna + 2.0) - 0.0594*sin(0.961*SRGN_(ENSG00000122862.5)_rna + 4.7964) - 0.0691*sin(1.3247*TSPO_(ENSG00000100300.18)_rna + 3.9966) - 0.0469*sin(5.5827*group_48_cnv + 9.3978) - 0.0191*cosh(1.5031*SPARC_(ENSG00000113140.11)_rna - 1.0618) + 0.2374*tanh(0.4626*A2M_(ENSG00000175899.15)_rna - 0.8838) + 0.2443*tanh(0.9588*CALM2_(ENSG00000143933.19)_rna - 0.406) + 0.7575*atan(0.366*C3_(ENSG00000125730.17)_rna + 0.179) + 0.1799*atan(0.5349*FAM83H_(ENSG00000180921.7)_rna + 0.6646) - 0.279*atan(0.4419*FN1_(ENSG00000115414.21)_rna - 1.6045) - 0.1634*atan(0.7273*ID1_(ENSG00000125968.9)_rna + 0.3133) + 0.3024*atan(0.4266*TIMP2_(ENSG00000035862.12)_rna - 0.8084) + 0.0466 + 0.4052*exp(-0.1233*(-0.5236*group_53_cnv - 1)**2) - 0.31*exp(-3.3797*(1 - 0.2411*EFHD2_(ENSG00000142634.13)_rna)**2) - 0.0031/(1 - 0.2427*group_4_cnv)**3"
      ]
     },
     "metadata": {},
     "output_type": "display_data"
    },
    {
     "name": "stdout",
     "output_type": "stream",
     "text": [
      "- 0.0896 ANK_{3 (ENSG00000151150) mut} + 0.1657 APOA_{1 (ENSG00000118137.10) rna} + 0.043 APOD_{(ENSG00000189058.9) rna} - 0.048 ATM_{(ENSG00000149311) mut} - 0.1149 CDH_{23 (ENSG00000107736) mut} + 0.101 CKS_{2 (ENSG00000123975.5) rna} + 0.0302 COL11A1_{(ENSG00000060718) mut} - 0.0937 COL6A2_{(ENSG00000142173.16) rna} + 0.045 DCLK_{1 (ENSG00000133083) mut} - 0.0658 DIDO_{1 (ENSG00000101191) mut} + 0.0746 DST_{(ENSG00000151914) mut} - 0.1006 FAT_{2 (ENSG00000086570) mut} - 0.0429 FLG_{(ENSG00000143631) mut} + 0.0057 GLI_{3 (ENSG00000106571) mut} - 0.1104 HNRNPK_{(ENSG00000165119.21) rna} - 0.0241 MACF_{1 (ENSG00000127603) mut} - 0.1246 MISP_{(ENSG00000099812.9) rna} - 0.0886 MUC_{16 (ENSG00000181143) mut} + 0.1991 MUCL_{3 (ENSG00000168631.13) rna} - 0.0914 MYO_{16 (ENSG00000041515) mut} - 0.0554 NRXN_{1 (ENSG00000179915) mut} + 0.0803 POSTN_{(ENSG00000133110.15) rna} - 0.1382 PRR15L_{(ENSG00000167183.3) rna} - 0.0862 PTPRT_{(ENSG00000196090) mut} + 0.069 SERINC_{1 (ENSG00000111897.7) rna} + 0.1379 SPINK_{1 (ENSG00000164266.11) rna} + 0.1105 STOM_{(ENSG00000148175.13) rna} - 0.0617 TECTA_{(ENSG00000109927) mut} - 0.1262 TENM_{3 (ENSG00000218336) mut} + 0.2329 TOMM_{20 (ENSG00000173726.11) rna} + 0.005 UNC13C_{(ENSG00000137766) mut} - 0.0653 XIRP_{2 (ENSG00000163092) mut} + 0.0634 YWHAH_{(ENSG00000128245.15) rna} + 0.1245 group_{14 cnv} + 0.104 group_{16 cnv} + 0.1321 group_{33 cnv} - 0.0822 group_{47 cnv} - 0.0039 \\left(0.9753 - PTTG1IP_{(ENSG00000183255.12) rna}\\right)^{3} - 0.1023 \\sin{\\left(0.693 COL1A2_{(ENSG00000164692.18) rna} - 7.7855 \\right)} - 0.4956 \\sin{\\left(0.3738 HMGCS_{2 (ENSG00000134240.12) rna} + 8.3934 \\right)} + 0.0672 \\sin{\\left(0.7186 LUM_{(ENSG00000139329.5) rna} - 5.5324 \\right)} - 0.0817 \\sin{\\left(0.9109 MGP_{(ENSG00000111341.10) rna} - 6.71 \\right)} + 0.0873 \\sin{\\left(7.3525 RNU7-90P_{(ENSG00000238731) cnv} - 7.0121 \\right)} + 0.1952 \\sin{\\left(0.272 SAP_{18 (ENSG00000150459.12) rna} + 2.0 \\right)} - 0.0594 \\sin{\\left(0.961 SRGN_{(ENSG00000122862.5) rna} + 4.7964 \\right)} - 0.0691 \\sin{\\left(1.3247 TSPO_{(ENSG00000100300.18) rna} + 3.9966 \\right)} - 0.0469 \\sin{\\left(5.5827 group_{48 cnv} + 9.3978 \\right)} - 0.0191 \\cosh{\\left(1.5031 SPARC_{(ENSG00000113140.11) rna} - 1.0618 \\right)} + 0.2374 \\tanh{\\left(0.4626 A2M_{(ENSG00000175899.15) rna} - 0.8838 \\right)} + 0.2443 \\tanh{\\left(0.9588 CALM_{2 (ENSG00000143933.19) rna} - 0.406 \\right)} + 0.7575 \\operatorname{atan}{\\left(0.366 C_{3 (ENSG00000125730.17) rna} + 0.179 \\right)} + 0.1799 \\operatorname{atan}{\\left(0.5349 FAM83H_{(ENSG00000180921.7) rna} + 0.6646 \\right)} - 0.279 \\operatorname{atan}{\\left(0.4419 FN_{1 (ENSG00000115414.21) rna} - 1.6045 \\right)} - 0.1634 \\operatorname{atan}{\\left(0.7273 ID_{1 (ENSG00000125968.9) rna} + 0.3133 \\right)} + 0.3024 \\operatorname{atan}{\\left(0.4266 TIMP_{2 (ENSG00000035862.12) rna} - 0.8084 \\right)} + 0.0466 + 0.4052 e^{- 0.1233 \\left(- 0.5236 group_{53 cnv} - 1\\right)^{2}} - 0.31 e^{- 3.3797 \\left(1 - 0.2411 EFHD_{2 (ENSG00000142634.13) rna}\\right)^{2}} - \\frac{0.0031}{\\left(1 - 0.2427 group_{4 cnv}\\right)^{3}}\n"
     ]
    },
    {
     "data": {
      "text/plain": [
       "{'(0,95,0) 0.24425*tanh(0.9588*CALM2_(ENSG00000143933.19)_rna - 0.406)': 0.14763517582456648,\n",
       " '(0,76,0) -0.13818*PRR15L_(ENSG00000167183.3)_rna - 0.13265': 0.10607886742645557,\n",
       " '(0,78,0) 0.23288*TOMM20_(ENSG00000173726.11)_rna + 0.20028': 0.08998552750768095,\n",
       " '(0,140,0) 0.08509 - 0.08863*MUC16_(ENSG00000181143)_mut': 0.0886307223101623,\n",
       " '(0,127,0) 0.75749*atan(0.366*C3_(ENSG00000125730.17)_rna + 0.17896)': 0.07924222220372616,\n",
       " '(0,99,0) -0.11039*HNRNPK_(ENSG00000165119.21)_rna - 0.09273': 0.07898811363438991,\n",
       " '(0,116,0) 0.10712 - 0.12456*MISP_(ENSG00000099812.9)_rna': 0.07522894236203936,\n",
       " '(0,123,0) 0.10103*CKS2_(ENSG00000123975.5)_rna + 0.09497': 0.06674894594438927,\n",
       " '(0,79,0) 0.11049*STOM_(ENSG00000148175.13)_rna + 0.10386': 0.06089391191990403,\n",
       " '(0,117,0) 0.17986*atan(0.53488*FAM83H_(ENSG00000180921.7)_rna + 0.66456)': 0.05722617064206513}"
      ]
     },
     "execution_count": 6,
     "metadata": {},
     "output_type": "execute_result"
    }
   ],
   "source": [
    "exp_name = 'TCGA-STAD'\n",
    "results = pickle.load(open(f'checkpoints/{exp_name}/results.pkl', 'rb'))\n",
    "\n",
    "coxkan_formula = results['CoxKAN']['Symbolic']['formula']\n",
    "display(coxkan_formula)\n",
    "\n",
    "print(latex(coxkan_formula))\n",
    "\n",
    "{k:v for k,v in list(results['CoxKAN']['Symbolic']['terms_std'].items())[:10]}"
   ]
  },
  {
   "cell_type": "markdown",
   "metadata": {},
   "source": [
    "$$\n",
    "\\begin{split}\n",
    "\\hat{\\theta}_{KAN} = & + 0.2 \\tanh(\\text{CALM2}_{RNA} - 0.4) \\quad (\\sigma=0.15) \\, \\\\\n",
    "& -0.1 \\cdot \\text{PRR15L}_{RNA} \\quad (\\sigma=0.1) \\, \\\\\n",
    "& + 0.2 \\cdot \\text{TOMM20}_{RNA} \\quad (\\sigma=0.09) \\, \\\\\n",
    "& - 0.09 \\cdot \\text{MUC16}_{mut} \\quad (\\sigma=0.09) \\, \\\\\n",
    "& + 0.8 \\arctan(0.4 \\cdot \\text{C3}_{RNA} + 0.2) \\quad (\\sigma=0.08) \\, \\\\\n",
    "& -0.1 \\cdot \\text{HNRNPK}_{RNA} \\quad (\\sigma=0.08) \\, \\\\\n",
    "& -0.2 \\cdot \\text{MISP}_{RNA} \\quad (\\sigma=0.08) \\, \\\\\n",
    "& + \\text{less significant terms},\n",
    "\\end{split}\n",
    "$$"
   ]
  },
  {
   "cell_type": "code",
   "execution_count": 7,
   "metadata": {},
   "outputs": [
    {
     "data": {
      "text/latex": [
       "$\\displaystyle 0.1054 DMD_{(ENSG00000198947) mut} + 0.2485 KMT2C_{(ENSG00000055609) mut} - 0.1401 RYR_{2 (ENSG00000198626) mut} + 0.0733 TTN_{(ENSG00000155657) mut} + 0.0505 \\sin{\\left(1.1065 AP002791.1_{(ENSG00000280093) cnv} - 5.0262 \\right)} - 0.1775 \\sin{\\left(0.6052 CHMP4B_{(ENSG00000101421.4) rna} + 5.0074 \\right)} + 0.6474 \\sin{\\left(0.4853 HSPA_{8 (ENSG00000109971.14) rna} - 7.3478 \\right)} - 0.293 \\sin{\\left(0.5062 RPL_{14 (ENSG00000188846.14) rna} + 4.9681 \\right)} + 0.4716 \\sin{\\left(0.512 group_{40 cnv} + 5.1666 \\right)} + 0.1539 - 2.2206 e^{- 0.0419 \\left(- 0.8597 PLXNB_{2 (ENSG00000196576.15) rna} - 1\\right)^{2}} - 2.0795 e^{- 0.0474 \\left(- 0.8692 PGK_{1 (ENSG00000102144.15) rna} - 1\\right)^{2}} + 0.9466 e^{- 0.0633 \\left(- H2BC5_{(ENSG00000158373.8) rna} - 0.451\\right)^{2}} + \\frac{0.386}{\\left(1 - 0.0952 group_{46 cnv}\\right)^{2}}$"
      ],
      "text/plain": [
       "0.1054*DMD_(ENSG00000198947)_mut + 0.2485*KMT2C_(ENSG00000055609)_mut - 0.1401*RYR2_(ENSG00000198626)_mut + 0.0733*TTN_(ENSG00000155657)_mut + 0.0505*sin(1.1065*AP002791.1_(ENSG00000280093)_cnv - 5.0262) - 0.1775*sin(0.6052*CHMP4B_(ENSG00000101421.4)_rna + 5.0074) + 0.6474*sin(0.4853*HSPA8_(ENSG00000109971.14)_rna - 7.3478) - 0.293*sin(0.5062*RPL14_(ENSG00000188846.14)_rna + 4.9681) + 0.4716*sin(0.512*group_40_cnv + 5.1666) + 0.1539 - 2.2206*exp(-0.0419*(-0.8597*PLXNB2_(ENSG00000196576.15)_rna - 1)**2) - 2.0795*exp(-0.0474*(-0.8692*PGK1_(ENSG00000102144.15)_rna - 1)**2) + 0.9466*exp(-0.0633*(-H2BC5_(ENSG00000158373.8)_rna - 0.451)**2) + 0.386/(1 - 0.0952*group_46_cnv)**2"
      ]
     },
     "metadata": {},
     "output_type": "display_data"
    },
    {
     "name": "stdout",
     "output_type": "stream",
     "text": [
      "0.1054 DMD_{(ENSG00000198947) mut} + 0.2485 KMT2C_{(ENSG00000055609) mut} - 0.1401 RYR_{2 (ENSG00000198626) mut} + 0.0733 TTN_{(ENSG00000155657) mut} + 0.0505 \\sin{\\left(1.1065 AP002791.1_{(ENSG00000280093) cnv} - 5.0262 \\right)} - 0.1775 \\sin{\\left(0.6052 CHMP4B_{(ENSG00000101421.4) rna} + 5.0074 \\right)} + 0.6474 \\sin{\\left(0.4853 HSPA_{8 (ENSG00000109971.14) rna} - 7.3478 \\right)} - 0.293 \\sin{\\left(0.5062 RPL_{14 (ENSG00000188846.14) rna} + 4.9681 \\right)} + 0.4716 \\sin{\\left(0.512 group_{40 cnv} + 5.1666 \\right)} + 0.1539 - 2.2206 e^{- 0.0419 \\left(- 0.8597 PLXNB_{2 (ENSG00000196576.15) rna} - 1\\right)^{2}} - 2.0795 e^{- 0.0474 \\left(- 0.8692 PGK_{1 (ENSG00000102144.15) rna} - 1\\right)^{2}} + 0.9466 e^{- 0.0633 \\left(- H2BC5_{(ENSG00000158373.8) rna} - 0.451\\right)^{2}} + \\frac{0.386}{\\left(1 - 0.0952 group_{46 cnv}\\right)^{2}}\n"
     ]
    },
    {
     "data": {
      "text/plain": [
       "{'(0,164,0) 0.24847*KMT2C_(ENSG00000055609)_mut + 0.20871': 0.24218513703055525,\n",
       " '(0,99,0) 0.64738*sin(0.48528*HSPA8_(ENSG00000109971.14)_rna - 7.34776)': 0.1781848872763935,\n",
       " '(0,158,0) -2.22062*exp(-0.04191*(-0.85971*PLXNB2_(ENSG00000196576.15)_rna - 1)**2)': 0.16922728756722222,\n",
       " '(0,75,0) -2.07947*exp(-0.04742*(-0.86921*PGK1_(ENSG00000102144.15)_rna - 1)**2)': 0.15344060125528117,\n",
       " '(0,167,0) -0.14008*RYR2_(ENSG00000198626)_mut - 0.14008': 0.138683688702026,\n",
       " '(0,166,0) 0.10544*DMD_(ENSG00000198947)_mut + 0.09701': 0.10149801146122837,\n",
       " '(0,165,0) 0.07327*TTN_(ENSG00000155657)_mut - 0.01172': 0.0743229478074131,\n",
       " '(0,57,0) 0.38596/(1 - 0.09523*group_46_cnv)**2': 0.06272604925424385,\n",
       " '(0,110,0) 0.9466*exp(-0.06334*(-H2BC5_(ENSG00000158373.8)_rna - 0.45105)**2)': 0.05471130865454245,\n",
       " '(0,108,0) -0.29297*sin(0.50616*RPL14_(ENSG00000188846.14)_rna + 4.96808)': 0.04758794434583577}"
      ]
     },
     "execution_count": 7,
     "metadata": {},
     "output_type": "execute_result"
    }
   ],
   "source": [
    "exp_name = 'TCGA-BRCA'\n",
    "results = pickle.load(open(f'checkpoints/{exp_name}/results.pkl', 'rb'))\n",
    "\n",
    "coxkan_formula = results['CoxKAN']['Symbolic']['formula']\n",
    "display(coxkan_formula)\n",
    "\n",
    "print(latex(coxkan_formula))\n",
    "\n",
    "{k:v for k,v in list(results['CoxKAN']['Symbolic']['terms_std'].items())[:10]}"
   ]
  },
  {
   "cell_type": "markdown",
   "metadata": {},
   "source": [
    "$$\n",
    "\\begin{equation}\n",
    "\\begin{split}\n",
    "\\hat{\\theta}_{KAN} = & + 0.2 \\cdot \\text{KMT2C}_{mut} \\quad (\\sigma=0.24) \\, \\\\\n",
    "& + 0.6 \\sin(0.5 \\cdot \\text{HSPA8}_{RNA} - 7) \\quad (\\sigma=0.18)\\, \\\\\n",
    "& -2 \\exp{(-0.04 (0.9 \\cdot \\text{PLXNB2}_{RNA} + 1)^2)} \\quad (\\sigma=0.17) \\, \\\\\n",
    "& -2 \\exp{(-0.05 (0.9 \\cdot \\text{PGK1}_{RNA} + 1)^2)} \\quad (\\sigma=0.15) \\, \\\\\n",
    "& -0.14 \\cdot \\text{RYR2}_{mut} \\quad (\\sigma=0.14) \\, \\\\\n",
    "& +0.1 \\cdot \\text{DMD}_{mut} \\quad (\\sigma=0.1) \\, \\\\\n",
    "& +0.01 \\text{TTN}_{mut} \\quad (\\sigma=0.07) \\, \\\\\n",
    "& + \\frac{0.4}{(1-0.1 \\cdot \\text{group\\_46}_{CNV})^2} \\quad (\\sigma=0.06) \\, \\\\\n",
    "& + 0.9 \\exp(-0.06(\\text{H2BC5}_{RNA} - 0.5)^2) \\quad (\\sigma=0.05) \\, \\\\\n",
    "& - 0.3 \\sin(0.5 \\cdot \\text{RPL14}_{RNA} + 5) \\quad (\\sigma=0.05) \\, \\\\\n",
    "& + \\text{less significant terms},\n",
    "\\end{split}\n",
    "\\end{equation}\n",
    "$$"
   ]
  },
  {
   "cell_type": "code",
   "execution_count": 8,
   "metadata": {},
   "outputs": [
    {
     "data": {
      "text/latex": [
       "$\\displaystyle - 0.1573 \\cdot 10p - 0.1481 CALN_{1 rnaseq} - 0.1184 CDKN2A + 0.1646 DNAH_{17 rnaseq} + 0.215 FRAS_{1 rnaseq} - 0.1893 codeletion - 0.1682 idh_{mutation} - 0.0752 \\left(- 0.614 PTEN - 1\\right)^{4} - 0.1278 \\sin{\\left(8.9694 CDKN2B - 3.828 \\right)} - 0.3167 \\sin{\\left(8.6039 EGFR + 0.8108 \\right)} - 0.2616 \\sin{\\left(2.778 JAK_{2} - 4.5936 \\right)} + 0.3336 \\sin{\\left(0.8299 LRP1B_{rnaseq} + 2.0076 \\right)} + 6.4865 \\sin{\\left(1.0555 UGT2B4_{rnaseq} + 8.0027 \\right)} - 0.062 \\tan{\\left(0.4191 CARD_{11} + 7.5848 \\right)} + 0.4082 \\operatorname{atan}{\\left(0.5956 L1CAM_{rnaseq} + 0.1044 \\right)} - 0.2674 + 0.9989 e^{- 0.1283 \\left(- RB_{1 rnaseq} - 0.9004\\right)^{2}} + 1.2852 e^{- 0.2444 \\left(- 0.5966 \\cdot 10q - 1\\right)^{2}} + 3861.3083 e^{- 43.446 \\left(1 - 0.0947 DNAH_{11 rnaseq}\\right)^{2}} - \\frac{1.8894}{3.2094 - 0.6035 MUC_{17 rnaseq}} - \\frac{3.0631}{\\left(1 - 0.0755 TEKT_{4 rnaseq}\\right)^{3}}$"
      ],
      "text/plain": [
       "-0.1573*10p - 0.1481*CALN1_rnaseq - 0.1184*CDKN2A + 0.1646*DNAH17_rnaseq + 0.215*FRAS1_rnaseq - 0.1893*codeletion - 0.1682*idh_mutation - 0.0752*(-0.614*PTEN - 1)**4 - 0.1278*sin(8.9694*CDKN2B - 3.828) - 0.3167*sin(8.6039*EGFR + 0.8108) - 0.2616*sin(2.778*JAK2 - 4.5936) + 0.3336*sin(0.8299*LRP1B_rnaseq + 2.0076) + 6.4865*sin(1.0555*UGT2B4_rnaseq + 8.0027) - 0.062*tan(0.4191*CARD11 + 7.5848) + 0.4082*atan(0.5956*L1CAM_rnaseq + 0.1044) - 0.2674 + 0.9989*exp(-0.1283*(-RB1_rnaseq - 0.9004)**2) + 1.2852*exp(-0.2444*(-0.5966*10q - 1)**2) + 3861.3083*exp(-43.446*(1 - 0.0947*DNAH11_rnaseq)**2) - 1.8894/(3.2094 - 0.6035*MUC17_rnaseq) - 3.0631/(1 - 0.0755*TEKT4_rnaseq)**3"
      ]
     },
     "metadata": {},
     "output_type": "display_data"
    },
    {
     "name": "stdout",
     "output_type": "stream",
     "text": [
      "- 0.1573 \\cdot 10p - 0.1481 CALN_{1 rnaseq} - 0.1184 CDKN2A + 0.1646 DNAH_{17 rnaseq} + 0.215 FRAS_{1 rnaseq} - 0.1893 codeletion - 0.1682 idh_{mutation} - 0.0752 \\left(- 0.614 PTEN - 1\\right)^{4} - 0.1278 \\sin{\\left(8.9694 CDKN2B - 3.828 \\right)} - 0.3167 \\sin{\\left(8.6039 EGFR + 0.8108 \\right)} - 0.2616 \\sin{\\left(2.778 JAK_{2} - 4.5936 \\right)} + 0.3336 \\sin{\\left(0.8299 LRP1B_{rnaseq} + 2.0076 \\right)} + 6.4865 \\sin{\\left(1.0555 UGT2B4_{rnaseq} + 8.0027 \\right)} - 0.062 \\tan{\\left(0.4191 CARD_{11} + 7.5848 \\right)} + 0.4082 \\operatorname{atan}{\\left(0.5956 L1CAM_{rnaseq} + 0.1044 \\right)} - 0.2674 + 0.9989 e^{- 0.1283 \\left(- RB_{1 rnaseq} - 0.9004\\right)^{2}} + 1.2852 e^{- 0.2444 \\left(- 0.5966 \\cdot 10q - 1\\right)^{2}} + 3861.3083 e^{- 43.446 \\left(1 - 0.0947 DNAH_{11 rnaseq}\\right)^{2}} - \\frac{1.8894}{3.2094 - 0.6035 MUC_{17 rnaseq}} - \\frac{3.0631}{\\left(1 - 0.0755 TEKT_{4 rnaseq}\\right)^{3}}\n"
     ]
    },
    {
     "data": {
      "text/plain": [
       "{'(0,0,0) -0.18926*codeletion - 0.14762': 0.19140902331173626,\n",
       " '(0,61,0) 1.28525*exp(-0.24443*(-0.5966*10q - 1)**2)': 0.19017926715286923,\n",
       " '(0,1,0) -0.16824*idh_mutation - 0.14805': 0.16770168876090089,\n",
       " '(0,39,0) -0.062*tan(0.41912*CARD11 + 7.5848)': 0.15811140049172392,\n",
       " '(0,42,0) -0.07521*(-0.61398*PTEN - 1)**4': 0.1392790235227957,\n",
       " '(0,40,0) -0.26156*sin(2.778*JAK2 - 4.5936)': 0.12395199984459931,\n",
       " '(0,16,0) 0.0663 - 0.11839*CDKN2A': 0.12181632968237227,\n",
       " '(0,313,0) -3.06314/(1 - 0.07545*TEKT4_rnaseq)**3': 0.09913908563391044,\n",
       " '(0,17,0) -0.12779*sin(8.96936*CDKN2B - 3.828)': 0.09636957815660824,\n",
       " '(0,2,0) -0.31668*sin(8.60392*EGFR + 0.8108)': 0.07970619573938781}"
      ]
     },
     "execution_count": 8,
     "metadata": {},
     "output_type": "execute_result"
    }
   ],
   "source": [
    "exp_name = 'TCGA-GBMLGG'\n",
    "results = pickle.load(open(f'checkpoints/{exp_name}/results.pkl', 'rb'))\n",
    "\n",
    "coxkan_formula = results['CoxKAN']['Symbolic']['formula']\n",
    "display(coxkan_formula)\n",
    "\n",
    "print(latex(coxkan_formula))\n",
    "\n",
    "{k:v for k,v in list(results['CoxKAN']['Symbolic']['terms_std'].items())[:10]}"
   ]
  },
  {
   "cell_type": "markdown",
   "metadata": {},
   "source": [
    "\n",
    "\\begin{equation}\n",
    "\\begin{split}\n",
    "\\hat{\\theta}_{KAN} = \n",
    "& \\, - 0.2 \\cdot \\text{(1p19q arm codeletion)} \\quad (\\sigma=0.19) \\, \\\\\n",
    "& +e^{-0.2(-0.6 \\cdot (\\text{10q}_{CNV}) - 1)^2} \\quad (\\sigma=0.19) \\, \\\\\n",
    "& -0.2 \\cdot \\text{IDH}_{mut} \\quad (\\sigma=0.17) \\, \\\\\n",
    "& -0.06 \\tan(0.4 \\cdot \\text{CARD11}_{CNV} + 8) \\quad (\\sigma=0.16) \\, \\\\\n",
    "& -0.08 (0.6 \\cdot \\text{PTEN}_{CNV} + 1)^4 \\quad (\\sigma=0.14) \\, \\\\\n",
    "& -0.3 \\sin(3 \\cdot \\text{JAK2}_{CNV} - 5) \\quad (\\sigma=0.12) \\, \\\\\n",
    "& - 0.1 \\cdot \\text{CDKN2A}_{CNV} \\quad (\\sigma=0.12) \\, \\\\\n",
    "& -0.1 \\sin(9 \\cdot \\text{CDKN2B}_{CNV} - 4) \\quad (\\sigma=0.1) \\, \\\\\n",
    "& - 0.3 \\sin(9 \\cdot \\text{EGFR}_{CNV} + 0.8) \\quad (\\sigma=0.1) \\, \\\\\n",
    "& + \\text{less significant terms},\n",
    "\\end{split}\n",
    "\\end{equation}"
   ]
  },
  {
   "cell_type": "code",
   "execution_count": 13,
   "metadata": {},
   "outputs": [
    {
     "data": {
      "text/plain": [
       "'-0.0224*AACSP1_cnv + 0.0164*ACHE_rna - 0.1246*ACTG2_rna - 0.2214*ADAM6_rna + 0.0751*ADAMTS2_cnv + 0.0429*ADCYAP1_rna + 0.092*ADRB1_rna - 0.0548*AGR2_rna - 0.0251*AGT_rna - 0.0959*AGXT2_rna - 0.1538*ALPI_rna - 0.0033*ANKRD1_rna + 0.3331*APCDD1L_rna - 0.2505*AREG_rna - 0.2206*ARL10_cnv + 0.1533*ARPP21_rna - 0.2197*ART5_rna - 0.0648*ASAM_rna + 0.024*ATP13A4_rna - 0.1172*ATP6V0A4_rna - 0.1449*ATP6V0D2_rna + 0.002*ATP6V0E1_cnv - 0.0312*B4GALT7_cnv + 0.0237*BAI1_rna + 0.0231*BAP1_mut + 0.1301*BNC1_rna + 0.0571*BNIP1_cnv + 0.0605*BOD1_cnv - 0.0765*BSND_rna + 0.0571*BTNL3_cnv + 0.069*BTNL8_cnv + 0.0593*BTNL9_cnv + 0.0175*C11orf86_rna + 0.1499*C15orf59_rna + 0.0317*C17orf55_rna + 0.1591*C1QTNF3_rna + 0.1171*C4BPA_rna - 0.8872*C4orf7_rna - 0.0397*C8orf22_rna - 0.0622*CA1_rna - 0.1865*CALCR_rna + 0.0787*CANX_cnv - 0.2479*CAPN6_rna - 0.0093*CBY3_cnv + 0.0931*CCBE1_rna - 0.2213*CDH17_rna + 0.1271*CDH22_rna + 0.1433*CDHR2_cnv - 0.2913*CELF5_rna + 0.2208*CHRDL1_rna - 0.0214*CIDEC_rna + 0.2182*CILP_rna + 0.1701*CKMT1B_rna + 0.162*CLK4_cnv - 0.1557*CLTB_cnv + 0.0742*CNDP1_rna + 0.3043*CNOT6_cnv + 0.0826*CNTFR_rna - 0.0579*CNTN3_rna + 0.1968*CNTN6_rna - 0.7305*CNTNAP5_rna - 0.1227*COL10A1_rna - 0.0332*COL23A1_cnv + 0.0556*CPEB4_cnv - 0.0548*CPLX2_cnv + 0.5042*CPN2_rna - 0.0777*CREBRF_cnv + 0.1752*CRIP3_rna - 0.1728*CTC-338M12.4_cnv + 0.1243*CTSK_rna + 0.2309*CWH43_rna - 0.0195*CYP17A1_rna + 0.0424*CYP24A1_rna + 0.1945*CYP3A4_rna - 0.209*CYP3A7_rna + 0.0643*CYSLTR2_rna - 0.1244*DACT2_rna + 0.06*DAZ1_rna - 0.0924*DBN1_cnv - 0.0206*DDX41_cnv + 0.3406*DDX43_rna - 0.6943*DGKI_rna + 0.0642*DKK1_rna - 0.0023*DKK2_rna - 0.1426*DMRT2_rna + 0.056*DOK3_cnv - 0.103*DPF3_rna + 0.0824*DRD1_cnv - 0.1237*DUSP1_cnv + 0.0897*EEF1A2_rna - 0.0563*EIF4E1B_cnv + 0.2208*EPHA10_rna + 0.0073*ERGIC1_cnv - 0.0874*EYA1_rna + 0.2451*F10_rna + 0.0965*F12_cnv + 0.017*F2RL2_rna - 0.1115*FAF2_cnv + 0.1404*FAM101A_rna - 0.2333*FAM135B_rna + 0.1832*FAM153A_cnv + 0.132*FAM153B_cnv - 0.0896*FAM193B_cnv + 0.0887*FAM196B_rna - 0.0082*FAM83F_rna + 0.1909*FBXL21_rna + 0.2954*FGA_rna - 0.5178*FGB_rna + 0.0572*FGFR4_cnv + 0.0866*FGG_rna - 0.0605*FLT4_cnv + 0.1171*FNDC1_rna - 0.0971*FNDC5_rna + 0.0794*GABRB2_rna - 0.1792*GCGR_rna - 0.066*GFPT2_cnv - 0.0069*GLB1L3_rna - 0.0499*GLRB_rna + 0.1821*GPR109B_rna + 0.0389*GPRIN1_cnv + 0.0127*GPX2_rna + 0.1231*GRK6_cnv + 0.0054*GRM6_cnv + 0.1673*GUCY1B2_rna + 0.0774*GYG2_rna - 0.1744*H19_rna - 0.2079*HABP2_rna - 0.3161*HAGHL_rna - 0.0293*HBG1_rna + 0.0363*HEIH_cnv - 0.0677*HIGD2A_cnv - 0.1828*HK3_cnv - 0.0333*HMGA2_rna + 0.0348*HNRNPAB_cnv - 0.1093*HNRNPH1_cnv - 0.0457*HOXB13_rna - 0.1591*HRH2_cnv + 0.0726*IGDCC4_rna - 0.0687*IGJ_rna - 0.0971*IGLON5_rna + 0.1483*IGSF9B_rna + 0.2626*IL1R2_rna + 0.1183*IL6_rna - 0.095*ISM2_rna - 0.1673*ITGB1BP3_rna + 0.2687*KCNIP1_rna + 0.1401*KDM5C_mut + 0.0357*KIAA1191_cnv + 0.0397*KIAA1199_rna - 0.032*KLB_rna + 0.0636*KRT17_rna + 0.0207*KRT20_rna + 0.0241*LECT1_rna - 0.2631*LGI3_rna - 0.1562*LINC00847_cnv - 0.1573*LIX1_rna + 0.0074*LMAN2_cnv + 0.0224*LOC100268168_cnv - 0.1809*LOC100507387_cnv + 0.0352*LOC100996385_cnv + 0.1967*LOC101928445_cnv - 0.2359*LOC153328_rna + 0.135*LOC202181_cnv + 0.2323*LOC284749_rna - 0.2275*LOC285593_cnv + 0.0386*LOC388387_rna - 0.2036*LOC389493_rna - 0.0879*LOC728554_cnv - 0.0616*LRG1_rna - 0.0592*LRRC15_rna + 0.3604*LRRC4C_rna + 0.2834*LTC4S_cnv + 0.1458*LUM_rna - 0.0162*MAML1_cnv + 0.1965*MAPK9_cnv + 0.198*MEG3_rna - 0.182*MEGF11_rna + 0.017*MGAT1_cnv - 0.0006*MGAT4B_cnv + 0.1928*MMP1_rna + 0.1316*MMRN1_rna + 0.2565*MS4A1_rna - 0.1471*MSLN_rna + 0.0422*MSX2_cnv + 0.0313*MT1A_rna + 0.4277*MT1X_rna - 0.0491*MTOR_mut - 0.0508*MXD3_cnv - 0.2699*MYL3_rna + 0.1636*N4BP3_cnv - 0.0276*NCAM1_rna - 0.001*NECAB2_rna + 0.0776*NEURL1B_cnv + 0.06*NFKBIZ_rna + 0.0004*NHP2_cnv - 0.0269*NKX2-5_cnv - 0.1362*NOP16_cnv + 0.0075*NR0B2_rna - 0.095*NR4A1_rna - 0.0471*NSD1_cnv + 0.2042*NXF2_rna - 0.0839*OCA2_rna - 0.1789*ONECUT2_rna - 0.2222*OPCML_rna - 0.0819*OR2V1_cnv - 0.0512*OR2V2_cnv + 0.0692*OR2Y1_cnv - 0.1246*PACRG_rna - 0.1796*PADI3_rna - 0.0626*PBRM1_mut - 0.0428*PCDHGA11_rna - 0.0114*PCDHGA5_rna - 0.2983*PCDHGB1_rna - 0.095*PDLIM7_cnv - 0.0933*PDZRN4_rna - 0.0603*PFN3_cnv - 0.1106*PGA3_rna - 0.139*PHYKPL_cnv + 0.2111*PIP_rna + 0.1269*PITX2_rna - 0.0074*PLA2G4F_rna + 0.2361*PON3_rna - 0.0824*PRELID1_cnv - 0.0631*PRELP_rna + 0.9621*PRG4_rna - 0.0356*PRKY_rna - 0.1436*PROM1_rna - 0.0325*PROP1_cnv + 0.2052*PRR7-AS1_cnv - 0.0078*PRR7_cnv + 0.1124*PTPRN_rna + 0.2861*RAB24_cnv - 0.097*RASGEF1C_cnv + 0.0936*RGS14_cnv + 0.1822*RGS9_rna - 0.1682*RHBG_rna - 0.0409*RIC3_rna - 0.1114*RMND5B_cnv + 0.0239*RNF130_cnv - 0.0274*RNF44_cnv + 0.3055*RPL26L1_cnv + 0.1896*RPS27_rna + 0.0953*RTL1_rna - 0.0302*RUFY1_cnv + 0.0241*SALL3_rna - 0.1456*SCGB1D2_rna - 0.001*SCGB3A1_cnv - 0.0903*SCN3A_rna - 0.091*SCUBE1_rna - 0.2916*SEPT3_rna + 0.0523*SETD2_mut + 0.0499*SFTPB_rna - 0.2184*SFXN1_cnv + 0.0687*SH3PXD2B_cnv - 0.1138*SHISA9_rna - 0.1489*SILV_rna - 0.0397*SIMC1_cnv + 0.0522*SLC13A1_rna - 0.0998*SLC1A6_rna + 0.4093*SLC1A7_rna + 0.1325*SLC34A1_cnv + 0.1587*SLC38A4_rna + 0.2717*SLC4A3_rna + 0.1357*SLC5A8_rna + 0.217*SLC6A13_rna + 0.0011*SLC6A15_rna + 0.1079*SLITRK2_rna + 0.0607*SLN_rna - 0.1938*SNCB_cnv + 0.0659*SNORA74B_cnv - 0.1188*SNORD95_cnv + 0.037*SNORD96A_cnv + 0.2449*SPAG17_rna + 0.2072*SPINK1_rna - 0.0702*SQSTM1_cnv - 0.0126*ST8SIA6_rna - 0.06*STC2_cnv + 0.0609*STK32A_rna + 0.0733*SYNC_rna - 0.0927*SYT8_rna + 0.1499*TBC1D9B_cnv - 0.2601*TCHH_rna - 0.0847*TDRD9_rna - 0.0038*THOC3_cnv - 0.0974*THPO_rna - 0.5766*TIPARP_rna + 0.1952*TM4SF4_rna + 0.0942*TMED9_cnv + 0.0479*TMEM130_rna - 0.1783*TMEM132D_rna + 0.3513*TMEM195_rna - 0.0665*TMSB15A_rna - 0.0354*TMSB4Y_rna - 0.1321*TNNT1_rna - 0.1711*TNN_rna + 0.0259*TRIM15_rna - 0.0668*TRIM29_rna - 0.0096*TRIM41_cnv - 0.1857*TRIM52-AS1_cnv + 0.0329*TRIM52_cnv + 0.0264*TRIM7_cnv - 0.1017*TSPAN17_cnv + 0.0249*TTLL6_rna + 0.3102*TUBA3E_rna - 0.0465*TUBB3_rna - 0.0234*TUBB4_rna - 0.0276*UBTD2_cnv + 0.0328*UGT1A10_rna - 0.0698*UGT1A7_rna - 0.1449*UGT2B10_rna - 0.0612*UGT3A1_rna + 0.098*UGT3A2_rna - 0.1282*UIMC1_cnv - 0.0283*UNC5A_cnv - 0.1393*VHL_mut - 0.053*VSTM2L_rna - 0.1912*VWA5B1_rna + 0.2082*WFDC5_rna - 0.4053*WNT2B_rna - 0.2732*XDH_rna + 0.1678*XIST_rna + 0.1123*YBX2_rna + 0.0092*ZFP2_cnv + 0.0132*ZFP62_cnv - 0.0271*ZMAT4_rna + 0.1512*ZNF346_cnv - 0.0236*ZNF354A_cnv + 0.0932*ZNF354B_cnv - 0.1786*ZNF354C_cnv - 0.0975*ZNF454_cnv + 0.0424*ZNF879_cnv - 0.0919*ZYG11A_rna + 0.2018*(1 - 0.1239*ACTG2_rna)**3 + 0.3419*(1 - 0.04*SLC1A6_rna)**4 + 0.0335*(-0.479*CALCA_rna - 1)**4 - 0.1256*(-0.0545*LOC389493_rna - 1)**4 + 0.7991*(-0.0351*LOC389493_rna - 1)**4 - 5.9532*sigmoid(4.7538 - 1.3468*TSPAN10_rna) - 0.0022*exp(0.8326*MTTP_rna) + 1.9645*sin(0.205*C6orf168_rna - 1.596) - 0.181*sin(0.3505*CXCL1_rna - 9.4) - 1.1222*sin(0.1787*CYP17A1_rna - 4.804) - 7.2341*sin(0.28*TSPAN10_rna + 1.6) - 6.3427*sin(0.2836*TSPAN10_rna + 1.576) + 0.1346*tan(0.1713*ACTG2_rna - 2.816) - 0.0235*tan(0.5319*CTSK_rna + 5.972) - 0.0115*tan(3.3999*CTSK_rna - 9.789) - 0.2501*tan(0.1676*CXCL1_rna - 6.0) - 0.0329*tan(0.3717*CXCL1_rna + 8.5998) - 0.1659*tan(0.1755*CYP24A1_rna + 8.996) - 0.0846*tan(0.1794*CYP24A1_rna - 6.612) - 0.5147*tan(0.1715*HHATL_rna + 6.7958) - 0.0651*tan(1.036*HHATL_rna - 6.4) + 0.0021*tan(1.292*KIAA1199_rna + 5.6) - 0.0459*tan(0.476*LRRN1_rna - 0.4) - 0.0644*tan(0.2205*NTSR1_rna - 0.1674) - 0.0493*tan(0.2243*NTSR1_rna + 9.2086) + 0.0422*tan(0.4218*PDZRN4_rna - 3.8097) - 0.0806*tan(0.468*THPO_rna - 0.4) + 0.0161*tan(0.9303*WFDC5_rna + 9.104) + 0.0762*cosh(0.62*CALCA_rna + 1.0) + 0.0307*cosh(0.8038*CALCA_rna + 0.7922) - 0.0057*cosh(1.5136*DAPL1_rna - 3.0) + 0.3625*tanh(0.204*LRRN1_rna - 5.8) + 27.9728*tanh(1.0286*MTTP_rna - 8.7998) - 0.0074*Abs(7.1399*FAM135B_rna + 3.4659) + 0.0372*Abs(1.2043*GYG2_rna - 8.6463) + 0.0091*Abs(1.6365*KCNIP1_rna - 9.388) - 2.1792*Abs(0.2041*TSPAN10_rna - 5.5141) + 0.0737*atan(0.3466*C17orf55_rna - 0.0305) - 0.2188*atan(1.5528*CXCL1_rna - 6.8623) + 0.2308*atanh(0.2085*AKR1B10_rna - 0.4154) + 63.8972 - 0.1554*exp(-1.7802*(1 - 0.4456*THPO_rna)**2) - 0.9181*exp(-23.04*(1 - 0.3625*CTSK_rna)**2) + 0.1177/(-0.076*CASP14_rna - 1)**4 + 0.5626/(-0.08*CASP14_rna - 1)**4 + 2.7655/(5.8366 - 0.4038*LCN2_rna) + 1.1574/(5.6841 - 0.3917*LCN2_rna) + 0.0009/(1 - 0.1342*NTSR1_rna)**3 - 0.0093/(1 - 0.1348*NTSR1_rna)**3 + 0.21/(1 - 0.0763*MTTP_rna)**3 - 0.2823/(1 - 0.1002*MTTP_rna)**2 + 0.3821/sqrt(1 - 0.066*LCN2_rna) - 0.0025/(1 - 0.0701*LCN2_rna)**3 - 0.0363/(1 - 0.1557*HHATL_rna)**3 + 0.0866/(1 - 0.0719*CYP17A1_rna)**3 - 0.624/(1 - 0.06*CASP14_rna)**4 + 0.0005/(1 - 0.0482*C6orf168_rna)**4 - 0.0883/(1 - 0.0484*C6orf168_rna)**2 - 0.0009/(1 - 0.1521*AKR1B10_rna)**2 - 0.8995/(1 - 0.0555*ACTG2_rna)**2'"
      ]
     },
     "metadata": {},
     "output_type": "display_data"
    },
    {
     "name": "stdout",
     "output_type": "stream",
     "text": [
      "\\mathtt{\\text{-0.0224*AACSP1\\_cnv + 0.0164*ACHE\\_rna - 0.1246*ACTG2\\_rna - 0.2214*ADAM6\\_rna + 0.0751*ADAMTS2\\_cnv + 0.0429*ADCYAP1\\_rna + 0.092*ADRB1\\_rna - 0.0548*AGR2\\_rna - 0.0251*AGT\\_rna - 0.0959*AGXT2\\_rna - 0.1538*ALPI\\_rna - 0.0033*ANKRD1\\_rna + 0.3331*APCDD1L\\_rna - 0.2505*AREG\\_rna - 0.2206*ARL10\\_cnv + 0.1533*ARPP21\\_rna - 0.2197*ART5\\_rna - 0.0648*ASAM\\_rna + 0.024*ATP13A4\\_rna - 0.1172*ATP6V0A4\\_rna - 0.1449*ATP6V0D2\\_rna + 0.002*ATP6V0E1\\_cnv - 0.0312*B4GALT7\\_cnv + 0.0237*BAI1\\_rna + 0.0231*BAP1\\_mut + 0.1301*BNC1\\_rna + 0.0571*BNIP1\\_cnv + 0.0605*BOD1\\_cnv - 0.0765*BSND\\_rna + 0.0571*BTNL3\\_cnv + 0.069*BTNL8\\_cnv + 0.0593*BTNL9\\_cnv + 0.0175*C11orf86\\_rna + 0.1499*C15orf59\\_rna + 0.0317*C17orf55\\_rna + 0.1591*C1QTNF3\\_rna + 0.1171*C4BPA\\_rna - 0.8872*C4orf7\\_rna - 0.0397*C8orf22\\_rna - 0.0622*CA1\\_rna - 0.1865*CALCR\\_rna + 0.0787*CANX\\_cnv - 0.2479*CAPN6\\_rna - 0.0093*CBY3\\_cnv + 0.0931*CCBE1\\_rna - 0.2213*CDH17\\_rna + 0.1271*CDH22\\_rna + 0.1433*CDHR2\\_cnv - 0.2913*CELF5\\_rna + 0.2208*CHRDL1\\_rna - 0.0214*CIDEC\\_rna + 0.2182*CILP\\_rna + 0.1701*CKMT1B\\_rna + 0.162*CLK4\\_cnv - 0.1557*CLTB\\_cnv + 0.0742*CNDP1\\_rna + 0.3043*CNOT6\\_cnv + 0.0826*CNTFR\\_rna - 0.0579*CNTN3\\_rna + 0.1968*CNTN6\\_rna - 0.7305*CNTNAP5\\_rna - 0.1227*COL10A1\\_rna - 0.0332*COL23A1\\_cnv + 0.0556*CPEB4\\_cnv - 0.0548*CPLX2\\_cnv + 0.5042*CPN2\\_rna - 0.0777*CREBRF\\_cnv + 0.1752*CRIP3\\_rna - 0.1728*CTC-338M12.4\\_cnv + 0.1243*CTSK\\_rna + 0.2309*CWH43\\_rna - 0.0195*CYP17A1\\_rna + 0.0424*CYP24A1\\_rna + 0.1945*CYP3A4\\_rna - 0.209*CYP3A7\\_rna + 0.0643*CYSLTR2\\_rna - 0.1244*DACT2\\_rna + 0.06*DAZ1\\_rna - 0.0924*DBN1\\_cnv - 0.0206*DDX41\\_cnv + 0.3406*DDX43\\_rna - 0.6943*DGKI\\_rna + 0.0642*DKK1\\_rna - 0.0023*DKK2\\_rna - 0.1426*DMRT2\\_rna + 0.056*DOK3\\_cnv - 0.103*DPF3\\_rna + 0.0824*DRD1\\_cnv - 0.1237*DUSP1\\_cnv + 0.0897*EEF1A2\\_rna - 0.0563*EIF4E1B\\_cnv + 0.2208*EPHA10\\_rna + 0.0073*ERGIC1\\_cnv - 0.0874*EYA1\\_rna + 0.2451*F10\\_rna + 0.0965*F12\\_cnv + 0.017*F2RL2\\_rna - 0.1115*FAF2\\_cnv + 0.1404*FAM101A\\_rna - 0.2333*FAM135B\\_rna + 0.1832*FAM153A\\_cnv + 0.132*FAM153B\\_cnv - 0.0896*FAM193B\\_cnv + 0.0887*FAM196B\\_rna - 0.0082*FAM83F\\_rna + 0.1909*FBXL21\\_rna + 0.2954*FGA\\_rna - 0.5178*FGB\\_rna + 0.0572*FGFR4\\_cnv + 0.0866*FGG\\_rna - 0.0605*FLT4\\_cnv + 0.1171*FNDC1\\_rna - 0.0971*FNDC5\\_rna + 0.0794*GABRB2\\_rna - 0.1792*GCGR\\_rna - 0.066*GFPT2\\_cnv - 0.0069*GLB1L3\\_rna - 0.0499*GLRB\\_rna + 0.1821*GPR109B\\_rna + 0.0389*GPRIN1\\_cnv + 0.0127*GPX2\\_rna + 0.1231*GRK6\\_cnv + 0.0054*GRM6\\_cnv + 0.1673*GUCY1B2\\_rna + 0.0774*GYG2\\_rna - 0.1744*H19\\_rna - 0.2079*HABP2\\_rna - 0.3161*HAGHL\\_rna - 0.0293*HBG1\\_rna + 0.0363*HEIH\\_cnv - 0.0677*HIGD2A\\_cnv - 0.1828*HK3\\_cnv - 0.0333*HMGA2\\_rna + 0.0348*HNRNPAB\\_cnv - 0.1093*HNRNPH1\\_cnv - 0.0457*HOXB13\\_rna - 0.1591*HRH2\\_cnv + 0.0726*IGDCC4\\_rna - 0.0687*IGJ\\_rna - 0.0971*IGLON5\\_rna + 0.1483*IGSF9B\\_rna + 0.2626*IL1R2\\_rna + 0.1183*IL6\\_rna - 0.095*ISM2\\_rna - 0.1673*ITGB1BP3\\_rna + 0.2687*KCNIP1\\_rna + 0.1401*KDM5C\\_mut + 0.0357*KIAA1191\\_cnv + 0.0397*KIAA1199\\_rna - 0.032*KLB\\_rna + 0.0636*KRT17\\_rna + 0.0207*KRT20\\_rna + 0.0241*LECT1\\_rna - 0.2631*LGI3\\_rna - 0.1562*LINC00847\\_cnv - 0.1573*LIX1\\_rna + 0.0074*LMAN2\\_cnv + 0.0224*LOC100268168\\_cnv - 0.1809*LOC100507387\\_cnv + 0.0352*LOC100996385\\_cnv + 0.1967*LOC101928445\\_cnv - 0.2359*LOC153328\\_rna + 0.135*LOC202181\\_cnv + 0.2323*LOC284749\\_rna - 0.2275*LOC285593\\_cnv + 0.0386*LOC388387\\_rna - 0.2036*LOC389493\\_rna - 0.0879*LOC728554\\_cnv - 0.0616*LRG1\\_rna - 0.0592*LRRC15\\_rna + 0.3604*LRRC4C\\_rna + 0.2834*LTC4S\\_cnv + 0.1458*LUM\\_rna - 0.0162*MAML1\\_cnv + 0.1965*MAPK9\\_cnv + 0.198*MEG3\\_rna - 0.182*MEGF11\\_rna + 0.017*MGAT1\\_cnv - 0.0006*MGAT4B\\_cnv + 0.1928*MMP1\\_rna + 0.1316*MMRN1\\_rna + 0.2565*MS4A1\\_rna - 0.1471*MSLN\\_rna + 0.0422*MSX2\\_cnv + 0.0313*MT1A\\_rna + 0.4277*MT1X\\_rna - 0.0491*MTOR\\_mut - 0.0508*MXD3\\_cnv - 0.2699*MYL3\\_rna + 0.1636*N4BP3\\_cnv - 0.0276*NCAM1\\_rna - 0.001*NECAB2\\_rna + 0.0776*NEURL1B\\_cnv + 0.06*NFKBIZ\\_rna + 0.0004*NHP2\\_cnv - 0.0269*NKX2-5\\_cnv - 0.1362*NOP16\\_cnv + 0.0075*NR0B2\\_rna - 0.095*NR4A1\\_rna - 0.0471*NSD1\\_cnv + 0.2042*NXF2\\_rna - 0.0839*OCA2\\_rna - 0.1789*ONECUT2\\_rna - 0.2222*OPCML\\_rna - 0.0819*OR2V1\\_cnv - 0.0512*OR2V2\\_cnv + 0.0692*OR2Y1\\_cnv - 0.1246*PACRG\\_rna - 0.1796*PADI3\\_rna - 0.0626*PBRM1\\_mut - 0.0428*PCDHGA11\\_rna - 0.0114*PCDHGA5\\_rna - 0.2983*PCDHGB1\\_rna - 0.095*PDLIM7\\_cnv - 0.0933*PDZRN4\\_rna - 0.0603*PFN3\\_cnv - 0.1106*PGA3\\_rna - 0.139*PHYKPL\\_cnv + 0.2111*PIP\\_rna + 0.1269*PITX2\\_rna - 0.0074*PLA2G4F\\_rna + 0.2361*PON3\\_rna - 0.0824*PRELID1\\_cnv - 0.0631*PRELP\\_rna + 0.9621*PRG4\\_rna - 0.0356*PRKY\\_rna - 0.1436*PROM1\\_rna - 0.0325*PROP1\\_cnv + 0.2052*PRR7-AS1\\_cnv - 0.0078*PRR7\\_cnv + 0.1124*PTPRN\\_rna + 0.2861*RAB24\\_cnv - 0.097*RASGEF1C\\_cnv + 0.0936*RGS14\\_cnv + 0.1822*RGS9\\_rna - 0.1682*RHBG\\_rna - 0.0409*RIC3\\_rna - 0.1114*RMND5B\\_cnv + 0.0239*RNF130\\_cnv - 0.0274*RNF44\\_cnv + 0.3055*RPL26L1\\_cnv + 0.1896*RPS27\\_rna + 0.0953*RTL1\\_rna - 0.0302*RUFY1\\_cnv + 0.0241*SALL3\\_rna - 0.1456*SCGB1D2\\_rna - 0.001*SCGB3A1\\_cnv - 0.0903*SCN3A\\_rna - 0.091*SCUBE1\\_rna - 0.2916*SEPT3\\_rna + 0.0523*SETD2\\_mut + 0.0499*SFTPB\\_rna - 0.2184*SFXN1\\_cnv + 0.0687*SH3PXD2B\\_cnv - 0.1138*SHISA9\\_rna - 0.1489*SILV\\_rna - 0.0397*SIMC1\\_cnv + 0.0522*SLC13A1\\_rna - 0.0998*SLC1A6\\_rna + 0.4093*SLC1A7\\_rna + 0.1325*SLC34A1\\_cnv + 0.1587*SLC38A4\\_rna + 0.2717*SLC4A3\\_rna + 0.1357*SLC5A8\\_rna + 0.217*SLC6A13\\_rna + 0.0011*SLC6A15\\_rna + 0.1079*SLITRK2\\_rna + 0.0607*SLN\\_rna - 0.1938*SNCB\\_cnv + 0.0659*SNORA74B\\_cnv - 0.1188*SNORD95\\_cnv + 0.037*SNORD96A\\_cnv + 0.2449*SPAG17\\_rna + 0.2072*SPINK1\\_rna - 0.0702*SQSTM1\\_cnv - 0.0126*ST8SIA6\\_rna - 0.06*STC2\\_cnv + 0.0609*STK32A\\_rna + 0.0733*SYNC\\_rna - 0.0927*SYT8\\_rna + 0.1499*TBC1D9B\\_cnv - 0.2601*TCHH\\_rna - 0.0847*TDRD9\\_rna - 0.0038*THOC3\\_cnv - 0.0974*THPO\\_rna - 0.5766*TIPARP\\_rna + 0.1952*TM4SF4\\_rna + 0.0942*TMED9\\_cnv + 0.0479*TMEM130\\_rna - 0.1783*TMEM132D\\_rna + 0.3513*TMEM195\\_rna - 0.0665*TMSB15A\\_rna - 0.0354*TMSB4Y\\_rna - 0.1321*TNNT1\\_rna - 0.1711*TNN\\_rna + 0.0259*TRIM15\\_rna - 0.0668*TRIM29\\_rna - 0.0096*TRIM41\\_cnv - 0.1857*TRIM52-AS1\\_cnv + 0.0329*TRIM52\\_cnv + 0.0264*TRIM7\\_cnv - 0.1017*TSPAN17\\_cnv + 0.0249*TTLL6\\_rna + 0.3102*TUBA3E\\_rna - 0.0465*TUBB3\\_rna - 0.0234*TUBB4\\_rna - 0.0276*UBTD2\\_cnv + 0.0328*UGT1A10\\_rna - 0.0698*UGT1A7\\_rna - 0.1449*UGT2B10\\_rna - 0.0612*UGT3A1\\_rna + 0.098*UGT3A2\\_rna - 0.1282*UIMC1\\_cnv - 0.0283*UNC5A\\_cnv - 0.1393*VHL\\_mut - 0.053*VSTM2L\\_rna - 0.1912*VWA5B1\\_rna + 0.2082*WFDC5\\_rna - 0.4053*WNT2B\\_rna - 0.2732*XDH\\_rna + 0.1678*XIST\\_rna + 0.1123*YBX2\\_rna + 0.0092*ZFP2\\_cnv + 0.0132*ZFP62\\_cnv - 0.0271*ZMAT4\\_rna + 0.1512*ZNF346\\_cnv - 0.0236*ZNF354A\\_cnv + 0.0932*ZNF354B\\_cnv - 0.1786*ZNF354C\\_cnv - 0.0975*ZNF454\\_cnv + 0.0424*ZNF879\\_cnv - 0.0919*ZYG11A\\_rna + 0.2018*(1 - 0.1239*ACTG2\\_rna)**3 + 0.3419*(1 - 0.04*SLC1A6\\_rna)**4 + 0.0335*(-0.479*CALCA\\_rna - 1)**4 - 0.1256*(-0.0545*LOC389493\\_rna - 1)**4 + 0.7991*(-0.0351*LOC389493\\_rna - 1)**4 - 5.9532*sigmoid(4.7538 - 1.3468*TSPAN10\\_rna) - 0.0022*exp(0.8326*MTTP\\_rna) + 1.9645*sin(0.205*C6orf168\\_rna - 1.596) - 0.181*sin(0.3505*CXCL1\\_rna - 9.4) - 1.1222*sin(0.1787*CYP17A1\\_rna - 4.804) - 7.2341*sin(0.28*TSPAN10\\_rna + 1.6) - 6.3427*sin(0.2836*TSPAN10\\_rna + 1.576) + 0.1346*tan(0.1713*ACTG2\\_rna - 2.816) - 0.0235*tan(0.5319*CTSK\\_rna + 5.972) - 0.0115*tan(3.3999*CTSK\\_rna - 9.789) - 0.2501*tan(0.1676*CXCL1\\_rna - 6.0) - 0.0329*tan(0.3717*CXCL1\\_rna + 8.5998) - 0.1659*tan(0.1755*CYP24A1\\_rna + 8.996) - 0.0846*tan(0.1794*CYP24A1\\_rna - 6.612) - 0.5147*tan(0.1715*HHATL\\_rna + 6.7958) - 0.0651*tan(1.036*HHATL\\_rna - 6.4) + 0.0021*tan(1.292*KIAA1199\\_rna + 5.6) - 0.0459*tan(0.476*LRRN1\\_rna - 0.4) - 0.0644*tan(0.2205*NTSR1\\_rna - 0.1674) - 0.0493*tan(0.2243*NTSR1\\_rna + 9.2086) + 0.0422*tan(0.4218*PDZRN4\\_rna - 3.8097) - 0.0806*tan(0.468*THPO\\_rna - 0.4) + 0.0161*tan(0.9303*WFDC5\\_rna + 9.104) + 0.0762*cosh(0.62*CALCA\\_rna + 1.0) + 0.0307*cosh(0.8038*CALCA\\_rna + 0.7922) - 0.0057*cosh(1.5136*DAPL1\\_rna - 3.0) + 0.3625*tanh(0.204*LRRN1\\_rna - 5.8) + 27.9728*tanh(1.0286*MTTP\\_rna - 8.7998) - 0.0074*Abs(7.1399*FAM135B\\_rna + 3.4659) + 0.0372*Abs(1.2043*GYG2\\_rna - 8.6463) + 0.0091*Abs(1.6365*KCNIP1\\_rna - 9.388) - 2.1792*Abs(0.2041*TSPAN10\\_rna - 5.5141) + 0.0737*atan(0.3466*C17orf55\\_rna - 0.0305) - 0.2188*atan(1.5528*CXCL1\\_rna - 6.8623) + 0.2308*atanh(0.2085*AKR1B10\\_rna - 0.4154) + 63.8972 - 0.1554*exp(-1.7802*(1 - 0.4456*THPO\\_rna)**2) - 0.9181*exp(-23.04*(1 - 0.3625*CTSK\\_rna)**2) + 0.1177/(-0.076*CASP14\\_rna - 1)**4 + 0.5626/(-0.08*CASP14\\_rna - 1)**4 + 2.7655/(5.8366 - 0.4038*LCN2\\_rna) + 1.1574/(5.6841 - 0.3917*LCN2\\_rna) + 0.0009/(1 - 0.1342*NTSR1\\_rna)**3 - 0.0093/(1 - 0.1348*NTSR1\\_rna)**3 + 0.21/(1 - 0.0763*MTTP\\_rna)**3 - 0.2823/(1 - 0.1002*MTTP\\_rna)**2 + 0.3821/sqrt(1 - 0.066*LCN2\\_rna) - 0.0025/(1 - 0.0701*LCN2\\_rna)**3 - 0.0363/(1 - 0.1557*HHATL\\_rna)**3 + 0.0866/(1 - 0.0719*CYP17A1\\_rna)**3 - 0.624/(1 - 0.06*CASP14\\_rna)**4 + 0.0005/(1 - 0.0482*C6orf168\\_rna)**4 - 0.0883/(1 - 0.0484*C6orf168\\_rna)**2 - 0.0009/(1 - 0.1521*AKR1B10\\_rna)**2 - 0.8995/(1 - 0.0555*ACTG2\\_rna)**2}}\n"
     ]
    }
   ],
   "source": [
    "exp_name = 'TCGA-KIRC'\n",
    "results = pickle.load(open(f'checkpoints/{exp_name}/results.pkl', 'rb'))\n",
    "\n",
    "coxkan_formula = results['CoxKAN']['Symbolic']['formula']\n",
    "display(coxkan_formula)\n",
    "\n",
    "print(latex(coxkan_formula))\n",
    "\n",
    "# {k:v for k,v in list(results['CoxKAN']['Symbolic']['terms_std'].items())[:10]}"
   ]
  },
  {
   "cell_type": "markdown",
   "metadata": {},
   "source": [
    "(The kirc terms were not auto-ranked so I re-implemented the equation).\n",
    "\n",
    "$$\n",
    "\\begin{equation}\n",
    "\\begin{split}\n",
    "\\hat{\\theta}_{KAN} = & + 0.43 \\cdot \\text{MT1X}_{rna} \\quad (\\sigma=0.42) \\, \\\\\n",
    "& +0.34 \\cdot \\text{DDX43}_{rna} \\quad (\\sigma=0.34) \\\\\n",
    "& +0.23 \\cdot \\text{CWH43}_{rna} \\quad (\\sigma=0.31) \\\\\n",
    "& +0.22 \\cdot \\text{CILP}_{RNA} \\quad (\\sigma=0.31) \\\\\n",
    "& -0.24 \\cdot \\text{LOC153328}_{RNA} \\quad (\\sigma=0.29) \\\\\n",
    "& -0.21 \\cdot \\text{CYP3A7}_{RNA} \\quad (\\sigma=0.28) \\\\\n",
    "& + \\text{less significant terms},\n",
    "\\end{split}\n",
    "\\end{equation}\n",
    "$$"
   ]
  }
 ],
 "metadata": {
  "kernelspec": {
   "display_name": "coxkan-env",
   "language": "python",
   "name": "python3"
  },
  "language_info": {
   "codemirror_mode": {
    "name": "ipython",
    "version": 3
   },
   "file_extension": ".py",
   "mimetype": "text/x-python",
   "name": "python",
   "nbconvert_exporter": "python",
   "pygments_lexer": "ipython3",
   "version": "3.12.4"
  }
 },
 "nbformat": 4,
 "nbformat_minor": 2
}
